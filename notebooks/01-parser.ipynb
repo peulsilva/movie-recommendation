{
 "cells": [
  {
   "cell_type": "code",
   "execution_count": 13,
   "metadata": {},
   "outputs": [],
   "source": [
    "%load_ext autoreload\n",
    "%autoreload 2"
   ]
  },
  {
   "cell_type": "code",
   "execution_count": 14,
   "metadata": {},
   "outputs": [],
   "source": [
    "import os\n",
    "if \"notebooks\" in os.getcwd():\n",
    "    os.chdir(\"..\")\n",
    "\n",
    "import numpy as np\n",
    "import pandas as pd\n",
    "from tqdm import tqdm\n",
    "\n",
    "import warnings\n",
    "warnings.filterwarnings(\"ignore\")\n",
    "from src.preprocessing.parser import parse_data"
   ]
  },
  {
   "cell_type": "code",
   "execution_count": 2,
   "metadata": {},
   "outputs": [],
   "source": [
    "all_data = pd.read_csv(\n",
    "    \"data/combined_data_1.txt\",\n",
    ")"
   ]
  },
  {
   "cell_type": "code",
   "execution_count": 24,
   "metadata": {},
   "outputs": [
    {
     "data": {
      "text/plain": [
       "'1:'"
      ]
     },
     "execution_count": 24,
     "metadata": {},
     "output_type": "execute_result"
    }
   ],
   "source": [
    "all_data.columns[0]"
   ]
  },
  {
   "cell_type": "code",
   "execution_count": 4,
   "metadata": {},
   "outputs": [],
   "source": [
    "movie_ratings_df = all_data\\\n",
    "    .reset_index()\\\n",
    "    .set_axis(['user_id', 'rating', 'date'], axis= 1)"
   ]
  },
  {
   "cell_type": "code",
   "execution_count": 5,
   "metadata": {},
   "outputs": [],
   "source": [
    "movie_id = movie_ratings_df[movie_ratings_df['rating'].isna()]\\\n",
    "    .user_id"
   ]
  },
  {
   "cell_type": "code",
   "execution_count": 6,
   "metadata": {},
   "outputs": [
    {
     "data": {
      "text/plain": [
       "547            2:\n",
       "693            3:\n",
       "2706           4:\n",
       "2849           5:\n",
       "3990           6:\n",
       "            ...  \n",
       "24046713    4495:\n",
       "24047328    4496:\n",
       "24056848    4497:\n",
       "24057563    4498:\n",
       "24057833    4499:\n",
       "Name: user_id, Length: 4498, dtype: object"
      ]
     },
     "execution_count": 6,
     "metadata": {},
     "output_type": "execute_result"
    }
   ],
   "source": [
    "movie_id"
   ]
  },
  {
   "cell_type": "code",
   "execution_count": 7,
   "metadata": {},
   "outputs": [
    {
     "name": "stderr",
     "output_type": "stream",
     "text": [
      "4498it [00:50, 88.62it/s] \n"
     ]
    }
   ],
   "source": [
    "last_idx = movie_id.index[0]\n",
    "complete_movie_ratings_list = []\n",
    "for idx, value in tqdm(movie_id.iteritems()):\n",
    "    if idx == movie_id.index[0] : \n",
    "        temp_df = movie_ratings_df.loc[0: idx]\n",
    "        temp_df['movie_id'] = '1'    \n",
    "    \n",
    "    else:\n",
    "        temp_df = movie_ratings_df.loc[last_idx: idx]\n",
    "    \n",
    "        temp_df['movie_id'] = temp_df.iloc[0]\\\n",
    "            ['user_id']\\\n",
    "            .replace(':', '')\n",
    "    temp_df = temp_df.dropna()\n",
    "\n",
    "    complete_movie_ratings_list.append(temp_df)\n",
    "    last_idx = idx\n"
   ]
  },
  {
   "cell_type": "code",
   "execution_count": 8,
   "metadata": {},
   "outputs": [],
   "source": [
    "features_df = pd.concat(complete_movie_ratings_list)"
   ]
  },
  {
   "cell_type": "code",
   "execution_count": 9,
   "metadata": {},
   "outputs": [
    {
     "data": {
      "text/html": [
       "<div>\n",
       "<style scoped>\n",
       "    .dataframe tbody tr th:only-of-type {\n",
       "        vertical-align: middle;\n",
       "    }\n",
       "\n",
       "    .dataframe tbody tr th {\n",
       "        vertical-align: top;\n",
       "    }\n",
       "\n",
       "    .dataframe thead th {\n",
       "        text-align: right;\n",
       "    }\n",
       "</style>\n",
       "<table border=\"1\" class=\"dataframe\">\n",
       "  <thead>\n",
       "    <tr style=\"text-align: right;\">\n",
       "      <th></th>\n",
       "      <th>user_id</th>\n",
       "      <th>rating</th>\n",
       "      <th>date</th>\n",
       "      <th>movie_id</th>\n",
       "    </tr>\n",
       "  </thead>\n",
       "  <tbody>\n",
       "    <tr>\n",
       "      <th>0</th>\n",
       "      <td>1488844</td>\n",
       "      <td>3.0</td>\n",
       "      <td>2005-09-06</td>\n",
       "      <td>1</td>\n",
       "    </tr>\n",
       "    <tr>\n",
       "      <th>1</th>\n",
       "      <td>822109</td>\n",
       "      <td>5.0</td>\n",
       "      <td>2005-05-13</td>\n",
       "      <td>1</td>\n",
       "    </tr>\n",
       "    <tr>\n",
       "      <th>2</th>\n",
       "      <td>885013</td>\n",
       "      <td>4.0</td>\n",
       "      <td>2005-10-19</td>\n",
       "      <td>1</td>\n",
       "    </tr>\n",
       "    <tr>\n",
       "      <th>3</th>\n",
       "      <td>30878</td>\n",
       "      <td>4.0</td>\n",
       "      <td>2005-12-26</td>\n",
       "      <td>1</td>\n",
       "    </tr>\n",
       "    <tr>\n",
       "      <th>4</th>\n",
       "      <td>823519</td>\n",
       "      <td>3.0</td>\n",
       "      <td>2004-05-03</td>\n",
       "      <td>1</td>\n",
       "    </tr>\n",
       "    <tr>\n",
       "      <th>...</th>\n",
       "      <td>...</td>\n",
       "      <td>...</td>\n",
       "      <td>...</td>\n",
       "      <td>...</td>\n",
       "    </tr>\n",
       "    <tr>\n",
       "      <th>24057828</th>\n",
       "      <td>1184587</td>\n",
       "      <td>2.0</td>\n",
       "      <td>2004-11-02</td>\n",
       "      <td>4498</td>\n",
       "    </tr>\n",
       "    <tr>\n",
       "      <th>24057829</th>\n",
       "      <td>2349702</td>\n",
       "      <td>3.0</td>\n",
       "      <td>2002-07-22</td>\n",
       "      <td>4498</td>\n",
       "    </tr>\n",
       "    <tr>\n",
       "      <th>24057830</th>\n",
       "      <td>1174376</td>\n",
       "      <td>3.0</td>\n",
       "      <td>2005-03-03</td>\n",
       "      <td>4498</td>\n",
       "    </tr>\n",
       "    <tr>\n",
       "      <th>24057831</th>\n",
       "      <td>1305108</td>\n",
       "      <td>3.0</td>\n",
       "      <td>2002-02-03</td>\n",
       "      <td>4498</td>\n",
       "    </tr>\n",
       "    <tr>\n",
       "      <th>24057832</th>\n",
       "      <td>1766524</td>\n",
       "      <td>2.0</td>\n",
       "      <td>2004-05-04</td>\n",
       "      <td>4498</td>\n",
       "    </tr>\n",
       "  </tbody>\n",
       "</table>\n",
       "<p>24053336 rows × 4 columns</p>\n",
       "</div>"
      ],
      "text/plain": [
       "          user_id  rating        date movie_id\n",
       "0         1488844     3.0  2005-09-06        1\n",
       "1          822109     5.0  2005-05-13        1\n",
       "2          885013     4.0  2005-10-19        1\n",
       "3           30878     4.0  2005-12-26        1\n",
       "4          823519     3.0  2004-05-03        1\n",
       "...           ...     ...         ...      ...\n",
       "24057828  1184587     2.0  2004-11-02     4498\n",
       "24057829  2349702     3.0  2002-07-22     4498\n",
       "24057830  1174376     3.0  2005-03-03     4498\n",
       "24057831  1305108     3.0  2002-02-03     4498\n",
       "24057832  1766524     2.0  2004-05-04     4498\n",
       "\n",
       "[24053336 rows x 4 columns]"
      ]
     },
     "execution_count": 9,
     "metadata": {},
     "output_type": "execute_result"
    }
   ],
   "source": [
    "features_df"
   ]
  },
  {
   "cell_type": "code",
   "execution_count": 25,
   "metadata": {},
   "outputs": [
    {
     "name": "stderr",
     "output_type": "stream",
     "text": [
      "4498it [00:51, 88.12it/s] \n"
     ]
    }
   ],
   "source": [
    "parsed = parse_data(\"data/combined_data_1.txt\")"
   ]
  },
  {
   "cell_type": "code",
   "execution_count": 26,
   "metadata": {},
   "outputs": [
    {
     "data": {
      "text/html": [
       "<div>\n",
       "<style scoped>\n",
       "    .dataframe tbody tr th:only-of-type {\n",
       "        vertical-align: middle;\n",
       "    }\n",
       "\n",
       "    .dataframe tbody tr th {\n",
       "        vertical-align: top;\n",
       "    }\n",
       "\n",
       "    .dataframe thead th {\n",
       "        text-align: right;\n",
       "    }\n",
       "</style>\n",
       "<table border=\"1\" class=\"dataframe\">\n",
       "  <thead>\n",
       "    <tr style=\"text-align: right;\">\n",
       "      <th></th>\n",
       "      <th>user_id</th>\n",
       "      <th>rating</th>\n",
       "      <th>date</th>\n",
       "      <th>movie_id</th>\n",
       "    </tr>\n",
       "  </thead>\n",
       "  <tbody>\n",
       "    <tr>\n",
       "      <th>0</th>\n",
       "      <td>1488844</td>\n",
       "      <td>3.0</td>\n",
       "      <td>2005-09-06</td>\n",
       "      <td>1</td>\n",
       "    </tr>\n",
       "    <tr>\n",
       "      <th>1</th>\n",
       "      <td>822109</td>\n",
       "      <td>5.0</td>\n",
       "      <td>2005-05-13</td>\n",
       "      <td>1</td>\n",
       "    </tr>\n",
       "    <tr>\n",
       "      <th>2</th>\n",
       "      <td>885013</td>\n",
       "      <td>4.0</td>\n",
       "      <td>2005-10-19</td>\n",
       "      <td>1</td>\n",
       "    </tr>\n",
       "    <tr>\n",
       "      <th>3</th>\n",
       "      <td>30878</td>\n",
       "      <td>4.0</td>\n",
       "      <td>2005-12-26</td>\n",
       "      <td>1</td>\n",
       "    </tr>\n",
       "    <tr>\n",
       "      <th>4</th>\n",
       "      <td>823519</td>\n",
       "      <td>3.0</td>\n",
       "      <td>2004-05-03</td>\n",
       "      <td>1</td>\n",
       "    </tr>\n",
       "    <tr>\n",
       "      <th>...</th>\n",
       "      <td>...</td>\n",
       "      <td>...</td>\n",
       "      <td>...</td>\n",
       "      <td>...</td>\n",
       "    </tr>\n",
       "    <tr>\n",
       "      <th>24057828</th>\n",
       "      <td>1184587</td>\n",
       "      <td>2.0</td>\n",
       "      <td>2004-11-02</td>\n",
       "      <td>4498</td>\n",
       "    </tr>\n",
       "    <tr>\n",
       "      <th>24057829</th>\n",
       "      <td>2349702</td>\n",
       "      <td>3.0</td>\n",
       "      <td>2002-07-22</td>\n",
       "      <td>4498</td>\n",
       "    </tr>\n",
       "    <tr>\n",
       "      <th>24057830</th>\n",
       "      <td>1174376</td>\n",
       "      <td>3.0</td>\n",
       "      <td>2005-03-03</td>\n",
       "      <td>4498</td>\n",
       "    </tr>\n",
       "    <tr>\n",
       "      <th>24057831</th>\n",
       "      <td>1305108</td>\n",
       "      <td>3.0</td>\n",
       "      <td>2002-02-03</td>\n",
       "      <td>4498</td>\n",
       "    </tr>\n",
       "    <tr>\n",
       "      <th>24057832</th>\n",
       "      <td>1766524</td>\n",
       "      <td>2.0</td>\n",
       "      <td>2004-05-04</td>\n",
       "      <td>4498</td>\n",
       "    </tr>\n",
       "  </tbody>\n",
       "</table>\n",
       "<p>24053336 rows × 4 columns</p>\n",
       "</div>"
      ],
      "text/plain": [
       "          user_id  rating        date movie_id\n",
       "0         1488844     3.0  2005-09-06        1\n",
       "1          822109     5.0  2005-05-13        1\n",
       "2          885013     4.0  2005-10-19        1\n",
       "3           30878     4.0  2005-12-26        1\n",
       "4          823519     3.0  2004-05-03        1\n",
       "...           ...     ...         ...      ...\n",
       "24057828  1184587     2.0  2004-11-02     4498\n",
       "24057829  2349702     3.0  2002-07-22     4498\n",
       "24057830  1174376     3.0  2005-03-03     4498\n",
       "24057831  1305108     3.0  2002-02-03     4498\n",
       "24057832  1766524     2.0  2004-05-04     4498\n",
       "\n",
       "[24053336 rows x 4 columns]"
      ]
     },
     "execution_count": 26,
     "metadata": {},
     "output_type": "execute_result"
    }
   ],
   "source": [
    "parsed"
   ]
  },
  {
   "cell_type": "code",
   "execution_count": 28,
   "metadata": {},
   "outputs": [
    {
     "data": {
      "text/plain": [
       "user_id     24053336\n",
       "rating      24053336\n",
       "date        24053336\n",
       "movie_id    24053336\n",
       "dtype: int64"
      ]
     },
     "execution_count": 28,
     "metadata": {},
     "output_type": "execute_result"
    }
   ],
   "source": [
    "(parsed == features_df).sum()"
   ]
  },
  {
   "cell_type": "code",
   "execution_count": 29,
   "metadata": {},
   "outputs": [],
   "source": [
    "parsed.to_parquet(\"data/parsed/parsed_1.parquet\")"
   ]
  }
 ],
 "metadata": {
  "kernelspec": {
   "display_name": "base",
   "language": "python",
   "name": "python3"
  },
  "language_info": {
   "codemirror_mode": {
    "name": "ipython",
    "version": 3
   },
   "file_extension": ".py",
   "mimetype": "text/x-python",
   "name": "python",
   "nbconvert_exporter": "python",
   "pygments_lexer": "ipython3",
   "version": "3.9.12 (main, Apr  4 2022, 05:22:27) [MSC v.1916 64 bit (AMD64)]"
  },
  "orig_nbformat": 4,
  "vscode": {
   "interpreter": {
    "hash": "f08154012ddadd8e950e6e9e035c7a7b32c136e7647e9b7c77e02eb723a8bedb"
   }
  }
 },
 "nbformat": 4,
 "nbformat_minor": 2
}
