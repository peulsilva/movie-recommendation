{
 "cells": [
  {
   "cell_type": "code",
   "execution_count": 1,
   "metadata": {},
   "outputs": [],
   "source": [
    "%load_ext autoreload\n",
    "%autoreload 2"
   ]
  },
  {
   "cell_type": "code",
   "execution_count": 76,
   "metadata": {},
   "outputs": [],
   "source": [
    "import os\n",
    "if \"notebooks\" in os.getcwd():\n",
    "    os.chdir(\"..\")\n",
    "\n",
    "import numpy as np\n",
    "import pandas as pd\n",
    "from tqdm import tqdm\n",
    "import seaborn as sns\n",
    "import matplotlib.pyplot as plt\n",
    "from pandas.api.types import CategoricalDtype\n",
    "\n",
    "import warnings\n",
    "warnings.filterwarnings(\"ignore\")\n",
    "from src.preprocessing.parser import parse_data\n",
    "from src.mapping import get_movie_id_name_map\n",
    "\n",
    "from scipy.sparse import csr_matrix, coo_matrix"
   ]
  },
  {
   "cell_type": "code",
   "execution_count": 3,
   "metadata": {},
   "outputs": [],
   "source": [
    "features = pd.read_parquet(\"data/parsed/parsed_1.parquet\")"
   ]
  },
  {
   "cell_type": "code",
   "execution_count": 36,
   "metadata": {},
   "outputs": [],
   "source": [
    "movie_titles= pd.read_csv(\n",
    "    \"data/movie_titles.csv\", \n",
    "    encoding=\"latin-1\",\n",
    "    on_bad_lines='skip',\n",
    "    names=[\"movie_id\", \"year\", \"name\"]\n",
    ")"
   ]
  },
  {
   "cell_type": "code",
   "execution_count": 37,
   "metadata": {},
   "outputs": [
    {
     "data": {
      "text/html": [
       "<div>\n",
       "<style scoped>\n",
       "    .dataframe tbody tr th:only-of-type {\n",
       "        vertical-align: middle;\n",
       "    }\n",
       "\n",
       "    .dataframe tbody tr th {\n",
       "        vertical-align: top;\n",
       "    }\n",
       "\n",
       "    .dataframe thead th {\n",
       "        text-align: right;\n",
       "    }\n",
       "</style>\n",
       "<table border=\"1\" class=\"dataframe\">\n",
       "  <thead>\n",
       "    <tr style=\"text-align: right;\">\n",
       "      <th></th>\n",
       "      <th>movie_id</th>\n",
       "      <th>year</th>\n",
       "      <th>name</th>\n",
       "    </tr>\n",
       "  </thead>\n",
       "  <tbody>\n",
       "    <tr>\n",
       "      <th>0</th>\n",
       "      <td>1</td>\n",
       "      <td>2003.0</td>\n",
       "      <td>Dinosaur Planet</td>\n",
       "    </tr>\n",
       "    <tr>\n",
       "      <th>1</th>\n",
       "      <td>2</td>\n",
       "      <td>2004.0</td>\n",
       "      <td>Isle of Man TT 2004 Review</td>\n",
       "    </tr>\n",
       "    <tr>\n",
       "      <th>2</th>\n",
       "      <td>3</td>\n",
       "      <td>1997.0</td>\n",
       "      <td>Character</td>\n",
       "    </tr>\n",
       "    <tr>\n",
       "      <th>3</th>\n",
       "      <td>4</td>\n",
       "      <td>1994.0</td>\n",
       "      <td>Paula Abdul's Get Up &amp; Dance</td>\n",
       "    </tr>\n",
       "    <tr>\n",
       "      <th>4</th>\n",
       "      <td>5</td>\n",
       "      <td>2004.0</td>\n",
       "      <td>The Rise and Fall of ECW</td>\n",
       "    </tr>\n",
       "    <tr>\n",
       "      <th>...</th>\n",
       "      <td>...</td>\n",
       "      <td>...</td>\n",
       "      <td>...</td>\n",
       "    </tr>\n",
       "    <tr>\n",
       "      <th>17429</th>\n",
       "      <td>17766</td>\n",
       "      <td>2002.0</td>\n",
       "      <td>Where the Wild Things Are and Other Maurice Se...</td>\n",
       "    </tr>\n",
       "    <tr>\n",
       "      <th>17430</th>\n",
       "      <td>17767</td>\n",
       "      <td>2004.0</td>\n",
       "      <td>Fidel Castro: American Experience</td>\n",
       "    </tr>\n",
       "    <tr>\n",
       "      <th>17431</th>\n",
       "      <td>17768</td>\n",
       "      <td>2000.0</td>\n",
       "      <td>Epoch</td>\n",
       "    </tr>\n",
       "    <tr>\n",
       "      <th>17432</th>\n",
       "      <td>17769</td>\n",
       "      <td>2003.0</td>\n",
       "      <td>The Company</td>\n",
       "    </tr>\n",
       "    <tr>\n",
       "      <th>17433</th>\n",
       "      <td>17770</td>\n",
       "      <td>2003.0</td>\n",
       "      <td>Alien Hunter</td>\n",
       "    </tr>\n",
       "  </tbody>\n",
       "</table>\n",
       "<p>17434 rows × 3 columns</p>\n",
       "</div>"
      ],
      "text/plain": [
       "       movie_id    year                                               name\n",
       "0             1  2003.0                                    Dinosaur Planet\n",
       "1             2  2004.0                         Isle of Man TT 2004 Review\n",
       "2             3  1997.0                                          Character\n",
       "3             4  1994.0                       Paula Abdul's Get Up & Dance\n",
       "4             5  2004.0                           The Rise and Fall of ECW\n",
       "...         ...     ...                                                ...\n",
       "17429     17766  2002.0  Where the Wild Things Are and Other Maurice Se...\n",
       "17430     17767  2004.0                  Fidel Castro: American Experience\n",
       "17431     17768  2000.0                                              Epoch\n",
       "17432     17769  2003.0                                        The Company\n",
       "17433     17770  2003.0                                       Alien Hunter\n",
       "\n",
       "[17434 rows x 3 columns]"
      ]
     },
     "execution_count": 37,
     "metadata": {},
     "output_type": "execute_result"
    }
   ],
   "source": [
    "movie_titles"
   ]
  },
  {
   "cell_type": "code",
   "execution_count": null,
   "metadata": {},
   "outputs": [],
   "source": []
  },
  {
   "cell_type": "code",
   "execution_count": 46,
   "metadata": {},
   "outputs": [],
   "source": [
    "id_name_dict = movie_titles.set_index(\"movie_id\")\\\n",
    "    .name\\\n",
    "    .to_dict()"
   ]
  },
  {
   "cell_type": "code",
   "execution_count": 58,
   "metadata": {},
   "outputs": [],
   "source": [
    "features['movie_id'] = features.movie_id\\\n",
    "    .apply(lambda x: int(x))"
   ]
  },
  {
   "cell_type": "code",
   "execution_count": 62,
   "metadata": {},
   "outputs": [],
   "source": [
    "best_rated_movies = features\\\n",
    "    .groupby(\"movie_id\")\\\n",
    "    .mean()\\\n",
    "    .sort_values(by= 'rating')"
   ]
  },
  {
   "cell_type": "code",
   "execution_count": 66,
   "metadata": {},
   "outputs": [],
   "source": [
    "names = best_rated_movies\\\n",
    "    .index\\\n",
    "    .map(id_name_dict)\n",
    "\n",
    "best_rated_movies.index = names"
   ]
  },
  {
   "cell_type": "code",
   "execution_count": 83,
   "metadata": {},
   "outputs": [
    {
     "data": {
      "text/html": [
       "<div>\n",
       "<style scoped>\n",
       "    .dataframe tbody tr th:only-of-type {\n",
       "        vertical-align: middle;\n",
       "    }\n",
       "\n",
       "    .dataframe tbody tr th {\n",
       "        vertical-align: top;\n",
       "    }\n",
       "\n",
       "    .dataframe thead th {\n",
       "        text-align: right;\n",
       "    }\n",
       "</style>\n",
       "<table border=\"1\" class=\"dataframe\">\n",
       "  <thead>\n",
       "    <tr style=\"text-align: right;\">\n",
       "      <th></th>\n",
       "      <th>rating</th>\n",
       "    </tr>\n",
       "    <tr>\n",
       "      <th>movie_id</th>\n",
       "      <th></th>\n",
       "    </tr>\n",
       "  </thead>\n",
       "  <tbody>\n",
       "    <tr>\n",
       "      <th>Lord of the Rings: The Return of the King: Extended Edition: Bonus Material</th>\n",
       "      <td>4.552000</td>\n",
       "    </tr>\n",
       "    <tr>\n",
       "      <th>Inu-Yasha</th>\n",
       "      <td>4.554434</td>\n",
       "    </tr>\n",
       "    <tr>\n",
       "      <th>The Simpsons: Season 6</th>\n",
       "      <td>4.581296</td>\n",
       "    </tr>\n",
       "    <tr>\n",
       "      <th>Ghost in the Shell: Stand Alone Complex: 2nd Gig</th>\n",
       "      <td>4.586364</td>\n",
       "    </tr>\n",
       "    <tr>\n",
       "      <th>Lost: Season 1</th>\n",
       "      <td>4.670989</td>\n",
       "    </tr>\n",
       "  </tbody>\n",
       "</table>\n",
       "</div>"
      ],
      "text/plain": [
       "                                                      rating\n",
       "movie_id                                                    \n",
       "Lord of the Rings: The Return of the King: Exte...  4.552000\n",
       "Inu-Yasha                                           4.554434\n",
       "The Simpsons: Season 6                              4.581296\n",
       "Ghost in the Shell: Stand Alone Complex: 2nd Gig    4.586364\n",
       "Lost: Season 1                                      4.670989"
      ]
     },
     "execution_count": 83,
     "metadata": {},
     "output_type": "execute_result"
    }
   ],
   "source": [
    "best_rated_movies.tail()"
   ]
  },
  {
   "cell_type": "code",
   "execution_count": 82,
   "metadata": {},
   "outputs": [
    {
     "data": {
      "text/plain": [
       "<BarContainer object of 5 artists>"
      ]
     },
     "execution_count": 82,
     "metadata": {},
     "output_type": "execute_result"
    },
    {
     "data": {
      "image/png": "[encoded data removed]",
      "text/plain": [
       "<Figure size 1152x720 with 1 Axes>"
      ]
     },
     "metadata": {
      "needs_background": "light"
     },
     "output_type": "display_data"
    }
   ],
   "source": [
    "plt.figure(figsize=(16,10))\n",
    "plt.bar(\n",
    "    best_rated_movies.tail().index, \n",
    "    best_rated_movies.tail().rating,\n",
    "    color = ['red', 'green', 'blue', 'orange', 'yellow']    \n",
    ")"
   ]
  },
  {
   "attachments": {},
   "cell_type": "markdown",
   "metadata": {},
   "source": [
    "## Creating sparse matrix"
   ]
  },
  {
   "cell_type": "code",
   "execution_count": null,
   "metadata": {},
   "outputs": [],
   "source": []
  },
  {
   "cell_type": "code",
   "execution_count": 6,
   "metadata": {},
   "outputs": [],
   "source": [
    "movies = features['movie_id'].unique()\n",
    "users = features['user_id'].unique()"
   ]
  },
  {
   "cell_type": "code",
   "execution_count": 8,
   "metadata": {},
   "outputs": [],
   "source": [
    "user_cat = CategoricalDtype(categories=sorted(users), ordered=True)\n",
    "movie_cat = CategoricalDtype(categories=sorted(movies), ordered=True)\n",
    "user_index = features[\"user_id\"]\\\n",
    "    .astype(user_cat)\\\n",
    "    .cat\\\n",
    "    .codes\n",
    "movie_index = features[\"movie_id\"]\\\n",
    "    .astype(movie_cat)\\\n",
    "    .cat\\\n",
    "    .codes"
   ]
  },
  {
   "cell_type": "code",
   "execution_count": 12,
   "metadata": {},
   "outputs": [],
   "source": [
    "coo = coo_matrix(\n",
    "    (features[\"rating\"], (user_index, movie_index)), \n",
    "    shape=(len(users), len(movies)),\n",
    "    \n",
    ")\n",
    "sparse_features = coo.tocsr()"
   ]
  },
  {
   "cell_type": "code",
   "execution_count": 18,
   "metadata": {},
   "outputs": [],
   "source": [
    "reviews_matrix = pd.DataFrame.sparse.from_spmatrix(sparse_features)\\\n",
    "   "
   ]
  },
  {
   "cell_type": "code",
   "execution_count": 19,
   "metadata": {},
   "outputs": [
    {
     "ename": "TypeError",
     "evalue": "SparseArray does not support item assignment via setitem",
     "output_type": "error",
     "traceback": [
      "\u001b[1;31m---------------------------------------------------------------------------\u001b[0m",
      "\u001b[1;31mTypeError\u001b[0m                                 Traceback (most recent call last)",
      "\u001b[1;32mc:\\Users\\User\\Desktop\\code\\movie-recommendation\\notebooks\\02-exploratory_data_analysis.ipynb Cell 9\u001b[0m in \u001b[0;36m<cell line: 1>\u001b[1;34m()\u001b[0m\n\u001b[1;32m----> <a href='vscode-notebook-cell:/c%3A/Users/User/Desktop/code/movie-recommendation/notebooks/02-exploratory_data_analysis.ipynb#X13sZmlsZQ%3D%3D?line=0'>1</a>\u001b[0m reviews_matrix\u001b[39m.\u001b[39;49mreplace(\u001b[39m0\u001b[39;49m, np\u001b[39m.\u001b[39;49mnan)\n",
      "File \u001b[1;32mc:\\Users\\User\\anaconda3\\lib\\site-packages\\pandas\\core\\frame.py:5282\u001b[0m, in \u001b[0;36mDataFrame.replace\u001b[1;34m(self, to_replace, value, inplace, limit, regex, method)\u001b[0m\n\u001b[0;32m   5272\u001b[0m \u001b[39m@doc\u001b[39m(NDFrame\u001b[39m.\u001b[39mreplace, \u001b[39m*\u001b[39m\u001b[39m*\u001b[39m_shared_doc_kwargs)\n\u001b[0;32m   5273\u001b[0m \u001b[39mdef\u001b[39;00m \u001b[39mreplace\u001b[39m(\n\u001b[0;32m   5274\u001b[0m     \u001b[39mself\u001b[39m,\n\u001b[1;32m   (...)\u001b[0m\n\u001b[0;32m   5280\u001b[0m     method: \u001b[39mstr\u001b[39m \u001b[39m|\u001b[39m lib\u001b[39m.\u001b[39mNoDefault \u001b[39m=\u001b[39m lib\u001b[39m.\u001b[39mno_default,\n\u001b[0;32m   5281\u001b[0m ):\n\u001b[1;32m-> 5282\u001b[0m     \u001b[39mreturn\u001b[39;00m \u001b[39msuper\u001b[39;49m()\u001b[39m.\u001b[39;49mreplace(\n\u001b[0;32m   5283\u001b[0m         to_replace\u001b[39m=\u001b[39;49mto_replace,\n\u001b[0;32m   5284\u001b[0m         value\u001b[39m=\u001b[39;49mvalue,\n\u001b[0;32m   5285\u001b[0m         inplace\u001b[39m=\u001b[39;49minplace,\n\u001b[0;32m   5286\u001b[0m         limit\u001b[39m=\u001b[39;49mlimit,\n\u001b[0;32m   5287\u001b[0m         regex\u001b[39m=\u001b[39;49mregex,\n\u001b[0;32m   5288\u001b[0m         method\u001b[39m=\u001b[39;49mmethod,\n\u001b[0;32m   5289\u001b[0m     )\n",
      "File \u001b[1;32mc:\\Users\\User\\anaconda3\\lib\\site-packages\\pandas\\core\\generic.py:6745\u001b[0m, in \u001b[0;36mNDFrame.replace\u001b[1;34m(self, to_replace, value, inplace, limit, regex, method)\u001b[0m\n\u001b[0;32m   6739\u001b[0m         new_data \u001b[39m=\u001b[39m \u001b[39mself\u001b[39m\u001b[39m.\u001b[39m_mgr\u001b[39m.\u001b[39mreplace_regex(\n\u001b[0;32m   6740\u001b[0m             to_replace\u001b[39m=\u001b[39mto_replace,\n\u001b[0;32m   6741\u001b[0m             value\u001b[39m=\u001b[39mvalue,\n\u001b[0;32m   6742\u001b[0m             inplace\u001b[39m=\u001b[39minplace,\n\u001b[0;32m   6743\u001b[0m         )\n\u001b[0;32m   6744\u001b[0m     \u001b[39melse\u001b[39;00m:\n\u001b[1;32m-> 6745\u001b[0m         new_data \u001b[39m=\u001b[39m \u001b[39mself\u001b[39;49m\u001b[39m.\u001b[39;49m_mgr\u001b[39m.\u001b[39;49mreplace(\n\u001b[0;32m   6746\u001b[0m             to_replace\u001b[39m=\u001b[39;49mto_replace, value\u001b[39m=\u001b[39;49mvalue, inplace\u001b[39m=\u001b[39;49minplace\n\u001b[0;32m   6747\u001b[0m         )\n\u001b[0;32m   6748\u001b[0m \u001b[39melse\u001b[39;00m:\n\u001b[0;32m   6749\u001b[0m     \u001b[39mraise\u001b[39;00m \u001b[39mTypeError\u001b[39;00m(\n\u001b[0;32m   6750\u001b[0m         \u001b[39mf\u001b[39m\u001b[39m'\u001b[39m\u001b[39mInvalid \u001b[39m\u001b[39m\"\u001b[39m\u001b[39mto_replace\u001b[39m\u001b[39m\"\u001b[39m\u001b[39m type: \u001b[39m\u001b[39m{\u001b[39;00m\u001b[39mrepr\u001b[39m(\u001b[39mtype\u001b[39m(to_replace)\u001b[39m.\u001b[39m\u001b[39m__name__\u001b[39m)\u001b[39m}\u001b[39;00m\u001b[39m'\u001b[39m\n\u001b[0;32m   6751\u001b[0m     )\n",
      "File \u001b[1;32mc:\\Users\\User\\anaconda3\\lib\\site-packages\\pandas\\core\\internals\\managers.py:441\u001b[0m, in \u001b[0;36mBaseBlockManager.replace\u001b[1;34m(self, to_replace, value, inplace)\u001b[0m\n\u001b[0;32m    439\u001b[0m \u001b[39massert\u001b[39;00m \u001b[39mnot\u001b[39;00m is_list_like(to_replace)\n\u001b[0;32m    440\u001b[0m \u001b[39massert\u001b[39;00m \u001b[39mnot\u001b[39;00m is_list_like(value)\n\u001b[1;32m--> 441\u001b[0m \u001b[39mreturn\u001b[39;00m \u001b[39mself\u001b[39;49m\u001b[39m.\u001b[39;49mapply(\n\u001b[0;32m    442\u001b[0m     \u001b[39m\"\u001b[39;49m\u001b[39mreplace\u001b[39;49m\u001b[39m\"\u001b[39;49m, to_replace\u001b[39m=\u001b[39;49mto_replace, value\u001b[39m=\u001b[39;49mvalue, inplace\u001b[39m=\u001b[39;49minplace\n\u001b[0;32m    443\u001b[0m )\n",
      "File \u001b[1;32mc:\\Users\\User\\anaconda3\\lib\\site-packages\\pandas\\core\\internals\\managers.py:304\u001b[0m, in \u001b[0;36mBaseBlockManager.apply\u001b[1;34m(self, f, align_keys, ignore_failures, **kwargs)\u001b[0m\n\u001b[0;32m    302\u001b[0m         applied \u001b[39m=\u001b[39m b\u001b[39m.\u001b[39mapply(f, \u001b[39m*\u001b[39m\u001b[39m*\u001b[39mkwargs)\n\u001b[0;32m    303\u001b[0m     \u001b[39melse\u001b[39;00m:\n\u001b[1;32m--> 304\u001b[0m         applied \u001b[39m=\u001b[39m \u001b[39mgetattr\u001b[39m(b, f)(\u001b[39m*\u001b[39m\u001b[39m*\u001b[39mkwargs)\n\u001b[0;32m    305\u001b[0m \u001b[39mexcept\u001b[39;00m (\u001b[39mTypeError\u001b[39;00m, \u001b[39mNotImplementedError\u001b[39;00m):\n\u001b[0;32m    306\u001b[0m     \u001b[39mif\u001b[39;00m \u001b[39mnot\u001b[39;00m ignore_failures:\n",
      "File \u001b[1;32mc:\\Users\\User\\anaconda3\\lib\\site-packages\\pandas\\core\\internals\\blocks.py:691\u001b[0m, in \u001b[0;36mBlock.replace\u001b[1;34m(self, to_replace, value, inplace, mask)\u001b[0m\n\u001b[0;32m    689\u001b[0m \u001b[39melif\u001b[39;00m \u001b[39mself\u001b[39m\u001b[39m.\u001b[39m_can_hold_element(value):\n\u001b[0;32m    690\u001b[0m     blk \u001b[39m=\u001b[39m \u001b[39mself\u001b[39m \u001b[39mif\u001b[39;00m inplace \u001b[39melse\u001b[39;00m \u001b[39mself\u001b[39m\u001b[39m.\u001b[39mcopy()\n\u001b[1;32m--> 691\u001b[0m     putmask_inplace(blk\u001b[39m.\u001b[39;49mvalues, mask, value)\n\u001b[0;32m    692\u001b[0m     \u001b[39mif\u001b[39;00m \u001b[39mnot\u001b[39;00m (\u001b[39mself\u001b[39m\u001b[39m.\u001b[39mis_object \u001b[39mand\u001b[39;00m value \u001b[39mis\u001b[39;00m \u001b[39mNone\u001b[39;00m):\n\u001b[0;32m    693\u001b[0m         \u001b[39m# if the user *explicitly* gave None, we keep None, otherwise\u001b[39;00m\n\u001b[0;32m    694\u001b[0m         \u001b[39m#  may downcast to NaN\u001b[39;00m\n\u001b[0;32m    695\u001b[0m         blocks \u001b[39m=\u001b[39m blk\u001b[39m.\u001b[39mconvert(numeric\u001b[39m=\u001b[39m\u001b[39mFalse\u001b[39;00m, copy\u001b[39m=\u001b[39m\u001b[39mFalse\u001b[39;00m)\n",
      "File \u001b[1;32mc:\\Users\\User\\anaconda3\\lib\\site-packages\\pandas\\core\\array_algos\\putmask.py:57\u001b[0m, in \u001b[0;36mputmask_inplace\u001b[1;34m(values, mask, value)\u001b[0m\n\u001b[0;32m     55\u001b[0m         values[mask] \u001b[39m=\u001b[39m value[mask]\n\u001b[0;32m     56\u001b[0m     \u001b[39melse\u001b[39;00m:\n\u001b[1;32m---> 57\u001b[0m         values[mask] \u001b[39m=\u001b[39m value\n\u001b[0;32m     58\u001b[0m \u001b[39melse\u001b[39;00m:\n\u001b[0;32m     59\u001b[0m     \u001b[39m# GH#37833 np.putmask is more performant than __setitem__\u001b[39;00m\n\u001b[0;32m     60\u001b[0m     np\u001b[39m.\u001b[39mputmask(values, mask, value)\n",
      "File \u001b[1;32mc:\\Users\\User\\anaconda3\\lib\\site-packages\\pandas\\core\\arrays\\sparse\\array.py:610\u001b[0m, in \u001b[0;36mSparseArray.__setitem__\u001b[1;34m(self, key, value)\u001b[0m\n\u001b[0;32m    605\u001b[0m \u001b[39mdef\u001b[39;00m \u001b[39m__setitem__\u001b[39m(\u001b[39mself\u001b[39m, key, value):\n\u001b[0;32m    606\u001b[0m     \u001b[39m# I suppose we could allow setting of non-fill_value elements.\u001b[39;00m\n\u001b[0;32m    607\u001b[0m     \u001b[39m# TODO(SparseArray.__setitem__): remove special cases in\u001b[39;00m\n\u001b[0;32m    608\u001b[0m     \u001b[39m# ExtensionBlock.where\u001b[39;00m\n\u001b[0;32m    609\u001b[0m     msg \u001b[39m=\u001b[39m \u001b[39m\"\u001b[39m\u001b[39mSparseArray does not support item assignment via setitem\u001b[39m\u001b[39m\"\u001b[39m\n\u001b[1;32m--> 610\u001b[0m     \u001b[39mraise\u001b[39;00m \u001b[39mTypeError\u001b[39;00m(msg)\n",
      "\u001b[1;31mTypeError\u001b[0m: SparseArray does not support item assignment via setitem"
     ]
    }
   ],
   "source": [
    "reviews_matrix.replace(0, np.nan)"
   ]
  }
 ],
 "metadata": {
  "kernelspec": {
   "display_name": "base",
   "language": "python",
   "name": "python3"
  },
  "language_info": {
   "codemirror_mode": {
    "name": "ipython",
    "version": 3
   },
   "file_extension": ".py",
   "mimetype": "text/x-python",
   "name": "python",
   "nbconvert_exporter": "python",
   "pygments_lexer": "ipython3",
   "version": "3.9.12"
  },
  "orig_nbformat": 4,
  "vscode": {
   "interpreter": {
    "hash": "f08154012ddadd8e950e6e9e035c7a7b32c136e7647e9b7c77e02eb723a8bedb"
   }
  }
 },
 "nbformat": 4,
 "nbformat_minor": 2
}
