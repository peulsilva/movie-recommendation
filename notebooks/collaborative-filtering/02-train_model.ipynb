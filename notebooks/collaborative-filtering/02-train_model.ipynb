{
 "cells": [
  {
   "cell_type": "code",
   "execution_count": 1,
   "metadata": {},
   "outputs": [],
   "source": [
    "%load_ext autoreload\n",
    "%autoreload 2"
   ]
  },
  {
   "cell_type": "code",
   "execution_count": 2,
   "metadata": {},
   "outputs": [],
   "source": [
    "import os\n",
    "while 'notebooks' in os.getcwd():\n",
    "    os.chdir(\"..\")\n",
    "\n",
    "import numpy as np \n",
    "import pandas as pd\n",
    "import seaborn as sns \n",
    "import matplotlib.pyplot as plt\n",
    "from statistics import mean\n",
    "from tqdm import tqdm\n",
    "from sklearn.metrics import mean_squared_error\n",
    "\n",
    "from src.mapping import get_movies_id_map\n",
    "from src.collaborative_filtering.preprocessing.make_dataset \\\n",
    "    import read_train_test_matrix, read_ratings_df, train_test_split\n",
    "\n",
    "from src.collaborative_filtering.models.train_model import \\\n",
    "    SGDOptimizer"
   ]
  },
  {
   "attachments": {},
   "cell_type": "markdown",
   "metadata": {},
   "source": [
    "## Model training\n",
    "\n",
    "We will train two matrices $ X $ and $ X $ as\n",
    "\n",
    "$$ X = (x_{ij})_{n_{features} \\times n_{movies}} $$ \n",
    "$$ \\Theta = (\\theta _{ij})_{n_{features} \\times n_{users}} $$\n",
    "\n",
    "<!-- $$ X= \n",
    "\\begin{pmatrix} \n",
    "\n",
    "    X _{1,1} & X _{1,2} & \\dots & X _{1, n_{features}} \\\\ \n",
    "    X _{2,1} & X _{2,2} & \\dots & X _{2, n_{features}} \\\\ \n",
    "    \\vdots & \\vdots & \\vdots & \\vdots \\\\ \n",
    "    X _{n_{movies}, 1} & X _{n_{movies}, 2} & \\dots & X _{n_{movies}, n_{features}}\n",
    "    \n",
    "\\end{pmatrix}\n",
    "$$\n",
    "\n",
    "$$ \\Theta = \n",
    "\\begin{pmatrix} \n",
    "\n",
    "    \\theta _{1,1} & \\theta _{1,2} & \\dots & \\theta _{1, n_{features}} \\\\ \n",
    "    \\theta _{2,1} & \\theta _{2,2} & \\dots & \\theta _{2, n_{features}} \\\\ \n",
    "    \\vdots & \\vdots & \\vdots & \\vdots \\\\ \n",
    "    \\theta _{n_{users}, 1} & \\theta _{n_{users}, 2} & \\dots & \\theta _{n_{users}, n_{features}}\n",
    "    \n",
    "\\end{pmatrix}\n",
    "$$ -->\n",
    "\n",
    "and \n",
    "\n",
    "$$ \\hat{Y} = \\Theta ^T X $$\n",
    "\n",
    "Minimizing the cost function \n",
    "\n",
    "$$\n",
    "    J(\\Theta, X) = \\sum (y - \\theta ^{(i)T}  x^{(j)}) ^2 + \\lambda (|| \\theta^{(i)} ||^2 + || x^{(j)} || ^2 )\n",
    "$$\n",
    "\n",
    "Here we are using $l_2$ regularization"
   ]
  },
  {
   "cell_type": "code",
   "execution_count": null,
   "metadata": {},
   "outputs": [],
   "source": []
  },
  {
   "cell_type": "code",
   "execution_count": 3,
   "metadata": {},
   "outputs": [],
   "source": [
    "ratings_df = read_ratings_df()\n",
    "\n",
    "ratings_matrix = ratings_df.pivot(\n",
    "    index = 'userID',\n",
    "    columns= 'movieID',\n",
    "    values= 'rating',\n",
    ").replace(np.nan, 0)"
   ]
  },
  {
   "cell_type": "code",
   "execution_count": 4,
   "metadata": {},
   "outputs": [],
   "source": [
    "Y_train, Y_test = read_train_test_matrix()"
   ]
  },
  {
   "cell_type": "code",
   "execution_count": 5,
   "metadata": {},
   "outputs": [
    {
     "name": "stderr",
     "output_type": "stream",
     "text": [
      "2113it [08:08,  4.32it/s]\n"
     ]
    }
   ],
   "source": [
    "Y_train, Y_val = train_test_split(Y_train)"
   ]
  },
  {
   "cell_type": "code",
   "execution_count": 8,
   "metadata": {},
   "outputs": [
    {
     "data": {
      "text/plain": [
       "(None, None)"
      ]
     },
     "execution_count": 8,
     "metadata": {},
     "output_type": "execute_result"
    }
   ],
   "source": [
    "Y_train.to_pickle(\"data/collaborative-filtering/Y_train.pkl\") ,\\\n",
    "Y_val.to_pickle(\"data/collaborative-filtering/Y_val.pkl\")"
   ]
  },
  {
   "cell_type": "code",
   "execution_count": 9,
   "metadata": {},
   "outputs": [],
   "source": [
    "n_users, n_movies = Y_train.shape"
   ]
  },
  {
   "cell_type": "code",
   "execution_count": 10,
   "metadata": {},
   "outputs": [],
   "source": [
    "users, movies = np.nonzero(np.array(Y_train))"
   ]
  },
  {
   "cell_type": "code",
   "execution_count": 11,
   "metadata": {},
   "outputs": [],
   "source": [
    "y_train = np.array(Y_train)"
   ]
  },
  {
   "cell_type": "code",
   "execution_count": 19,
   "metadata": {},
   "outputs": [],
   "source": [
    "model = SGDOptimizer()"
   ]
  },
  {
   "cell_type": "code",
   "execution_count": 20,
   "metadata": {},
   "outputs": [
    {
     "data": {
      "text/plain": [
       "{'epsilon': 1e-05,\n",
       " 'learning_rate': 0.001,\n",
       " 'num_features': 5,\n",
       " 'predict_constraints': False,\n",
       " 'regularization': 'l2',\n",
       " 'regularization_factor': 0.1,\n",
       " 'train_epochs': 100}"
      ]
     },
     "execution_count": 20,
     "metadata": {},
     "output_type": "execute_result"
    }
   ],
   "source": [
    "model.get_params()"
   ]
  },
  {
   "cell_type": "code",
   "execution_count": 16,
   "metadata": {},
   "outputs": [],
   "source": [
    "y_val = np.array(Y_val)"
   ]
  },
  {
   "cell_type": "code",
   "execution_count": 17,
   "metadata": {},
   "outputs": [
    {
     "data": {
      "text/plain": [
       "(array([   0,    0,    0, ..., 2112, 2112, 2112], dtype=int64),\n",
       " array([ 105,  151,  154, ..., 7572, 8966, 9900], dtype=int64))"
      ]
     },
     "execution_count": 17,
     "metadata": {},
     "output_type": "execute_result"
    }
   ],
   "source": [
    "y_val.nonzero()"
   ]
  },
  {
   "cell_type": "code",
   "execution_count": 21,
   "metadata": {},
   "outputs": [
    {
     "name": "stderr",
     "output_type": "stream",
     "text": [
      "420068it [00:05, 71880.59it/s]\n"
     ]
    },
    {
     "name": "stdout",
     "output_type": "stream",
     "text": [
      "train epoch 0; \n",
      "train error: 3.442900868349606 \n",
      "validation error: 3.5618680722237537\n"
     ]
    },
    {
     "name": "stderr",
     "output_type": "stream",
     "text": [
      "420068it [00:05, 71442.00it/s]\n"
     ]
    },
    {
     "name": "stdout",
     "output_type": "stream",
     "text": [
      "train epoch 1; \n",
      "train error: 2.6602212698769563 \n",
      "validation error: 2.779978357459937\n"
     ]
    },
    {
     "name": "stderr",
     "output_type": "stream",
     "text": [
      "420068it [00:05, 71258.65it/s]\n"
     ]
    },
    {
     "name": "stdout",
     "output_type": "stream",
     "text": [
      "train epoch 2; \n",
      "train error: 2.3133003466519853 \n",
      "validation error: 2.4307655733354285\n"
     ]
    },
    {
     "name": "stderr",
     "output_type": "stream",
     "text": [
      "420068it [00:07, 55197.24it/s]\n"
     ]
    },
    {
     "name": "stdout",
     "output_type": "stream",
     "text": [
      "train epoch 3; \n",
      "train error: 2.0996132169761834 \n",
      "validation error: 2.2140917899045647\n"
     ]
    },
    {
     "name": "stderr",
     "output_type": "stream",
     "text": [
      "420068it [00:06, 63977.73it/s]\n"
     ]
    },
    {
     "name": "stdout",
     "output_type": "stream",
     "text": [
      "train epoch 4; \n",
      "train error: 1.9468823234450172 \n",
      "validation error: 2.0577950401018965\n"
     ]
    },
    {
     "name": "stderr",
     "output_type": "stream",
     "text": [
      "420068it [00:06, 63310.51it/s]\n"
     ]
    },
    {
     "name": "stdout",
     "output_type": "stream",
     "text": [
      "train epoch 5; \n",
      "train error: 1.828608063973001 \n",
      "validation error: 1.9355685430270682\n"
     ]
    },
    {
     "name": "stderr",
     "output_type": "stream",
     "text": [
      "420068it [00:06, 65397.82it/s]\n"
     ]
    },
    {
     "name": "stdout",
     "output_type": "stream",
     "text": [
      "train epoch 6; \n",
      "train error: 1.7326925031544052 \n",
      "validation error: 1.8355300439634066\n"
     ]
    },
    {
     "name": "stderr",
     "output_type": "stream",
     "text": [
      "420068it [00:06, 65117.33it/s]\n"
     ]
    },
    {
     "name": "stdout",
     "output_type": "stream",
     "text": [
      "train epoch 7; \n",
      "train error: 1.652684432818114 \n",
      "validation error: 1.751404464632389\n"
     ]
    },
    {
     "name": "stderr",
     "output_type": "stream",
     "text": [
      "420068it [00:06, 65893.70it/s]\n"
     ]
    },
    {
     "name": "stdout",
     "output_type": "stream",
     "text": [
      "train epoch 8; \n",
      "train error: 1.5847030095644257 \n",
      "validation error: 1.679437147726746\n"
     ]
    },
    {
     "name": "stderr",
     "output_type": "stream",
     "text": [
      "420068it [00:06, 65567.05it/s]\n"
     ]
    },
    {
     "name": "stdout",
     "output_type": "stream",
     "text": [
      "train epoch 9; \n",
      "train error: 1.5261915966732538 \n",
      "validation error: 1.6171540001770033\n"
     ]
    },
    {
     "name": "stderr",
     "output_type": "stream",
     "text": [
      "420068it [00:06, 64976.83it/s]\n"
     ]
    },
    {
     "name": "stdout",
     "output_type": "stream",
     "text": [
      "train epoch 10; \n",
      "train error: 1.4753508093069008 \n",
      "validation error: 1.5628035690835194\n"
     ]
    },
    {
     "name": "stderr",
     "output_type": "stream",
     "text": [
      "420068it [00:06, 64438.59it/s]\n"
     ]
    },
    {
     "name": "stdout",
     "output_type": "stream",
     "text": [
      "train epoch 11; \n",
      "train error: 1.430852318249415 \n",
      "validation error: 1.5150792466445915\n"
     ]
    },
    {
     "name": "stderr",
     "output_type": "stream",
     "text": [
      "420068it [00:07, 58656.66it/s]\n"
     ]
    },
    {
     "name": "stdout",
     "output_type": "stream",
     "text": [
      "train epoch 12; \n",
      "train error: 1.3916797895180246 \n",
      "validation error: 1.4729675450813762\n"
     ]
    },
    {
     "name": "stderr",
     "output_type": "stream",
     "text": [
      "420068it [00:08, 50177.27it/s]\n"
     ]
    },
    {
     "name": "stdout",
     "output_type": "stream",
     "text": [
      "train epoch 13; \n",
      "train error: 1.3570328558270626 \n",
      "validation error: 1.435658311720934\n"
     ]
    },
    {
     "name": "stderr",
     "output_type": "stream",
     "text": [
      "420068it [00:11, 38102.29it/s]\n"
     ]
    },
    {
     "name": "stdout",
     "output_type": "stream",
     "text": [
      "train epoch 14; \n",
      "train error: 1.3262656851970631 \n",
      "validation error: 1.4024883699873578\n"
     ]
    },
    {
     "name": "stderr",
     "output_type": "stream",
     "text": [
      "420068it [00:07, 55114.73it/s]\n"
     ]
    },
    {
     "name": "stdout",
     "output_type": "stream",
     "text": [
      "train epoch 15; \n",
      "train error: 1.2988463754831756 \n",
      "validation error: 1.3729047617355032\n"
     ]
    },
    {
     "name": "stderr",
     "output_type": "stream",
     "text": [
      "420068it [00:10, 38323.64it/s]\n"
     ]
    },
    {
     "name": "stdout",
     "output_type": "stream",
     "text": [
      "train epoch 16; \n",
      "train error: 1.2743296055272035 \n",
      "validation error: 1.3464400793461841\n"
     ]
    },
    {
     "name": "stderr",
     "output_type": "stream",
     "text": [
      "420068it [00:07, 55903.18it/s]\n"
     ]
    },
    {
     "name": "stdout",
     "output_type": "stream",
     "text": [
      "train epoch 17; \n",
      "train error: 1.2523378874414774 \n",
      "validation error: 1.3226953994681578\n"
     ]
    },
    {
     "name": "stderr",
     "output_type": "stream",
     "text": [
      "420068it [00:07, 59670.10it/s]\n"
     ]
    },
    {
     "name": "stdout",
     "output_type": "stream",
     "text": [
      "train epoch 18; \n",
      "train error: 1.232548398165593 \n",
      "validation error: 1.301328024558397\n"
     ]
    },
    {
     "name": "stderr",
     "output_type": "stream",
     "text": [
      "420068it [00:09, 42629.82it/s]\n"
     ]
    },
    {
     "name": "stdout",
     "output_type": "stream",
     "text": [
      "train epoch 19; \n",
      "train error: 1.2146834204347754 \n",
      "validation error: 1.2820422968981753\n"
     ]
    },
    {
     "name": "stderr",
     "output_type": "stream",
     "text": [
      "420068it [00:08, 49578.15it/s]\n"
     ]
    },
    {
     "name": "stdout",
     "output_type": "stream",
     "text": [
      "train epoch 20; \n",
      "train error: 1.1985031317766703 \n",
      "validation error: 1.2645824269283072\n"
     ]
    },
    {
     "name": "stderr",
     "output_type": "stream",
     "text": [
      "420068it [00:08, 48417.91it/s]\n"
     ]
    },
    {
     "name": "stdout",
     "output_type": "stream",
     "text": [
      "train epoch 21; \n",
      "train error: 1.183799950423854 \n",
      "validation error: 1.2487266994231607\n"
     ]
    },
    {
     "name": "stderr",
     "output_type": "stream",
     "text": [
      "420068it [00:08, 49450.38it/s]\n"
     ]
    },
    {
     "name": "stdout",
     "output_type": "stream",
     "text": [
      "train epoch 22; \n",
      "train error: 1.1703939489624942 \n",
      "validation error: 1.2342826731483352\n"
     ]
    },
    {
     "name": "stderr",
     "output_type": "stream",
     "text": [
      "420068it [00:08, 49794.27it/s]\n"
     ]
    },
    {
     "name": "stdout",
     "output_type": "stream",
     "text": [
      "train epoch 23; \n",
      "train error: 1.1581290341625816 \n",
      "validation error: 1.2210831353944698\n"
     ]
    },
    {
     "name": "stderr",
     "output_type": "stream",
     "text": [
      "420068it [00:08, 49164.60it/s]\n"
     ]
    },
    {
     "name": "stdout",
     "output_type": "stream",
     "text": [
      "train epoch 24; \n",
      "train error: 1.1468697050568777 \n",
      "validation error: 1.2089826557074774\n"
     ]
    },
    {
     "name": "stderr",
     "output_type": "stream",
     "text": [
      "420068it [00:06, 62393.57it/s]\n"
     ]
    },
    {
     "name": "stdout",
     "output_type": "stream",
     "text": [
      "train epoch 25; \n",
      "train error: 1.1364982689053853 \n",
      "validation error: 1.1978546307296272\n"
     ]
    },
    {
     "name": "stderr",
     "output_type": "stream",
     "text": [
      "420068it [00:06, 61922.19it/s]\n"
     ]
    },
    {
     "name": "stdout",
     "output_type": "stream",
     "text": [
      "train epoch 26; \n",
      "train error: 1.1269124344256978 \n",
      "validation error: 1.1875887403615775\n"
     ]
    },
    {
     "name": "stderr",
     "output_type": "stream",
     "text": [
      "420068it [00:06, 62028.45it/s]\n"
     ]
    },
    {
     "name": "stdout",
     "output_type": "stream",
     "text": [
      "train epoch 27; \n",
      "train error: 1.1180232249688795 \n",
      "validation error: 1.178088753260249\n"
     ]
    },
    {
     "name": "stderr",
     "output_type": "stream",
     "text": [
      "420068it [00:06, 61710.62it/s]\n"
     ]
    },
    {
     "name": "stdout",
     "output_type": "stream",
     "text": [
      "train epoch 28; \n",
      "train error: 1.1097531680865813 \n",
      "validation error: 1.1692706316562909\n"
     ]
    },
    {
     "name": "stderr",
     "output_type": "stream",
     "text": [
      "420068it [00:06, 62355.67it/s]\n"
     ]
    },
    {
     "name": "stdout",
     "output_type": "stream",
     "text": [
      "train epoch 29; \n",
      "train error: 1.1020347262850252 \n",
      "validation error: 1.1610608940387106\n"
     ]
    },
    {
     "name": "stderr",
     "output_type": "stream",
     "text": [
      "420068it [00:06, 62611.92it/s]\n"
     ]
    },
    {
     "name": "stdout",
     "output_type": "stream",
     "text": [
      "train epoch 30; \n",
      "train error: 1.0948089391078593 \n",
      "validation error: 1.153395200706616\n"
     ]
    },
    {
     "name": "stderr",
     "output_type": "stream",
     "text": [
      "420068it [00:07, 58182.56it/s]\n"
     ]
    },
    {
     "name": "stdout",
     "output_type": "stream",
     "text": [
      "train epoch 31; \n",
      "train error: 1.088024250417178 \n",
      "validation error: 1.1462171322510475\n"
     ]
    },
    {
     "name": "stderr",
     "output_type": "stream",
     "text": [
      "420068it [00:06, 63028.17it/s]\n"
     ]
    },
    {
     "name": "stdout",
     "output_type": "stream",
     "text": [
      "train epoch 32; \n",
      "train error: 1.0816354976204585 \n",
      "validation error: 1.1394771351328548\n"
     ]
    },
    {
     "name": "stderr",
     "output_type": "stream",
     "text": [
      "420068it [00:06, 60739.46it/s]\n"
     ]
    },
    {
     "name": "stdout",
     "output_type": "stream",
     "text": [
      "train epoch 33; \n",
      "train error: 1.0756030420286662 \n",
      "validation error: 1.1331316119355341\n"
     ]
    },
    {
     "name": "stderr",
     "output_type": "stream",
     "text": [
      "420068it [00:06, 62708.21it/s]\n"
     ]
    },
    {
     "name": "stdout",
     "output_type": "stream",
     "text": [
      "train epoch 34; \n",
      "train error: 1.0698920217269299 \n",
      "validation error: 1.1271421367714802\n"
     ]
    },
    {
     "name": "stderr",
     "output_type": "stream",
     "text": [
      "420068it [00:06, 63367.86it/s]\n"
     ]
    },
    {
     "name": "stdout",
     "output_type": "stream",
     "text": [
      "train epoch 35; \n",
      "train error: 1.0644717103787376 \n",
      "validation error: 1.1214747788236112\n"
     ]
    },
    {
     "name": "stderr",
     "output_type": "stream",
     "text": [
      "420068it [00:06, 62103.32it/s]\n"
     ]
    },
    {
     "name": "stdout",
     "output_type": "stream",
     "text": [
      "train epoch 36; \n",
      "train error: 1.059314967293694 \n",
      "validation error: 1.1160995191906462\n"
     ]
    },
    {
     "name": "stderr",
     "output_type": "stream",
     "text": [
      "420068it [00:06, 62938.80it/s]\n"
     ]
    },
    {
     "name": "stdout",
     "output_type": "stream",
     "text": [
      "train epoch 37; \n",
      "train error: 1.0543977658672858 \n",
      "validation error: 1.1109897481268578\n"
     ]
    },
    {
     "name": "stderr",
     "output_type": "stream",
     "text": [
      "420068it [00:06, 61001.81it/s]\n"
     ]
    },
    {
     "name": "stdout",
     "output_type": "stream",
     "text": [
      "train epoch 38; \n",
      "train error: 1.0496987891403846 \n",
      "validation error: 1.1061218314630654\n"
     ]
    },
    {
     "name": "stderr",
     "output_type": "stream",
     "text": [
      "420068it [00:10, 41571.14it/s]\n"
     ]
    },
    {
     "name": "stdout",
     "output_type": "stream",
     "text": [
      "train epoch 39; \n",
      "train error: 1.045199082718268 \n",
      "validation error: 1.1014747364920237\n"
     ]
    },
    {
     "name": "stderr",
     "output_type": "stream",
     "text": [
      "420068it [00:09, 45423.76it/s]\n"
     ]
    },
    {
     "name": "stdout",
     "output_type": "stream",
     "text": [
      "train epoch 40; \n",
      "train error: 1.0408817566300876 \n",
      "validation error: 1.097029708919332\n"
     ]
    },
    {
     "name": "stderr",
     "output_type": "stream",
     "text": [
      "420068it [00:09, 44439.46it/s]\n"
     ]
    },
    {
     "name": "stdout",
     "output_type": "stream",
     "text": [
      "train epoch 41; \n",
      "train error: 1.0367317289011457 \n",
      "validation error: 1.0927699936381996\n"
     ]
    },
    {
     "name": "stderr",
     "output_type": "stream",
     "text": [
      "420068it [00:10, 39887.35it/s]\n"
     ]
    },
    {
     "name": "stdout",
     "output_type": "stream",
     "text": [
      "train epoch 42; \n",
      "train error: 1.032735504657889 \n",
      "validation error: 1.0886805930986272\n"
     ]
    },
    {
     "name": "stderr",
     "output_type": "stream",
     "text": [
      "420068it [00:09, 43978.12it/s]\n"
     ]
    },
    {
     "name": "stdout",
     "output_type": "stream",
     "text": [
      "train epoch 43; \n",
      "train error: 1.0288809854982837 \n",
      "validation error: 1.0847480579233417\n"
     ]
    },
    {
     "name": "stderr",
     "output_type": "stream",
     "text": [
      "420068it [00:10, 41055.24it/s]\n"
     ]
    },
    {
     "name": "stdout",
     "output_type": "stream",
     "text": [
      "train epoch 44; \n",
      "train error: 1.0251573046495146 \n",
      "validation error: 1.0809603051878847\n"
     ]
    },
    {
     "name": "stderr",
     "output_type": "stream",
     "text": [
      "420068it [00:10, 41413.21it/s]\n"
     ]
    },
    {
     "name": "stdout",
     "output_type": "stream",
     "text": [
      "train epoch 45; \n",
      "train error: 1.0215546841130552 \n",
      "validation error: 1.0773064604434925\n"
     ]
    },
    {
     "name": "stderr",
     "output_type": "stream",
     "text": [
      "420068it [00:10, 41017.12it/s]\n"
     ]
    },
    {
     "name": "stdout",
     "output_type": "stream",
     "text": [
      "train epoch 46; \n",
      "train error: 1.0180643105767417 \n",
      "validation error: 1.0737767201309445\n"
     ]
    },
    {
     "name": "stderr",
     "output_type": "stream",
     "text": [
      "420068it [00:08, 47964.03it/s]\n"
     ]
    },
    {
     "name": "stdout",
     "output_type": "stream",
     "text": [
      "train epoch 47; \n",
      "train error: 1.0146782273667345 \n",
      "validation error: 1.0703622315226033\n"
     ]
    },
    {
     "name": "stderr",
     "output_type": "stream",
     "text": [
      "420068it [00:09, 43003.96it/s]\n"
     ]
    },
    {
     "name": "stdout",
     "output_type": "stream",
     "text": [
      "train epoch 48; \n",
      "train error: 1.011389240130622 \n",
      "validation error: 1.0670549877486897\n"
     ]
    },
    {
     "name": "stderr",
     "output_type": "stream",
     "text": [
      "420068it [00:12, 34640.18it/s]\n"
     ]
    },
    {
     "name": "stdout",
     "output_type": "stream",
     "text": [
      "train epoch 49; \n",
      "train error: 1.0081908342968886 \n",
      "validation error: 1.0638477358217446\n"
     ]
    },
    {
     "name": "stderr",
     "output_type": "stream",
     "text": [
      "420068it [00:15, 26723.35it/s]\n"
     ]
    },
    {
     "name": "stdout",
     "output_type": "stream",
     "text": [
      "train epoch 50; \n",
      "train error: 1.0050771026548622 \n",
      "validation error: 1.060733895878526\n"
     ]
    },
    {
     "name": "stderr",
     "output_type": "stream",
     "text": [
      "420068it [00:09, 46662.82it/s]\n"
     ]
    },
    {
     "name": "stdout",
     "output_type": "stream",
     "text": [
      "train epoch 51; \n",
      "train error: 1.0020426816513366 \n",
      "validation error: 1.0577074901186572\n"
     ]
    },
    {
     "name": "stderr",
     "output_type": "stream",
     "text": [
      "420068it [00:08, 50531.50it/s]\n"
     ]
    },
    {
     "name": "stdout",
     "output_type": "stream",
     "text": [
      "train epoch 52; \n",
      "train error: 0.9990826952124787 \n",
      "validation error: 1.0547630801406724\n"
     ]
    },
    {
     "name": "stderr",
     "output_type": "stream",
     "text": [
      "420068it [00:09, 43669.52it/s]\n"
     ]
    },
    {
     "name": "stdout",
     "output_type": "stream",
     "text": [
      "train epoch 53; \n",
      "train error: 0.9961927050785844 \n",
      "validation error: 1.0518957115642986\n"
     ]
    },
    {
     "name": "stderr",
     "output_type": "stream",
     "text": [
      "420068it [00:11, 37250.46it/s]\n"
     ]
    },
    {
     "name": "stdout",
     "output_type": "stream",
     "text": [
      "train epoch 54; \n",
      "train error: 0.9933686667899769 \n",
      "validation error: 1.0491008649878222\n"
     ]
    },
    {
     "name": "stderr",
     "output_type": "stream",
     "text": [
      "420068it [00:12, 32413.84it/s]\n"
     ]
    },
    {
     "name": "stdout",
     "output_type": "stream",
     "text": [
      "train epoch 55; \n",
      "train error: 0.9906068905893956 \n",
      "validation error: 1.046374412465368\n"
     ]
    },
    {
     "name": "stderr",
     "output_type": "stream",
     "text": [
      "420068it [00:10, 41501.55it/s]\n"
     ]
    },
    {
     "name": "stdout",
     "output_type": "stream",
     "text": [
      "train epoch 56; \n",
      "train error: 0.9879040066133166 \n",
      "validation error: 1.043712578804523\n"
     ]
    },
    {
     "name": "stderr",
     "output_type": "stream",
     "text": [
      "420068it [00:10, 41774.74it/s]\n"
     ]
    },
    {
     "name": "stdout",
     "output_type": "stream",
     "text": [
      "train epoch 57; \n",
      "train error: 0.9852569338350604 \n",
      "validation error: 1.041111907083029\n"
     ]
    },
    {
     "name": "stderr",
     "output_type": "stream",
     "text": [
      "420068it [00:07, 53262.16it/s]\n"
     ]
    },
    {
     "name": "stdout",
     "output_type": "stream",
     "text": [
      "train epoch 58; \n",
      "train error: 0.9826628522988945 \n",
      "validation error: 1.0385692278668917\n"
     ]
    },
    {
     "name": "stderr",
     "output_type": "stream",
     "text": [
      "420068it [00:07, 57655.82it/s]\n"
     ]
    },
    {
     "name": "stdout",
     "output_type": "stream",
     "text": [
      "train epoch 59; \n",
      "train error: 0.9801191782489281 \n",
      "validation error: 1.0360816316834454\n"
     ]
    },
    {
     "name": "stderr",
     "output_type": "stream",
     "text": [
      "420068it [00:07, 57262.73it/s]\n"
     ]
    },
    {
     "name": "stdout",
     "output_type": "stream",
     "text": [
      "train epoch 60; \n",
      "train error: 0.9776235418112833 \n",
      "validation error: 1.033646444363556\n"
     ]
    },
    {
     "name": "stderr",
     "output_type": "stream",
     "text": [
      "420068it [00:07, 53741.38it/s]\n"
     ]
    },
    {
     "name": "stdout",
     "output_type": "stream",
     "text": [
      "train epoch 61; \n",
      "train error: 0.9751737669344187 \n",
      "validation error: 1.0312612049188685\n"
     ]
    },
    {
     "name": "stderr",
     "output_type": "stream",
     "text": [
      "420068it [00:07, 57021.68it/s]\n"
     ]
    },
    {
     "name": "stdout",
     "output_type": "stream",
     "text": [
      "train epoch 62; \n",
      "train error: 0.9727678533318747 \n",
      "validation error: 1.0289236456641553\n"
     ]
    },
    {
     "name": "stderr",
     "output_type": "stream",
     "text": [
      "420068it [00:07, 56189.78it/s]\n"
     ]
    },
    {
     "name": "stdout",
     "output_type": "stream",
     "text": [
      "train epoch 63; \n",
      "train error: 0.9704039602052308 \n",
      "validation error: 1.026631674332559\n"
     ]
    },
    {
     "name": "stderr",
     "output_type": "stream",
     "text": [
      "420068it [00:07, 59409.16it/s]\n"
     ]
    },
    {
     "name": "stdout",
     "output_type": "stream",
     "text": [
      "train epoch 64; \n",
      "train error: 0.9680803915536461 \n",
      "validation error: 1.0243833579638209\n"
     ]
    },
    {
     "name": "stderr",
     "output_type": "stream",
     "text": [
      "420068it [00:07, 59065.50it/s]\n"
     ]
    },
    {
     "name": "stdout",
     "output_type": "stream",
     "text": [
      "train epoch 65; \n",
      "train error: 0.9657955829007377 \n",
      "validation error: 1.0221769083732657\n"
     ]
    },
    {
     "name": "stderr",
     "output_type": "stream",
     "text": [
      "420068it [00:07, 58464.76it/s]\n"
     ]
    },
    {
     "name": "stdout",
     "output_type": "stream",
     "text": [
      "train epoch 66; \n",
      "train error: 0.9635480892904548 \n",
      "validation error: 1.0200106690330837\n"
     ]
    },
    {
     "name": "stderr",
     "output_type": "stream",
     "text": [
      "420068it [00:07, 57813.96it/s]\n"
     ]
    },
    {
     "name": "stdout",
     "output_type": "stream",
     "text": [
      "train epoch 67; \n",
      "train error: 0.9613365744214951 \n",
      "validation error: 1.0178831032178781\n"
     ]
    },
    {
     "name": "stderr",
     "output_type": "stream",
     "text": [
      "420068it [00:08, 51923.77it/s]\n"
     ]
    },
    {
     "name": "stdout",
     "output_type": "stream",
     "text": [
      "train epoch 68; \n",
      "train error: 0.9591598008052212 \n",
      "validation error: 1.0157927832840754\n"
     ]
    },
    {
     "name": "stderr",
     "output_type": "stream",
     "text": [
      "420068it [00:07, 54244.81it/s]\n"
     ]
    },
    {
     "name": "stdout",
     "output_type": "stream",
     "text": [
      "train epoch 69; \n",
      "train error: 0.9570166208452927 \n",
      "validation error: 1.0137383809679787\n"
     ]
    },
    {
     "name": "stderr",
     "output_type": "stream",
     "text": [
      "420068it [00:07, 56674.46it/s]\n"
     ]
    },
    {
     "name": "stdout",
     "output_type": "stream",
     "text": [
      "train epoch 70; \n",
      "train error: 0.9549059687487143 \n",
      "validation error: 1.0117186586004279\n"
     ]
    },
    {
     "name": "stderr",
     "output_type": "stream",
     "text": [
      "420068it [00:07, 56077.68it/s]\n"
     ]
    },
    {
     "name": "stdout",
     "output_type": "stream",
     "text": [
      "train epoch 71; \n",
      "train error: 0.952826853187919 \n",
      "validation error: 1.0097324611474328\n"
     ]
    },
    {
     "name": "stderr",
     "output_type": "stream",
     "text": [
      "420068it [00:07, 52725.20it/s]\n"
     ]
    },
    {
     "name": "stdout",
     "output_type": "stream",
     "text": [
      "train epoch 72; \n",
      "train error: 0.9507783506421732 \n",
      "validation error: 1.007778708996081\n"
     ]
    },
    {
     "name": "stderr",
     "output_type": "stream",
     "text": [
      "420068it [00:07, 52587.88it/s]\n"
     ]
    },
    {
     "name": "stdout",
     "output_type": "stream",
     "text": [
      "train epoch 73; \n",
      "train error: 0.9487595993541058 \n",
      "validation error: 1.0058563914136882\n"
     ]
    },
    {
     "name": "stderr",
     "output_type": "stream",
     "text": [
      "420068it [00:07, 55923.34it/s]\n"
     ]
    },
    {
     "name": "stdout",
     "output_type": "stream",
     "text": [
      "train epoch 74; \n",
      "train error: 0.94676979384378 \n",
      "validation error: 1.0039645606157253\n"
     ]
    },
    {
     "name": "stderr",
     "output_type": "stream",
     "text": [
      "420068it [00:07, 53100.16it/s]\n"
     ]
    },
    {
     "name": "stdout",
     "output_type": "stream",
     "text": [
      "train epoch 75; \n",
      "train error: 0.9448081799285084 \n",
      "validation error: 1.0021023263847182\n"
     ]
    },
    {
     "name": "stderr",
     "output_type": "stream",
     "text": [
      "420068it [00:07, 58318.93it/s]\n"
     ]
    },
    {
     "name": "stdout",
     "output_type": "stream",
     "text": [
      "train epoch 76; \n",
      "train error: 0.9428740502017282 \n",
      "validation error: 1.0002688511881517\n"
     ]
    },
    {
     "name": "stderr",
     "output_type": "stream",
     "text": [
      "420068it [00:07, 56575.50it/s]\n"
     ]
    },
    {
     "name": "stdout",
     "output_type": "stream",
     "text": [
      "train epoch 77; \n",
      "train error: 0.9409667399287651 \n",
      "validation error: 0.9984633457485904\n"
     ]
    },
    {
     "name": "stderr",
     "output_type": "stream",
     "text": [
      "420068it [00:07, 56561.80it/s]\n"
     ]
    },
    {
     "name": "stdout",
     "output_type": "stream",
     "text": [
      "train epoch 78; \n",
      "train error: 0.9390856233213332 \n",
      "validation error: 0.9966850650237892\n"
     ]
    },
    {
     "name": "stderr",
     "output_type": "stream",
     "text": [
      "420068it [00:07, 59599.20it/s]\n"
     ]
    },
    {
     "name": "stdout",
     "output_type": "stream",
     "text": [
      "train epoch 79; \n",
      "train error: 0.9372301101561816 \n",
      "validation error: 0.9949333045586447\n"
     ]
    },
    {
     "name": "stderr",
     "output_type": "stream",
     "text": [
      "420068it [00:07, 58680.24it/s]\n"
     ]
    },
    {
     "name": "stdout",
     "output_type": "stream",
     "text": [
      "train epoch 80; \n",
      "train error: 0.9353996427065095 \n",
      "validation error: 0.993207397174455\n"
     ]
    },
    {
     "name": "stderr",
     "output_type": "stream",
     "text": [
      "420068it [00:07, 57838.44it/s]\n"
     ]
    },
    {
     "name": "stdout",
     "output_type": "stream",
     "text": [
      "train epoch 81; \n",
      "train error: 0.9335936929576191 \n",
      "validation error: 0.9915067099641935\n"
     ]
    },
    {
     "name": "stderr",
     "output_type": "stream",
     "text": [
      "420068it [00:08, 51170.43it/s]\n"
     ]
    },
    {
     "name": "stdout",
     "output_type": "stream",
     "text": [
      "train epoch 82; \n",
      "train error: 0.9318117600808706 \n",
      "validation error: 0.989830641565419\n"
     ]
    },
    {
     "name": "stderr",
     "output_type": "stream",
     "text": [
      "420068it [00:07, 56720.71it/s]\n"
     ]
    },
    {
     "name": "stdout",
     "output_type": "stream",
     "text": [
      "train epoch 83; \n",
      "train error: 0.930053368142325 \n",
      "validation error: 0.9881786196850372\n"
     ]
    },
    {
     "name": "stderr",
     "output_type": "stream",
     "text": [
      "420068it [00:07, 59255.31it/s]\n"
     ]
    },
    {
     "name": "stdout",
     "output_type": "stream",
     "text": [
      "train epoch 84; \n",
      "train error: 0.9283180640245607 \n",
      "validation error: 0.9865500988525012\n"
     ]
    },
    {
     "name": "stderr",
     "output_type": "stream",
     "text": [
      "420068it [00:07, 56509.54it/s]\n"
     ]
    },
    {
     "name": "stdout",
     "output_type": "stream",
     "text": [
      "train epoch 85; \n",
      "train error: 0.9266054155420721 \n",
      "validation error: 0.9849445583801587\n"
     ]
    },
    {
     "name": "stderr",
     "output_type": "stream",
     "text": [
      "420068it [00:07, 56450.61it/s]\n"
     ]
    },
    {
     "name": "stdout",
     "output_type": "stream",
     "text": [
      "train epoch 86; \n",
      "train error: 0.9249150097323828 \n",
      "validation error: 0.983361500511373\n"
     ]
    },
    {
     "name": "stderr",
     "output_type": "stream",
     "text": [
      "420068it [00:07, 58031.48it/s]\n"
     ]
    },
    {
     "name": "stdout",
     "output_type": "stream",
     "text": [
      "train epoch 87; \n",
      "train error: 0.9232464513065974 \n",
      "validation error: 0.981800448738808\n"
     ]
    },
    {
     "name": "stderr",
     "output_type": "stream",
     "text": [
      "420068it [00:08, 49926.31it/s]\n"
     ]
    },
    {
     "name": "stdout",
     "output_type": "stream",
     "text": [
      "train epoch 88; \n",
      "train error: 0.9215993612445426 \n",
      "validation error: 0.9802609462768398\n"
     ]
    },
    {
     "name": "stderr",
     "output_type": "stream",
     "text": [
      "420068it [00:07, 52795.49it/s]\n"
     ]
    },
    {
     "name": "stdout",
     "output_type": "stream",
     "text": [
      "train epoch 89; \n",
      "train error: 0.9199733755209826 \n",
      "validation error: 0.9787425546735163\n"
     ]
    },
    {
     "name": "stderr",
     "output_type": "stream",
     "text": [
      "420068it [00:07, 52799.93it/s]\n"
     ]
    },
    {
     "name": "stdout",
     "output_type": "stream",
     "text": [
      "train epoch 90; \n",
      "train error: 0.9183681439505842 \n",
      "validation error: 0.9772448525487932\n"
     ]
    },
    {
     "name": "stderr",
     "output_type": "stream",
     "text": [
      "420068it [00:08, 52104.21it/s]\n"
     ]
    },
    {
     "name": "stdout",
     "output_type": "stream",
     "text": [
      "train epoch 91; \n",
      "train error: 0.916783329140408 \n",
      "validation error: 0.9757674344469813\n"
     ]
    },
    {
     "name": "stderr",
     "output_type": "stream",
     "text": [
      "420068it [00:08, 50049.52it/s]\n"
     ]
    },
    {
     "name": "stdout",
     "output_type": "stream",
     "text": [
      "train epoch 92; \n",
      "train error: 0.9152186055397169 \n",
      "validation error: 0.9743099097924373\n"
     ]
    },
    {
     "name": "stderr",
     "output_type": "stream",
     "text": [
      "420068it [00:07, 53506.45it/s]\n"
     ]
    },
    {
     "name": "stdout",
     "output_type": "stream",
     "text": [
      "train epoch 93; \n",
      "train error: 0.9136736585778055 \n",
      "validation error: 0.9728719019385271\n"
     ]
    },
    {
     "name": "stderr",
     "output_type": "stream",
     "text": [
      "420068it [00:07, 53024.81it/s]\n"
     ]
    },
    {
     "name": "stdout",
     "output_type": "stream",
     "text": [
      "train epoch 94; \n",
      "train error: 0.912148183881406 \n",
      "validation error: 0.971453047300812\n"
     ]
    },
    {
     "name": "stderr",
     "output_type": "stream",
     "text": [
      "420068it [00:08, 48745.17it/s]\n"
     ]
    },
    {
     "name": "stdout",
     "output_type": "stream",
     "text": [
      "train epoch 95; \n",
      "train error: 0.9106418865639895 \n",
      "validation error: 0.9700529945662391\n"
     ]
    },
    {
     "name": "stderr",
     "output_type": "stream",
     "text": [
      "420068it [00:07, 56606.91it/s]\n"
     ]
    },
    {
     "name": "stdout",
     "output_type": "stream",
     "text": [
      "train epoch 96; \n",
      "train error: 0.9091544805800039 \n",
      "validation error: 0.9686714039708855\n"
     ]
    },
    {
     "name": "stderr",
     "output_type": "stream",
     "text": [
      "420068it [00:07, 56592.21it/s]\n"
     ]
    },
    {
     "name": "stdout",
     "output_type": "stream",
     "text": [
      "train epoch 97; \n",
      "train error: 0.9076856881377146 \n",
      "validation error: 0.967307946639501\n"
     ]
    },
    {
     "name": "stderr",
     "output_type": "stream",
     "text": [
      "420068it [00:07, 58358.96it/s]\n"
     ]
    },
    {
     "name": "stdout",
     "output_type": "stream",
     "text": [
      "train epoch 98; \n",
      "train error: 0.9062352391649288 \n",
      "validation error: 0.9659623039807391\n"
     ]
    },
    {
     "name": "stderr",
     "output_type": "stream",
     "text": [
      "420068it [00:07, 58284.59it/s]\n"
     ]
    },
    {
     "name": "stdout",
     "output_type": "stream",
     "text": [
      "train epoch 99; \n",
      "train error: 0.9048028708224105 \n",
      "validation error: 0.964634167132538\n"
     ]
    }
   ],
   "source": [
    "model.fit(y_train, y_val)"
   ]
  },
  {
   "cell_type": "code",
   "execution_count": 22,
   "metadata": {},
   "outputs": [],
   "source": [
    "train_errors, val_errors = model.get_evaluation_errors()"
   ]
  },
  {
   "cell_type": "code",
   "execution_count": 23,
   "metadata": {},
   "outputs": [
    {
     "data": {
      "text/plain": [
       "Text(0.5, 1.0, 'Training errors')"
      ]
     },
     "execution_count": 23,
     "metadata": {},
     "output_type": "execute_result"
    },
    {
     "data": {
      "image/png": "[encoded data removed]",
      "text/plain": [
       "<Figure size 1152x720 with 1 Axes>"
      ]
     },
     "metadata": {
      "needs_background": "light"
     },
     "output_type": "display_data"
    }
   ],
   "source": [
    "plt.figure(figsize = [16,10])\n",
    "plt.plot(\n",
    "    train_errors,\n",
    "    'o'\n",
    ")\n",
    "plt.plot(\n",
    "    val_errors, \n",
    "    'o'\n",
    ")\n",
    "\n",
    "plt.legend([\"Training\", \"Validation\"])\n",
    "plt.title(\"Training errors\")"
   ]
  },
  {
   "cell_type": "code",
   "execution_count": 24,
   "metadata": {},
   "outputs": [],
   "source": [
    "X, Theta = model.X, model.Theta"
   ]
  },
  {
   "cell_type": "code",
   "execution_count": 25,
   "metadata": {},
   "outputs": [
    {
     "data": {
      "text/plain": [
       "(5, 10109)"
      ]
     },
     "execution_count": 25,
     "metadata": {},
     "output_type": "execute_result"
    }
   ],
   "source": [
    "X.shape"
   ]
  },
  {
   "cell_type": "code",
   "execution_count": 36,
   "metadata": {},
   "outputs": [
    {
     "data": {
      "text/html": [
       "<div>\n",
       "<style scoped>\n",
       "    .dataframe tbody tr th:only-of-type {\n",
       "        vertical-align: middle;\n",
       "    }\n",
       "\n",
       "    .dataframe tbody tr th {\n",
       "        vertical-align: top;\n",
       "    }\n",
       "\n",
       "    .dataframe thead th {\n",
       "        text-align: right;\n",
       "    }\n",
       "</style>\n",
       "<table border=\"1\" class=\"dataframe\">\n",
       "  <thead>\n",
       "    <tr style=\"text-align: right;\">\n",
       "      <th></th>\n",
       "      <th>userID</th>\n",
       "      <th>movieID</th>\n",
       "      <th>rating</th>\n",
       "      <th>date_day</th>\n",
       "      <th>date_month</th>\n",
       "      <th>date_year</th>\n",
       "      <th>date_hour</th>\n",
       "      <th>date_minute</th>\n",
       "      <th>date_second</th>\n",
       "    </tr>\n",
       "  </thead>\n",
       "  <tbody>\n",
       "    <tr>\n",
       "      <th>0</th>\n",
       "      <td>75</td>\n",
       "      <td>3</td>\n",
       "      <td>1.0</td>\n",
       "      <td>29</td>\n",
       "      <td>10</td>\n",
       "      <td>2006</td>\n",
       "      <td>23</td>\n",
       "      <td>17</td>\n",
       "      <td>16</td>\n",
       "    </tr>\n",
       "    <tr>\n",
       "      <th>1</th>\n",
       "      <td>75</td>\n",
       "      <td>32</td>\n",
       "      <td>4.5</td>\n",
       "      <td>29</td>\n",
       "      <td>10</td>\n",
       "      <td>2006</td>\n",
       "      <td>23</td>\n",
       "      <td>23</td>\n",
       "      <td>44</td>\n",
       "    </tr>\n",
       "    <tr>\n",
       "      <th>2</th>\n",
       "      <td>75</td>\n",
       "      <td>110</td>\n",
       "      <td>4.0</td>\n",
       "      <td>29</td>\n",
       "      <td>10</td>\n",
       "      <td>2006</td>\n",
       "      <td>23</td>\n",
       "      <td>30</td>\n",
       "      <td>8</td>\n",
       "    </tr>\n",
       "    <tr>\n",
       "      <th>3</th>\n",
       "      <td>75</td>\n",
       "      <td>160</td>\n",
       "      <td>2.0</td>\n",
       "      <td>29</td>\n",
       "      <td>10</td>\n",
       "      <td>2006</td>\n",
       "      <td>23</td>\n",
       "      <td>16</td>\n",
       "      <td>52</td>\n",
       "    </tr>\n",
       "    <tr>\n",
       "      <th>4</th>\n",
       "      <td>75</td>\n",
       "      <td>163</td>\n",
       "      <td>4.0</td>\n",
       "      <td>29</td>\n",
       "      <td>10</td>\n",
       "      <td>2006</td>\n",
       "      <td>23</td>\n",
       "      <td>29</td>\n",
       "      <td>30</td>\n",
       "    </tr>\n",
       "    <tr>\n",
       "      <th>...</th>\n",
       "      <td>...</td>\n",
       "      <td>...</td>\n",
       "      <td>...</td>\n",
       "      <td>...</td>\n",
       "      <td>...</td>\n",
       "      <td>...</td>\n",
       "      <td>...</td>\n",
       "      <td>...</td>\n",
       "      <td>...</td>\n",
       "    </tr>\n",
       "    <tr>\n",
       "      <th>855593</th>\n",
       "      <td>71534</td>\n",
       "      <td>44555</td>\n",
       "      <td>4.0</td>\n",
       "      <td>3</td>\n",
       "      <td>12</td>\n",
       "      <td>2007</td>\n",
       "      <td>3</td>\n",
       "      <td>5</td>\n",
       "      <td>38</td>\n",
       "    </tr>\n",
       "    <tr>\n",
       "      <th>855594</th>\n",
       "      <td>71534</td>\n",
       "      <td>46578</td>\n",
       "      <td>4.0</td>\n",
       "      <td>3</td>\n",
       "      <td>12</td>\n",
       "      <td>2007</td>\n",
       "      <td>2</td>\n",
       "      <td>56</td>\n",
       "      <td>44</td>\n",
       "    </tr>\n",
       "    <tr>\n",
       "      <th>855595</th>\n",
       "      <td>71534</td>\n",
       "      <td>48516</td>\n",
       "      <td>4.5</td>\n",
       "      <td>3</td>\n",
       "      <td>12</td>\n",
       "      <td>2007</td>\n",
       "      <td>2</td>\n",
       "      <td>53</td>\n",
       "      <td>46</td>\n",
       "    </tr>\n",
       "    <tr>\n",
       "      <th>855596</th>\n",
       "      <td>71534</td>\n",
       "      <td>61075</td>\n",
       "      <td>5.0</td>\n",
       "      <td>10</td>\n",
       "      <td>10</td>\n",
       "      <td>2008</td>\n",
       "      <td>9</td>\n",
       "      <td>56</td>\n",
       "      <td>5</td>\n",
       "    </tr>\n",
       "    <tr>\n",
       "      <th>855597</th>\n",
       "      <td>71534</td>\n",
       "      <td>62049</td>\n",
       "      <td>4.5</td>\n",
       "      <td>10</td>\n",
       "      <td>10</td>\n",
       "      <td>2008</td>\n",
       "      <td>9</td>\n",
       "      <td>58</td>\n",
       "      <td>10</td>\n",
       "    </tr>\n",
       "  </tbody>\n",
       "</table>\n",
       "<p>855598 rows × 9 columns</p>\n",
       "</div>"
      ],
      "text/plain": [
       "        userID  movieID  rating  date_day  date_month  date_year  date_hour  \\\n",
       "0           75        3     1.0        29          10       2006         23   \n",
       "1           75       32     4.5        29          10       2006         23   \n",
       "2           75      110     4.0        29          10       2006         23   \n",
       "3           75      160     2.0        29          10       2006         23   \n",
       "4           75      163     4.0        29          10       2006         23   \n",
       "...        ...      ...     ...       ...         ...        ...        ...   \n",
       "855593   71534    44555     4.0         3          12       2007          3   \n",
       "855594   71534    46578     4.0         3          12       2007          2   \n",
       "855595   71534    48516     4.5         3          12       2007          2   \n",
       "855596   71534    61075     5.0        10          10       2008          9   \n",
       "855597   71534    62049     4.5        10          10       2008          9   \n",
       "\n",
       "        date_minute  date_second  \n",
       "0                17           16  \n",
       "1                23           44  \n",
       "2                30            8  \n",
       "3                16           52  \n",
       "4                29           30  \n",
       "...             ...          ...  \n",
       "855593            5           38  \n",
       "855594           56           44  \n",
       "855595           53           46  \n",
       "855596           56            5  \n",
       "855597           58           10  \n",
       "\n",
       "[855598 rows x 9 columns]"
      ]
     },
     "execution_count": 36,
     "metadata": {},
     "output_type": "execute_result"
    }
   ],
   "source": [
    "ratings_df"
   ]
  },
  {
   "cell_type": "code",
   "execution_count": null,
   "metadata": {},
   "outputs": [],
   "source": []
  },
  {
   "cell_type": "code",
   "execution_count": 26,
   "metadata": {},
   "outputs": [
    {
     "data": {
      "text/plain": [
       "0.9048028708224105"
      ]
     },
     "execution_count": 26,
     "metadata": {},
     "output_type": "execute_result"
    }
   ],
   "source": [
    "model.rms(\n",
    "    y_train,\n",
    "    (Theta.T @ X)\n",
    ")"
   ]
  },
  {
   "cell_type": "code",
   "execution_count": 27,
   "metadata": {},
   "outputs": [],
   "source": [
    "Theta.tofile(\n",
    "    \"data/collaborative-filtering/model/Theta_l2.csv\",\n",
    "    sep= ','    \n",
    ")"
   ]
  },
  {
   "cell_type": "code",
   "execution_count": 28,
   "metadata": {},
   "outputs": [],
   "source": [
    "X.tofile(\n",
    "    \"data/collaborative-filtering/model/X_l2.csv\",\n",
    "    sep= ','    \n",
    ")"
   ]
  },
  {
   "cell_type": "code",
   "execution_count": 29,
   "metadata": {},
   "outputs": [],
   "source": [
    "y_pred = Theta.T @ X"
   ]
  },
  {
   "cell_type": "code",
   "execution_count": 30,
   "metadata": {},
   "outputs": [
    {
     "data": {
      "text/plain": [
       "Text(0.5, 6.79999999999999, 'prediction')"
      ]
     },
     "execution_count": 30,
     "metadata": {},
     "output_type": "execute_result"
    },
    {
     "data": {
      "text/plain": [
       "<Figure size 1152x720 with 0 Axes>"
      ]
     },
     "metadata": {},
     "output_type": "display_data"
    },
    {
     "data": {
      "image/png": "[encoded data removed]",
      "text/plain": [
       "<Figure size 360x360 with 1 Axes>"
      ]
     },
     "metadata": {
      "needs_background": "light"
     },
     "output_type": "display_data"
    }
   ],
   "source": [
    "plt.figure(figsize = [16, 10])\n",
    "sns.displot(y_pred.flatten())\n",
    "plt.title(\"Predictions distribution\")\n",
    "plt.xlabel(\"prediction\")"
   ]
  },
  {
   "cell_type": "code",
   "execution_count": 31,
   "metadata": {},
   "outputs": [
    {
     "data": {
      "text/plain": [
       "{'max value': 31.68933880010848,\n",
       " 'min value': -13.692230420323508,\n",
       " 'average value': 4.6701485535023375,\n",
       " 'median value': 4.1114102547054285,\n",
       " 'quantile 0.05': 2.126053246998667,\n",
       " 'quantile 0.9': 7.576128377310517}"
      ]
     },
     "execution_count": 31,
     "metadata": {},
     "output_type": "execute_result"
    }
   ],
   "source": [
    "{\n",
    "    'max value': y_pred.max(),\n",
    "    'min value': y_pred.min(),\n",
    "    'average value': y_pred.mean(),\n",
    "    'median value': np.median(y_pred), \n",
    "    'quantile 0.05' : np.quantile(y_pred, 0.05),\n",
    "    'quantile 0.9': np.quantile(y_pred, 0.9),\n",
    "}"
   ]
  },
  {
   "attachments": {},
   "cell_type": "markdown",
   "metadata": {},
   "source": [
    "### Train model with constraints \n",
    "As we can see, some predictions are out of the domain of ratings ${0, \\ \\dots, 5}$\n",
    "We will them add a constraint to ```y_pred``` and re-train the model "
   ]
  },
  {
   "cell_type": "code",
   "execution_count": 32,
   "metadata": {},
   "outputs": [],
   "source": [
    "y_pred[y_pred > 5] = 5\n",
    "y_pred[y_pred < 0] = 0"
   ]
  },
  {
   "cell_type": "code",
   "execution_count": 33,
   "metadata": {},
   "outputs": [],
   "source": [
    "model = SGDOptimizer(\n",
    "    predict_constraints = True\n",
    ")"
   ]
  },
  {
   "cell_type": "code",
   "execution_count": 35,
   "metadata": {},
   "outputs": [
    {
     "name": "stderr",
     "output_type": "stream",
     "text": [
      "420068it [00:06, 61602.91it/s]\n"
     ]
    },
    {
     "name": "stdout",
     "output_type": "stream",
     "text": [
      "train epoch 0; \n",
      "train error: 1.8917284283135294 \n",
      "validation error: 1.89272248343296\n"
     ]
    },
    {
     "name": "stderr",
     "output_type": "stream",
     "text": [
      "420068it [00:06, 64513.12it/s]\n"
     ]
    },
    {
     "name": "stdout",
     "output_type": "stream",
     "text": [
      "train epoch 1; \n",
      "train error: 1.8768664267235688 \n",
      "validation error: 1.8857047614462206\n"
     ]
    },
    {
     "name": "stderr",
     "output_type": "stream",
     "text": [
      "420068it [00:07, 57942.12it/s]\n"
     ]
    },
    {
     "name": "stdout",
     "output_type": "stream",
     "text": [
      "train epoch 2; \n",
      "train error: 1.8288714128172334 \n",
      "validation error: 1.842174323360567\n"
     ]
    },
    {
     "name": "stderr",
     "output_type": "stream",
     "text": [
      "420068it [00:08, 52071.90it/s]\n"
     ]
    },
    {
     "name": "stdout",
     "output_type": "stream",
     "text": [
      "train epoch 3; \n",
      "train error: 1.7833216275312196 \n",
      "validation error: 1.7996322287953768\n"
     ]
    },
    {
     "name": "stderr",
     "output_type": "stream",
     "text": [
      "420068it [00:08, 47641.67it/s]\n"
     ]
    },
    {
     "name": "stdout",
     "output_type": "stream",
     "text": [
      "train epoch 4; \n",
      "train error: 1.7403529229132235 \n",
      "validation error: 1.7586971675883352\n"
     ]
    },
    {
     "name": "stderr",
     "output_type": "stream",
     "text": [
      "420068it [00:10, 40548.31it/s]\n"
     ]
    },
    {
     "name": "stdout",
     "output_type": "stream",
     "text": [
      "train epoch 5; \n",
      "train error: 1.6970665769000115 \n",
      "validation error: 1.7168351888977795\n"
     ]
    },
    {
     "name": "stderr",
     "output_type": "stream",
     "text": [
      "420068it [00:07, 59498.33it/s]\n"
     ]
    },
    {
     "name": "stdout",
     "output_type": "stream",
     "text": [
      "train epoch 6; \n",
      "train error: 1.6526474875343706 \n",
      "validation error: 1.6735542929972604\n"
     ]
    },
    {
     "name": "stderr",
     "output_type": "stream",
     "text": [
      "420068it [00:09, 44213.22it/s]\n"
     ]
    },
    {
     "name": "stdout",
     "output_type": "stream",
     "text": [
      "train epoch 7; \n",
      "train error: 1.608011274403619 \n",
      "validation error: 1.6298579759448537\n"
     ]
    },
    {
     "name": "stderr",
     "output_type": "stream",
     "text": [
      "420068it [00:08, 48601.80it/s]\n"
     ]
    },
    {
     "name": "stdout",
     "output_type": "stream",
     "text": [
      "train epoch 8; \n",
      "train error: 1.5646446627077926 \n",
      "validation error: 1.5874610829089955\n"
     ]
    },
    {
     "name": "stderr",
     "output_type": "stream",
     "text": [
      "420068it [00:08, 50250.78it/s]\n"
     ]
    },
    {
     "name": "stdout",
     "output_type": "stream",
     "text": [
      "train epoch 9; \n",
      "train error: 1.523412479400959 \n",
      "validation error: 1.5470486484149022\n"
     ]
    },
    {
     "name": "stderr",
     "output_type": "stream",
     "text": [
      "420068it [00:09, 44837.25it/s]\n"
     ]
    },
    {
     "name": "stdout",
     "output_type": "stream",
     "text": [
      "train epoch 10; \n",
      "train error: 1.4846588032969659 \n",
      "validation error: 1.509092834794134\n"
     ]
    },
    {
     "name": "stderr",
     "output_type": "stream",
     "text": [
      "420068it [00:07, 53052.96it/s]\n"
     ]
    },
    {
     "name": "stdout",
     "output_type": "stream",
     "text": [
      "train epoch 11; \n",
      "train error: 1.4486900194791876 \n",
      "validation error: 1.473748485530724\n"
     ]
    },
    {
     "name": "stderr",
     "output_type": "stream",
     "text": [
      "420068it [00:07, 53020.02it/s]\n"
     ]
    },
    {
     "name": "stdout",
     "output_type": "stream",
     "text": [
      "train epoch 12; \n",
      "train error: 1.415575355899195 \n",
      "validation error: 1.4410356774631614\n"
     ]
    },
    {
     "name": "stderr",
     "output_type": "stream",
     "text": [
      "420068it [00:08, 47796.45it/s]\n"
     ]
    },
    {
     "name": "stdout",
     "output_type": "stream",
     "text": [
      "train epoch 13; \n",
      "train error: 1.3850246799225872 \n",
      "validation error: 1.410770008280273\n"
     ]
    },
    {
     "name": "stderr",
     "output_type": "stream",
     "text": [
      "420068it [00:09, 42194.20it/s]\n"
     ]
    },
    {
     "name": "stdout",
     "output_type": "stream",
     "text": [
      "train epoch 14; \n",
      "train error: 1.3568179326500591 \n",
      "validation error: 1.3828156131078728\n"
     ]
    },
    {
     "name": "stderr",
     "output_type": "stream",
     "text": [
      "420068it [00:09, 42831.66it/s]\n"
     ]
    },
    {
     "name": "stdout",
     "output_type": "stream",
     "text": [
      "train epoch 15; \n",
      "train error: 1.330638382928328 \n",
      "validation error: 1.357094331343317\n"
     ]
    },
    {
     "name": "stderr",
     "output_type": "stream",
     "text": [
      "420068it [00:09, 46272.04it/s]\n"
     ]
    },
    {
     "name": "stdout",
     "output_type": "stream",
     "text": [
      "train epoch 16; \n",
      "train error: 1.3062893115854122 \n",
      "validation error: 1.3334542688301905\n"
     ]
    },
    {
     "name": "stderr",
     "output_type": "stream",
     "text": [
      "420068it [00:08, 48767.75it/s]\n"
     ]
    },
    {
     "name": "stdout",
     "output_type": "stream",
     "text": [
      "train epoch 17; \n",
      "train error: 1.2837651708478555 \n",
      "validation error: 1.3115703101274776\n"
     ]
    },
    {
     "name": "stderr",
     "output_type": "stream",
     "text": [
      "420068it [00:07, 53061.43it/s]\n"
     ]
    },
    {
     "name": "stdout",
     "output_type": "stream",
     "text": [
      "train epoch 18; \n",
      "train error: 1.2630703312124025 \n",
      "validation error: 1.291439295781801\n"
     ]
    },
    {
     "name": "stderr",
     "output_type": "stream",
     "text": [
      "420068it [00:07, 56127.56it/s]\n"
     ]
    },
    {
     "name": "stdout",
     "output_type": "stream",
     "text": [
      "train epoch 19; \n",
      "train error: 1.2439888282707428 \n",
      "validation error: 1.2729041381172954\n"
     ]
    },
    {
     "name": "stderr",
     "output_type": "stream",
     "text": [
      "420068it [00:07, 58800.85it/s]\n"
     ]
    },
    {
     "name": "stdout",
     "output_type": "stream",
     "text": [
      "train epoch 20; \n",
      "train error: 1.2263531323160766 \n",
      "validation error: 1.2557098336183834\n"
     ]
    },
    {
     "name": "stderr",
     "output_type": "stream",
     "text": [
      "420068it [00:07, 58061.16it/s]\n"
     ]
    },
    {
     "name": "stdout",
     "output_type": "stream",
     "text": [
      "train epoch 21; \n",
      "train error: 1.2100195441248944 \n",
      "validation error: 1.2397819789960378\n"
     ]
    },
    {
     "name": "stderr",
     "output_type": "stream",
     "text": [
      "420068it [00:07, 59811.56it/s]\n"
     ]
    },
    {
     "name": "stdout",
     "output_type": "stream",
     "text": [
      "train epoch 22; \n",
      "train error: 1.1948913017226264 \n",
      "validation error: 1.2250635303443336\n"
     ]
    },
    {
     "name": "stderr",
     "output_type": "stream",
     "text": [
      "420068it [00:07, 58616.78it/s]\n"
     ]
    },
    {
     "name": "stdout",
     "output_type": "stream",
     "text": [
      "train epoch 23; \n",
      "train error: 1.180842220509794 \n",
      "validation error: 1.2114155407490272\n"
     ]
    },
    {
     "name": "stderr",
     "output_type": "stream",
     "text": [
      "420068it [00:06, 60247.79it/s]\n"
     ]
    },
    {
     "name": "stdout",
     "output_type": "stream",
     "text": [
      "train epoch 24; \n",
      "train error: 1.167705781940173 \n",
      "validation error: 1.1986118012498341\n"
     ]
    },
    {
     "name": "stderr",
     "output_type": "stream",
     "text": [
      "420068it [00:06, 60294.47it/s]\n"
     ]
    },
    {
     "name": "stdout",
     "output_type": "stream",
     "text": [
      "train epoch 25; \n",
      "train error: 1.1553660996810524 \n",
      "validation error: 1.1865932412256504\n"
     ]
    },
    {
     "name": "stderr",
     "output_type": "stream",
     "text": [
      "420068it [00:07, 54561.22it/s]\n"
     ]
    },
    {
     "name": "stdout",
     "output_type": "stream",
     "text": [
      "train epoch 26; \n",
      "train error: 1.1437787788097173 \n",
      "validation error: 1.1753435983776084\n"
     ]
    },
    {
     "name": "stderr",
     "output_type": "stream",
     "text": [
      "420068it [00:07, 59765.46it/s]\n"
     ]
    },
    {
     "name": "stdout",
     "output_type": "stream",
     "text": [
      "train epoch 27; \n",
      "train error: 1.1328345312236177 \n",
      "validation error: 1.1647363229316672\n"
     ]
    },
    {
     "name": "stderr",
     "output_type": "stream",
     "text": [
      "420068it [00:08, 47624.02it/s]\n"
     ]
    },
    {
     "name": "stdout",
     "output_type": "stream",
     "text": [
      "train epoch 28; \n",
      "train error: 1.122477812022293 \n",
      "validation error: 1.154716053078435\n"
     ]
    },
    {
     "name": "stderr",
     "output_type": "stream",
     "text": [
      "420068it [00:08, 47234.35it/s]\n"
     ]
    },
    {
     "name": "stdout",
     "output_type": "stream",
     "text": [
      "train epoch 29; \n",
      "train error: 1.1127707253615016 \n",
      "validation error: 1.1452806101220065\n"
     ]
    },
    {
     "name": "stderr",
     "output_type": "stream",
     "text": [
      "420068it [00:07, 53924.38it/s]\n"
     ]
    },
    {
     "name": "stdout",
     "output_type": "stream",
     "text": [
      "train epoch 30; \n",
      "train error: 1.1036385204826433 \n",
      "validation error: 1.136394752298305\n"
     ]
    },
    {
     "name": "stderr",
     "output_type": "stream",
     "text": [
      "420068it [00:07, 54987.47it/s]\n"
     ]
    },
    {
     "name": "stdout",
     "output_type": "stream",
     "text": [
      "train epoch 31; \n",
      "train error: 1.0950077257204367 \n",
      "validation error: 1.1280058031401141\n"
     ]
    },
    {
     "name": "stderr",
     "output_type": "stream",
     "text": [
      "420068it [00:07, 54508.25it/s]\n"
     ]
    },
    {
     "name": "stdout",
     "output_type": "stream",
     "text": [
      "train epoch 32; \n",
      "train error: 1.08678729610217 \n",
      "validation error: 1.120036416535724\n"
     ]
    },
    {
     "name": "stderr",
     "output_type": "stream",
     "text": [
      "420068it [00:07, 55270.89it/s]\n"
     ]
    },
    {
     "name": "stdout",
     "output_type": "stream",
     "text": [
      "train epoch 33; \n",
      "train error: 1.0789055012996416 \n",
      "validation error: 1.1123706302937404\n"
     ]
    },
    {
     "name": "stderr",
     "output_type": "stream",
     "text": [
      "420068it [00:07, 57751.81it/s]\n"
     ]
    },
    {
     "name": "stdout",
     "output_type": "stream",
     "text": [
      "train epoch 34; \n",
      "train error: 1.0713714644621481 \n",
      "validation error: 1.105018517867808\n"
     ]
    },
    {
     "name": "stderr",
     "output_type": "stream",
     "text": [
      "420068it [00:07, 52823.08it/s]\n"
     ]
    },
    {
     "name": "stdout",
     "output_type": "stream",
     "text": [
      "train epoch 35; \n",
      "train error: 1.0641772953297937 \n",
      "validation error: 1.0979863419739775\n"
     ]
    },
    {
     "name": "stderr",
     "output_type": "stream",
     "text": [
      "420068it [00:07, 56240.71it/s]\n"
     ]
    },
    {
     "name": "stdout",
     "output_type": "stream",
     "text": [
      "train epoch 36; \n",
      "train error: 1.0572754681625225 \n",
      "validation error: 1.0912671089852046\n"
     ]
    },
    {
     "name": "stderr",
     "output_type": "stream",
     "text": [
      "420068it [00:07, 54153.10it/s]\n"
     ]
    },
    {
     "name": "stdout",
     "output_type": "stream",
     "text": [
      "train epoch 37; \n",
      "train error: 1.0506855255628522 \n",
      "validation error: 1.0848467192372546\n"
     ]
    },
    {
     "name": "stderr",
     "output_type": "stream",
     "text": [
      "420068it [00:07, 56091.80it/s]\n"
     ]
    },
    {
     "name": "stdout",
     "output_type": "stream",
     "text": [
      "train epoch 38; \n",
      "train error: 1.0444103330358339 \n",
      "validation error: 1.0787387409403815\n"
     ]
    },
    {
     "name": "stderr",
     "output_type": "stream",
     "text": [
      "420068it [00:07, 54976.64it/s]\n"
     ]
    },
    {
     "name": "stdout",
     "output_type": "stream",
     "text": [
      "train epoch 39; \n",
      "train error: 1.0384107651429815 \n",
      "validation error: 1.07292410084612\n"
     ]
    },
    {
     "name": "stderr",
     "output_type": "stream",
     "text": [
      "420068it [00:07, 55434.98it/s]\n"
     ]
    },
    {
     "name": "stdout",
     "output_type": "stream",
     "text": [
      "train epoch 40; \n",
      "train error: 1.0326679481893724 \n",
      "validation error: 1.0673574928980802\n"
     ]
    },
    {
     "name": "stderr",
     "output_type": "stream",
     "text": [
      "420068it [00:08, 48998.76it/s]\n"
     ]
    },
    {
     "name": "stdout",
     "output_type": "stream",
     "text": [
      "train epoch 41; \n",
      "train error: 1.0271734164059436 \n",
      "validation error: 1.0620175296475243\n"
     ]
    },
    {
     "name": "stderr",
     "output_type": "stream",
     "text": [
      "420068it [00:08, 52413.73it/s]\n"
     ]
    },
    {
     "name": "stdout",
     "output_type": "stream",
     "text": [
      "train epoch 42; \n",
      "train error: 1.0218982514978692 \n",
      "validation error: 1.056878541519313\n"
     ]
    },
    {
     "name": "stderr",
     "output_type": "stream",
     "text": [
      "420068it [00:07, 54535.25it/s]\n"
     ]
    },
    {
     "name": "stdout",
     "output_type": "stream",
     "text": [
      "train epoch 43; \n",
      "train error: 1.0168184962794673 \n",
      "validation error: 1.0519094176962365\n"
     ]
    },
    {
     "name": "stderr",
     "output_type": "stream",
     "text": [
      "420068it [00:07, 53498.08it/s]\n"
     ]
    },
    {
     "name": "stdout",
     "output_type": "stream",
     "text": [
      "train epoch 44; \n",
      "train error: 1.0118962699929324 \n",
      "validation error: 1.047108346104993\n"
     ]
    },
    {
     "name": "stderr",
     "output_type": "stream",
     "text": [
      "420068it [00:08, 48539.84it/s]\n"
     ]
    },
    {
     "name": "stdout",
     "output_type": "stream",
     "text": [
      "train epoch 45; \n",
      "train error: 1.0071395816838953 \n",
      "validation error: 1.0424581101865553\n"
     ]
    },
    {
     "name": "stderr",
     "output_type": "stream",
     "text": [
      "420068it [00:07, 53012.94it/s]\n"
     ]
    },
    {
     "name": "stdout",
     "output_type": "stream",
     "text": [
      "train epoch 46; \n",
      "train error: 1.002544426771985 \n",
      "validation error: 1.0379693565695232\n"
     ]
    },
    {
     "name": "stderr",
     "output_type": "stream",
     "text": [
      "420068it [00:07, 54307.60it/s]\n"
     ]
    },
    {
     "name": "stdout",
     "output_type": "stream",
     "text": [
      "train epoch 47; \n",
      "train error: 0.998094775985991 \n",
      "validation error: 1.0336290493830045\n"
     ]
    },
    {
     "name": "stderr",
     "output_type": "stream",
     "text": [
      "420068it [00:08, 47141.20it/s]\n"
     ]
    },
    {
     "name": "stdout",
     "output_type": "stream",
     "text": [
      "train epoch 48; \n",
      "train error: 0.9937796001503401 \n",
      "validation error: 1.0294238303847327\n"
     ]
    },
    {
     "name": "stderr",
     "output_type": "stream",
     "text": [
      "420068it [00:08, 51393.83it/s]\n"
     ]
    },
    {
     "name": "stdout",
     "output_type": "stream",
     "text": [
      "train epoch 49; \n",
      "train error: 0.9896048773900858 \n",
      "validation error: 1.0253553425470852\n"
     ]
    },
    {
     "name": "stderr",
     "output_type": "stream",
     "text": [
      "420068it [00:07, 54077.30it/s]\n"
     ]
    },
    {
     "name": "stdout",
     "output_type": "stream",
     "text": [
      "train epoch 50; \n",
      "train error: 0.9855554771217033 \n",
      "validation error: 1.0214198629531963\n"
     ]
    },
    {
     "name": "stderr",
     "output_type": "stream",
     "text": [
      "420068it [00:11, 36492.39it/s]\n"
     ]
    },
    {
     "name": "stdout",
     "output_type": "stream",
     "text": [
      "train epoch 51; \n",
      "train error: 0.9816221564271495 \n",
      "validation error: 1.017621118268069\n"
     ]
    },
    {
     "name": "stderr",
     "output_type": "stream",
     "text": [
      "420068it [00:07, 54662.12it/s]\n"
     ]
    },
    {
     "name": "stdout",
     "output_type": "stream",
     "text": [
      "train epoch 52; \n",
      "train error: 0.9777903186691868 \n",
      "validation error: 1.013945388899446\n"
     ]
    },
    {
     "name": "stderr",
     "output_type": "stream",
     "text": [
      "420068it [00:06, 63438.89it/s]\n"
     ]
    },
    {
     "name": "stdout",
     "output_type": "stream",
     "text": [
      "train epoch 53; \n",
      "train error: 0.974061965144737 \n",
      "validation error: 1.0103743281475046\n"
     ]
    },
    {
     "name": "stderr",
     "output_type": "stream",
     "text": [
      "420068it [00:07, 58551.36it/s]\n"
     ]
    },
    {
     "name": "stdout",
     "output_type": "stream",
     "text": [
      "train epoch 54; \n",
      "train error: 0.9704352557702729 \n",
      "validation error: 1.0069109585378822\n"
     ]
    },
    {
     "name": "stderr",
     "output_type": "stream",
     "text": [
      "420068it [00:06, 60150.55it/s]\n"
     ]
    },
    {
     "name": "stdout",
     "output_type": "stream",
     "text": [
      "train epoch 55; \n",
      "train error: 0.9669177300056191 \n",
      "validation error: 1.0035498653550063\n"
     ]
    },
    {
     "name": "stderr",
     "output_type": "stream",
     "text": [
      "420068it [00:06, 63374.81it/s]\n"
     ]
    },
    {
     "name": "stdout",
     "output_type": "stream",
     "text": [
      "train epoch 56; \n",
      "train error: 0.9635023134332859 \n",
      "validation error: 1.0002865842964428\n"
     ]
    },
    {
     "name": "stderr",
     "output_type": "stream",
     "text": [
      "420068it [00:07, 57559.31it/s]\n"
     ]
    },
    {
     "name": "stdout",
     "output_type": "stream",
     "text": [
      "train epoch 57; \n",
      "train error: 0.9601889768203311 \n",
      "validation error: 0.9971091286548837\n"
     ]
    },
    {
     "name": "stderr",
     "output_type": "stream",
     "text": [
      "420068it [00:06, 65171.27it/s]\n"
     ]
    },
    {
     "name": "stdout",
     "output_type": "stream",
     "text": [
      "train epoch 58; \n",
      "train error: 0.9569658764711074 \n",
      "validation error: 0.9940185573325573\n"
     ]
    },
    {
     "name": "stderr",
     "output_type": "stream",
     "text": [
      "420068it [00:06, 60634.54it/s]\n"
     ]
    },
    {
     "name": "stdout",
     "output_type": "stream",
     "text": [
      "train epoch 59; \n",
      "train error: 0.9538328048222758 \n",
      "validation error: 0.991013263153645\n"
     ]
    },
    {
     "name": "stderr",
     "output_type": "stream",
     "text": [
      "420068it [00:06, 66628.24it/s]\n"
     ]
    },
    {
     "name": "stdout",
     "output_type": "stream",
     "text": [
      "train epoch 60; \n",
      "train error: 0.9507936669628686 \n",
      "validation error: 0.9880866920653855\n"
     ]
    },
    {
     "name": "stderr",
     "output_type": "stream",
     "text": [
      "420068it [00:07, 53894.55it/s]\n"
     ]
    },
    {
     "name": "stdout",
     "output_type": "stream",
     "text": [
      "train epoch 61; \n",
      "train error: 0.9478338766690357 \n",
      "validation error: 0.9852361582905164\n"
     ]
    },
    {
     "name": "stderr",
     "output_type": "stream",
     "text": [
      "420068it [00:06, 66163.54it/s]\n"
     ]
    },
    {
     "name": "stdout",
     "output_type": "stream",
     "text": [
      "train epoch 62; \n",
      "train error: 0.9449605310200123 \n",
      "validation error: 0.982461328366195\n"
     ]
    },
    {
     "name": "stderr",
     "output_type": "stream",
     "text": [
      "420068it [00:06, 63337.99it/s]\n"
     ]
    },
    {
     "name": "stdout",
     "output_type": "stream",
     "text": [
      "train epoch 63; \n",
      "train error: 0.9421737078545128 \n",
      "validation error: 0.9797581813719797\n"
     ]
    },
    {
     "name": "stderr",
     "output_type": "stream",
     "text": [
      "420068it [00:07, 53460.12it/s]\n"
     ]
    },
    {
     "name": "stdout",
     "output_type": "stream",
     "text": [
      "train epoch 64; \n",
      "train error: 0.9394730762809256 \n",
      "validation error: 0.9771307009206761\n"
     ]
    },
    {
     "name": "stderr",
     "output_type": "stream",
     "text": [
      "420068it [00:07, 56807.69it/s]\n"
     ]
    },
    {
     "name": "stdout",
     "output_type": "stream",
     "text": [
      "train epoch 65; \n",
      "train error: 0.9368410083490117 \n",
      "validation error: 0.9745791306309398\n"
     ]
    },
    {
     "name": "stderr",
     "output_type": "stream",
     "text": [
      "420068it [00:08, 49391.07it/s]\n"
     ]
    },
    {
     "name": "stdout",
     "output_type": "stream",
     "text": [
      "train epoch 66; \n",
      "train error: 0.9342837128581297 \n",
      "validation error: 0.9720948544667066\n"
     ]
    },
    {
     "name": "stderr",
     "output_type": "stream",
     "text": [
      "420068it [00:09, 45814.24it/s]\n"
     ]
    },
    {
     "name": "stdout",
     "output_type": "stream",
     "text": [
      "train epoch 67; \n",
      "train error: 0.931797966508087 \n",
      "validation error: 0.9696829341101173\n"
     ]
    },
    {
     "name": "stderr",
     "output_type": "stream",
     "text": [
      "420068it [00:08, 46813.79it/s]\n"
     ]
    },
    {
     "name": "stdout",
     "output_type": "stream",
     "text": [
      "train epoch 68; \n",
      "train error: 0.9293817228392223 \n",
      "validation error: 0.9673317527375143\n"
     ]
    },
    {
     "name": "stderr",
     "output_type": "stream",
     "text": [
      "420068it [00:12, 34272.03it/s]\n"
     ]
    },
    {
     "name": "stdout",
     "output_type": "stream",
     "text": [
      "train epoch 69; \n",
      "train error: 0.9270288460150607 \n",
      "validation error: 0.9650310287978972\n"
     ]
    },
    {
     "name": "stderr",
     "output_type": "stream",
     "text": [
      "420068it [00:07, 55265.85it/s]\n"
     ]
    },
    {
     "name": "stdout",
     "output_type": "stream",
     "text": [
      "train epoch 70; \n",
      "train error: 0.9247370432074821 \n",
      "validation error: 0.9627836532762407\n"
     ]
    },
    {
     "name": "stderr",
     "output_type": "stream",
     "text": [
      "420068it [00:07, 52945.82it/s]\n"
     ]
    },
    {
     "name": "stdout",
     "output_type": "stream",
     "text": [
      "train epoch 71; \n",
      "train error: 0.9225028774034301 \n",
      "validation error: 0.9605824177346107\n"
     ]
    },
    {
     "name": "stderr",
     "output_type": "stream",
     "text": [
      "420068it [00:08, 50978.77it/s]\n"
     ]
    },
    {
     "name": "stdout",
     "output_type": "stream",
     "text": [
      "train epoch 72; \n",
      "train error: 0.9203182643661459 \n",
      "validation error: 0.9584333667011804\n"
     ]
    },
    {
     "name": "stderr",
     "output_type": "stream",
     "text": [
      "420068it [00:07, 54504.21it/s]\n"
     ]
    },
    {
     "name": "stdout",
     "output_type": "stream",
     "text": [
      "train epoch 73; \n",
      "train error: 0.9181837779115426 \n",
      "validation error: 0.9563367304837131\n"
     ]
    },
    {
     "name": "stderr",
     "output_type": "stream",
     "text": [
      "420068it [00:07, 57173.47it/s]\n"
     ]
    },
    {
     "name": "stdout",
     "output_type": "stream",
     "text": [
      "train epoch 74; \n",
      "train error: 0.9160972825582299 \n",
      "validation error: 0.954285684204122\n"
     ]
    },
    {
     "name": "stderr",
     "output_type": "stream",
     "text": [
      "420068it [00:08, 52497.08it/s]\n"
     ]
    },
    {
     "name": "stdout",
     "output_type": "stream",
     "text": [
      "train epoch 75; \n",
      "train error: 0.9140560565332921 \n",
      "validation error: 0.9522830862813194\n"
     ]
    },
    {
     "name": "stderr",
     "output_type": "stream",
     "text": [
      "420068it [00:07, 53937.08it/s]\n"
     ]
    },
    {
     "name": "stdout",
     "output_type": "stream",
     "text": [
      "train epoch 76; \n",
      "train error: 0.9120592946523054 \n",
      "validation error: 0.950329182174311\n"
     ]
    },
    {
     "name": "stderr",
     "output_type": "stream",
     "text": [
      "420068it [00:08, 52328.01it/s]\n"
     ]
    },
    {
     "name": "stdout",
     "output_type": "stream",
     "text": [
      "train epoch 77; \n",
      "train error: 0.9101052979045504 \n",
      "validation error: 0.9484177815978503\n"
     ]
    },
    {
     "name": "stderr",
     "output_type": "stream",
     "text": [
      "420068it [00:07, 53860.09it/s]\n"
     ]
    },
    {
     "name": "stdout",
     "output_type": "stream",
     "text": [
      "train epoch 78; \n",
      "train error: 0.9081941144037234 \n",
      "validation error: 0.9465449567099655\n"
     ]
    },
    {
     "name": "stderr",
     "output_type": "stream",
     "text": [
      "420068it [00:07, 58186.96it/s]\n"
     ]
    },
    {
     "name": "stdout",
     "output_type": "stream",
     "text": [
      "train epoch 79; \n",
      "train error: 0.9063223610386746 \n",
      "validation error: 0.944716770855262\n"
     ]
    },
    {
     "name": "stderr",
     "output_type": "stream",
     "text": [
      "420068it [00:08, 49185.82it/s]\n"
     ]
    },
    {
     "name": "stdout",
     "output_type": "stream",
     "text": [
      "train epoch 80; \n",
      "train error: 0.904489823285758 \n",
      "validation error: 0.9429270239406492\n"
     ]
    },
    {
     "name": "stderr",
     "output_type": "stream",
     "text": [
      "420068it [00:07, 53231.85it/s]\n"
     ]
    },
    {
     "name": "stdout",
     "output_type": "stream",
     "text": [
      "train epoch 81; \n",
      "train error: 0.9026941314522553 \n",
      "validation error: 0.9411775407215058\n"
     ]
    },
    {
     "name": "stderr",
     "output_type": "stream",
     "text": [
      "420068it [00:07, 54219.72it/s]\n"
     ]
    },
    {
     "name": "stdout",
     "output_type": "stream",
     "text": [
      "train epoch 82; \n",
      "train error: 0.9009320601221373 \n",
      "validation error: 0.9394692592080889\n"
     ]
    },
    {
     "name": "stderr",
     "output_type": "stream",
     "text": [
      "420068it [00:08, 49733.64it/s]\n"
     ]
    },
    {
     "name": "stdout",
     "output_type": "stream",
     "text": [
      "train epoch 83; \n",
      "train error: 0.8992008451796862 \n",
      "validation error: 0.93779553599817\n"
     ]
    },
    {
     "name": "stderr",
     "output_type": "stream",
     "text": [
      "420068it [00:08, 46805.80it/s]\n"
     ]
    },
    {
     "name": "stdout",
     "output_type": "stream",
     "text": [
      "train epoch 84; \n",
      "train error: 0.8975018936045974 \n",
      "validation error: 0.9361575811985172\n"
     ]
    },
    {
     "name": "stderr",
     "output_type": "stream",
     "text": [
      "420068it [00:08, 48601.78it/s]\n"
     ]
    },
    {
     "name": "stdout",
     "output_type": "stream",
     "text": [
      "train epoch 85; \n",
      "train error: 0.8958380436099098 \n",
      "validation error: 0.9345450041810588\n"
     ]
    },
    {
     "name": "stderr",
     "output_type": "stream",
     "text": [
      "420068it [00:08, 48760.69it/s]\n"
     ]
    },
    {
     "name": "stdout",
     "output_type": "stream",
     "text": [
      "train epoch 86; \n",
      "train error: 0.894206830268218 \n",
      "validation error: 0.932962142922435\n"
     ]
    },
    {
     "name": "stderr",
     "output_type": "stream",
     "text": [
      "420068it [00:09, 42840.04it/s]\n"
     ]
    },
    {
     "name": "stdout",
     "output_type": "stream",
     "text": [
      "train epoch 87; \n",
      "train error: 0.8926085177308382 \n",
      "validation error: 0.9314115999672552\n"
     ]
    },
    {
     "name": "stderr",
     "output_type": "stream",
     "text": [
      "420068it [00:09, 44319.34it/s]\n"
     ]
    },
    {
     "name": "stdout",
     "output_type": "stream",
     "text": [
      "train epoch 88; \n",
      "train error: 0.891043185150691 \n",
      "validation error: 0.929892933510435\n"
     ]
    },
    {
     "name": "stderr",
     "output_type": "stream",
     "text": [
      "420068it [00:08, 48806.56it/s]\n"
     ]
    },
    {
     "name": "stdout",
     "output_type": "stream",
     "text": [
      "train epoch 89; \n",
      "train error: 0.8895078339709646 \n",
      "validation error: 0.928405766899387\n"
     ]
    },
    {
     "name": "stderr",
     "output_type": "stream",
     "text": [
      "420068it [00:09, 44096.25it/s]\n"
     ]
    },
    {
     "name": "stdout",
     "output_type": "stream",
     "text": [
      "train epoch 90; \n",
      "train error: 0.8880036852240799 \n",
      "validation error: 0.926946090205433\n"
     ]
    },
    {
     "name": "stderr",
     "output_type": "stream",
     "text": [
      "420068it [00:08, 47334.98it/s]\n"
     ]
    },
    {
     "name": "stdout",
     "output_type": "stream",
     "text": [
      "train epoch 91; \n",
      "train error: 0.886531794581878 \n",
      "validation error: 0.9255105761690805\n"
     ]
    },
    {
     "name": "stderr",
     "output_type": "stream",
     "text": [
      "420068it [00:08, 50919.53it/s]\n"
     ]
    },
    {
     "name": "stdout",
     "output_type": "stream",
     "text": [
      "train epoch 92; \n",
      "train error: 0.8850892767412671 \n",
      "validation error: 0.9241059107411779\n"
     ]
    },
    {
     "name": "stderr",
     "output_type": "stream",
     "text": [
      "420068it [00:08, 49414.12it/s]\n"
     ]
    },
    {
     "name": "stdout",
     "output_type": "stream",
     "text": [
      "train epoch 93; \n",
      "train error: 0.8836767977237974 \n",
      "validation error: 0.9227257646133205\n"
     ]
    },
    {
     "name": "stderr",
     "output_type": "stream",
     "text": [
      "420068it [00:07, 54109.34it/s]\n"
     ]
    },
    {
     "name": "stdout",
     "output_type": "stream",
     "text": [
      "train epoch 94; \n",
      "train error: 0.8822908384955809 \n",
      "validation error: 0.92137121964775\n"
     ]
    },
    {
     "name": "stderr",
     "output_type": "stream",
     "text": [
      "420068it [00:08, 51111.72it/s]\n"
     ]
    },
    {
     "name": "stdout",
     "output_type": "stream",
     "text": [
      "train epoch 95; \n",
      "train error: 0.8809306711826096 \n",
      "validation error: 0.92004247369235\n"
     ]
    },
    {
     "name": "stderr",
     "output_type": "stream",
     "text": [
      "420068it [00:08, 52164.69it/s]\n"
     ]
    },
    {
     "name": "stdout",
     "output_type": "stream",
     "text": [
      "train epoch 96; \n",
      "train error: 0.8795956696765151 \n",
      "validation error: 0.9187401679810334\n"
     ]
    },
    {
     "name": "stderr",
     "output_type": "stream",
     "text": [
      "420068it [00:09, 45003.45it/s]\n"
     ]
    },
    {
     "name": "stdout",
     "output_type": "stream",
     "text": [
      "train epoch 97; \n",
      "train error: 0.878279763886173 \n",
      "validation error: 0.9174650868589127\n"
     ]
    },
    {
     "name": "stderr",
     "output_type": "stream",
     "text": [
      "420068it [00:08, 48989.88it/s]\n"
     ]
    },
    {
     "name": "stdout",
     "output_type": "stream",
     "text": [
      "train epoch 98; \n",
      "train error: 0.8769884156796498 \n",
      "validation error: 0.9162167133668027\n"
     ]
    },
    {
     "name": "stderr",
     "output_type": "stream",
     "text": [
      "420068it [00:08, 50729.66it/s]\n"
     ]
    },
    {
     "name": "stdout",
     "output_type": "stream",
     "text": [
      "train epoch 99; \n",
      "train error: 0.8757206621449103 \n",
      "validation error: 0.9149935648939787\n"
     ]
    }
   ],
   "source": [
    "model.fit(y_train, y_val)"
   ]
  },
  {
   "cell_type": "code",
   "execution_count": 36,
   "metadata": {},
   "outputs": [],
   "source": [
    "train_constraints_errors, \\\n",
    "    val_constraints_errors = model.get_evaluation_errors()"
   ]
  },
  {
   "cell_type": "code",
   "execution_count": 38,
   "metadata": {},
   "outputs": [
    {
     "data": {
      "text/plain": [
       "Text(0.5, 1.0, 'Training errors')"
      ]
     },
     "execution_count": 38,
     "metadata": {},
     "output_type": "execute_result"
    },
    {
     "data": {
      "image/png": "[encoded data removed]",
      "text/plain": [
       "<Figure size 1152x720 with 1 Axes>"
      ]
     },
     "metadata": {
      "needs_background": "light"
     },
     "output_type": "display_data"
    }
   ],
   "source": [
    "plt.figure(figsize = [16,10])\n",
    "plt.plot(\n",
    "    train_constraints_errors,\n",
    "    'o'\n",
    ")\n",
    "plt.plot(\n",
    "    val_constraints_errors,\n",
    "    'o'\n",
    ")\n",
    "plt.legend([\"Train\", \"Validation\"])\n",
    "plt.title(\"Training errors\")"
   ]
  },
  {
   "cell_type": "code",
   "execution_count": 39,
   "metadata": {},
   "outputs": [],
   "source": [
    "y_pred_constraint = model.predict()"
   ]
  },
  {
   "cell_type": "code",
   "execution_count": 40,
   "metadata": {},
   "outputs": [
    {
     "data": {
      "text/plain": [
       "{'max value': 5.0,\n",
       " 'min value': 0.0,\n",
       " 'average value': 4.026251922035183,\n",
       " 'median value': 4.254562271402981,\n",
       " 'quantile 0.05': 2.1673022612938126,\n",
       " 'quantile 0.65': 5.0}"
      ]
     },
     "execution_count": 40,
     "metadata": {},
     "output_type": "execute_result"
    }
   ],
   "source": [
    "{\n",
    "    'max value': y_pred_constraint.max(),\n",
    "    'min value': y_pred_constraint.min(),\n",
    "    'average value': y_pred_constraint.mean(),\n",
    "    'median value': np.median(y_pred_constraint), \n",
    "    'quantile 0.05' : np.quantile(y_pred_constraint, 0.05),\n",
    "    'quantile 0.65': np.quantile(y_pred_constraint, 0.65),\n",
    "}"
   ]
  },
  {
   "cell_type": "code",
   "execution_count": 41,
   "metadata": {},
   "outputs": [
    {
     "data": {
      "text/plain": [
       "0.3797966575121521"
      ]
     },
     "execution_count": 41,
     "metadata": {},
     "output_type": "execute_result"
    }
   ],
   "source": [
    "(y_pred_constraint == 5).sum() / (y_pred.shape[0] * y_pred.shape[1])"
   ]
  },
  {
   "cell_type": "code",
   "execution_count": 54,
   "metadata": {},
   "outputs": [
    {
     "data": {
      "text/plain": [
       "(5, 2113)"
      ]
     },
     "execution_count": 54,
     "metadata": {},
     "output_type": "execute_result"
    }
   ],
   "source": [
    "Theta.shape"
   ]
  },
  {
   "cell_type": "code",
   "execution_count": 55,
   "metadata": {},
   "outputs": [
    {
     "data": {
      "text/plain": [
       "(5, 10109)"
      ]
     },
     "execution_count": 55,
     "metadata": {},
     "output_type": "execute_result"
    }
   ],
   "source": [
    "X.shape"
   ]
  },
  {
   "cell_type": "code",
   "execution_count": 57,
   "metadata": {},
   "outputs": [
    {
     "data": {
      "text/plain": [
       "array([[1.24923894, 1.12970877, 1.21315456, ..., 1.8074294 , 3.41212778,\n",
       "        2.86239464],\n",
       "       [1.67671302, 1.26808274, 1.2040384 , ..., 1.35538666, 0.40702561,\n",
       "        4.652524  ],\n",
       "       [0.14451788, 0.26356898, 0.46007917, ..., 0.32758148, 2.13492821,\n",
       "        2.90840964],\n",
       "       [1.58347339, 1.28132935, 1.23199482, ..., 3.88777802, 2.36396463,\n",
       "        4.83031773],\n",
       "       [0.30269049, 0.22962143, 0.26632455, ..., 4.56429651, 3.14049238,\n",
       "        0.22094613]])"
      ]
     },
     "execution_count": 57,
     "metadata": {},
     "output_type": "execute_result"
    }
   ],
   "source": [
    "model.X"
   ]
  },
  {
   "cell_type": "code",
   "execution_count": 58,
   "metadata": {},
   "outputs": [
    {
     "data": {
      "text/plain": [
       "array([[ 0.2481517 ,  0.69565532,  0.36150061, ...,  0.86570183,\n",
       "         0.3846949 ,  1.59075602],\n",
       "       [ 1.98875554,  0.87053267,  0.43516226, ...,  0.94512114,\n",
       "         0.72597324,  0.64512891],\n",
       "       [-0.66071818,  0.18041338,  0.6715261 , ..., -0.07737793,\n",
       "         0.03356071,  0.83982544],\n",
       "       [ 0.39120768,  0.91449841,  0.95245048, ...,  0.88657342,\n",
       "         1.02779107,  0.12804095],\n",
       "       [-0.31456773, -0.04147991,  0.12534207, ...,  0.01744484,\n",
       "         0.19229549,  0.25696118]])"
      ]
     },
     "execution_count": 58,
     "metadata": {},
     "output_type": "execute_result"
    }
   ],
   "source": [
    "model.Theta"
   ]
  },
  {
   "cell_type": "code",
   "execution_count": 52,
   "metadata": {},
   "outputs": [],
   "source": [
    "model.Theta.tofile(\n",
    "    \"data/collaborative-filtering/model/Theta_w_constraints.pkl\",\n",
    "    sep= ','    \n",
    ")\n",
    "\n",
    "model.X.tofile(\n",
    "    \"data/collaborative-filtering/model/X_w_constraints.pkl\",\n",
    "    sep= ','    \n",
    ")"
   ]
  },
  {
   "cell_type": "code",
   "execution_count": 43,
   "metadata": {},
   "outputs": [
    {
     "data": {
      "text/plain": [
       "Text(0.5, 6.79999999999999, 'prediction')"
      ]
     },
     "execution_count": 43,
     "metadata": {},
     "output_type": "execute_result"
    },
    {
     "data": {
      "image/png": "[encoded data removed]",
      "text/plain": [
       "<Figure size 360x360 with 1 Axes>"
      ]
     },
     "metadata": {
      "needs_background": "light"
     },
     "output_type": "display_data"
    }
   ],
   "source": [
    "\n",
    "sns.displot(y_pred[y_pred < 5])\n",
    "plt.title(\"Prediction distribution\")\n",
    "plt.xlabel(\"prediction\")"
   ]
  },
  {
   "attachments": {},
   "cell_type": "markdown",
   "metadata": {},
   "source": [
    "### Regularization \n",
    "From now, we have trained models using $l_2$ regularization. \n",
    "\n",
    "Now we will try a $l_1$ regularization model:\n",
    "\n",
    "$$\n",
    "    J(\\Theta, X) = \\sum (y - \\theta ^{(i)T}  x^{(j)}) ^2 + \\lambda (|| \\theta^{(i)} ||+ || x^{(j)} || )\n",
    "$$"
   ]
  },
  {
   "cell_type": "code",
   "execution_count": 44,
   "metadata": {},
   "outputs": [],
   "source": [
    "l1_model = SGDOptimizer(\n",
    "    regularization = 'l1'\n",
    ")"
   ]
  },
  {
   "cell_type": "code",
   "execution_count": 45,
   "metadata": {},
   "outputs": [
    {
     "name": "stderr",
     "output_type": "stream",
     "text": [
      "420068it [00:06, 63339.48it/s]\n"
     ]
    },
    {
     "name": "stdout",
     "output_type": "stream",
     "text": [
      "train epoch 0; \n",
      "train error: 3.456435511440434 \n",
      "validation error: 3.561834455159403\n"
     ]
    },
    {
     "name": "stderr",
     "output_type": "stream",
     "text": [
      "420068it [00:06, 63025.21it/s]\n"
     ]
    },
    {
     "name": "stdout",
     "output_type": "stream",
     "text": [
      "train epoch 1; \n",
      "train error: 2.682510320399058 \n",
      "validation error: 2.799352650302847\n"
     ]
    },
    {
     "name": "stderr",
     "output_type": "stream",
     "text": [
      "420068it [00:06, 64824.12it/s]\n"
     ]
    },
    {
     "name": "stdout",
     "output_type": "stream",
     "text": [
      "train epoch 2; \n",
      "train error: 2.3434522286872745 \n",
      "validation error: 2.4637247765825405\n"
     ]
    },
    {
     "name": "stderr",
     "output_type": "stream",
     "text": [
      "420068it [00:07, 53787.19it/s]\n"
     ]
    },
    {
     "name": "stdout",
     "output_type": "stream",
     "text": [
      "train epoch 3; \n",
      "train error: 2.134082161377939 \n",
      "validation error: 2.2543226078782674\n"
     ]
    },
    {
     "name": "stderr",
     "output_type": "stream",
     "text": [
      "420068it [00:08, 52123.20it/s]\n"
     ]
    },
    {
     "name": "stdout",
     "output_type": "stream",
     "text": [
      "train epoch 4; \n",
      "train error: 1.9828790511689336 \n",
      "validation error: 2.101034767769359\n"
     ]
    },
    {
     "name": "stderr",
     "output_type": "stream",
     "text": [
      "420068it [00:08, 51124.11it/s]\n"
     ]
    },
    {
     "name": "stdout",
     "output_type": "stream",
     "text": [
      "train epoch 5; \n",
      "train error: 1.8640033228736193 \n",
      "validation error: 1.9788993123934115\n"
     ]
    },
    {
     "name": "stderr",
     "output_type": "stream",
     "text": [
      "420068it [00:09, 45235.07it/s]\n"
     ]
    },
    {
     "name": "stdout",
     "output_type": "stream",
     "text": [
      "train epoch 6; \n",
      "train error: 1.7660612250782888 \n",
      "validation error: 1.877093839151442\n"
     ]
    },
    {
     "name": "stderr",
     "output_type": "stream",
     "text": [
      "420068it [00:08, 48437.91it/s]\n"
     ]
    },
    {
     "name": "stdout",
     "output_type": "stream",
     "text": [
      "train epoch 7; \n",
      "train error: 1.6830313284565048 \n",
      "validation error: 1.789904983334249\n"
     ]
    },
    {
     "name": "stderr",
     "output_type": "stream",
     "text": [
      "420068it [00:08, 48370.87it/s]\n"
     ]
    },
    {
     "name": "stdout",
     "output_type": "stream",
     "text": [
      "train epoch 8; \n",
      "train error: 1.6113835126074614 \n",
      "validation error: 1.7140751869475985\n"
     ]
    },
    {
     "name": "stderr",
     "output_type": "stream",
     "text": [
      "420068it [00:10, 39507.38it/s]\n"
     ]
    },
    {
     "name": "stdout",
     "output_type": "stream",
     "text": [
      "train epoch 9; \n",
      "train error: 1.5487659565517262 \n",
      "validation error: 1.6474223970030186\n"
     ]
    },
    {
     "name": "stderr",
     "output_type": "stream",
     "text": [
      "420068it [00:08, 47135.50it/s]\n"
     ]
    },
    {
     "name": "stdout",
     "output_type": "stream",
     "text": [
      "train epoch 10; \n",
      "train error: 1.4935516267673115 \n",
      "validation error: 1.5884085861727646\n"
     ]
    },
    {
     "name": "stderr",
     "output_type": "stream",
     "text": [
      "420068it [00:07, 55100.77it/s]\n"
     ]
    },
    {
     "name": "stdout",
     "output_type": "stream",
     "text": [
      "train epoch 11; \n",
      "train error: 1.4445973762127433 \n",
      "validation error: 1.5359634874257184\n"
     ]
    },
    {
     "name": "stderr",
     "output_type": "stream",
     "text": [
      "420068it [00:07, 56069.20it/s]\n"
     ]
    },
    {
     "name": "stdout",
     "output_type": "stream",
     "text": [
      "train epoch 12; \n",
      "train error: 1.4010097730551268 \n",
      "validation error: 1.4892135068310761\n"
     ]
    },
    {
     "name": "stderr",
     "output_type": "stream",
     "text": [
      "420068it [00:10, 40724.78it/s]\n"
     ]
    },
    {
     "name": "stdout",
     "output_type": "stream",
     "text": [
      "train epoch 13; \n",
      "train error: 1.3620691200102601 \n",
      "validation error: 1.4474294935153738\n"
     ]
    },
    {
     "name": "stderr",
     "output_type": "stream",
     "text": [
      "420068it [00:07, 52570.20it/s]\n"
     ]
    },
    {
     "name": "stdout",
     "output_type": "stream",
     "text": [
      "train epoch 14; \n",
      "train error: 1.3271812158250615 \n",
      "validation error: 1.409984937762692\n"
     ]
    },
    {
     "name": "stderr",
     "output_type": "stream",
     "text": [
      "420068it [00:07, 55065.14it/s]\n"
     ]
    },
    {
     "name": "stdout",
     "output_type": "stream",
     "text": [
      "train epoch 15; \n",
      "train error: 1.295834893331966 \n",
      "validation error: 1.3763604736637205\n"
     ]
    },
    {
     "name": "stderr",
     "output_type": "stream",
     "text": [
      "420068it [00:08, 49100.31it/s]\n"
     ]
    },
    {
     "name": "stdout",
     "output_type": "stream",
     "text": [
      "train epoch 16; \n",
      "train error: 1.2675989749581507 \n",
      "validation error: 1.3461029411063554\n"
     ]
    },
    {
     "name": "stderr",
     "output_type": "stream",
     "text": [
      "420068it [00:07, 56240.96it/s]\n"
     ]
    },
    {
     "name": "stdout",
     "output_type": "stream",
     "text": [
      "train epoch 17; \n",
      "train error: 1.2420983232069274 \n",
      "validation error: 1.3188000416346295\n"
     ]
    },
    {
     "name": "stderr",
     "output_type": "stream",
     "text": [
      "420068it [00:07, 56249.40it/s]\n"
     ]
    },
    {
     "name": "stdout",
     "output_type": "stream",
     "text": [
      "train epoch 18; \n",
      "train error: 1.2190100241600073 \n",
      "validation error: 1.2941124545509948\n"
     ]
    },
    {
     "name": "stderr",
     "output_type": "stream",
     "text": [
      "420068it [00:07, 56240.30it/s]\n"
     ]
    },
    {
     "name": "stdout",
     "output_type": "stream",
     "text": [
      "train epoch 19; \n",
      "train error: 1.1980477370188103 \n",
      "validation error: 1.2717250570958893\n"
     ]
    },
    {
     "name": "stderr",
     "output_type": "stream",
     "text": [
      "420068it [00:07, 57660.27it/s]\n"
     ]
    },
    {
     "name": "stdout",
     "output_type": "stream",
     "text": [
      "train epoch 20; \n",
      "train error: 1.1789618003061788 \n",
      "validation error: 1.2513777295369686\n"
     ]
    },
    {
     "name": "stderr",
     "output_type": "stream",
     "text": [
      "420068it [00:07, 57250.25it/s]\n"
     ]
    },
    {
     "name": "stdout",
     "output_type": "stream",
     "text": [
      "train epoch 21; \n",
      "train error: 1.1615248721829443 \n",
      "validation error: 1.2328181144716255\n"
     ]
    },
    {
     "name": "stderr",
     "output_type": "stream",
     "text": [
      "420068it [00:07, 57395.83it/s]\n"
     ]
    },
    {
     "name": "stdout",
     "output_type": "stream",
     "text": [
      "train epoch 22; \n",
      "train error: 1.1455477247907089 \n",
      "validation error: 1.2158466177354297\n"
     ]
    },
    {
     "name": "stderr",
     "output_type": "stream",
     "text": [
      "420068it [00:07, 57170.79it/s]\n"
     ]
    },
    {
     "name": "stdout",
     "output_type": "stream",
     "text": [
      "train epoch 23; \n",
      "train error: 1.1308613652835005 \n",
      "validation error: 1.2002822755679667\n"
     ]
    },
    {
     "name": "stderr",
     "output_type": "stream",
     "text": [
      "420068it [00:07, 56841.61it/s]\n"
     ]
    },
    {
     "name": "stdout",
     "output_type": "stream",
     "text": [
      "train epoch 24; \n",
      "train error: 1.117316269969466 \n",
      "validation error: 1.1859617617404412\n"
     ]
    },
    {
     "name": "stderr",
     "output_type": "stream",
     "text": [
      "420068it [00:07, 57640.08it/s]\n"
     ]
    },
    {
     "name": "stdout",
     "output_type": "stream",
     "text": [
      "train epoch 25; \n",
      "train error: 1.1047871021631297 \n",
      "validation error: 1.1727485105523032\n"
     ]
    },
    {
     "name": "stderr",
     "output_type": "stream",
     "text": [
      "420068it [00:07, 57208.97it/s]\n"
     ]
    },
    {
     "name": "stdout",
     "output_type": "stream",
     "text": [
      "train epoch 26; \n",
      "train error: 1.0931642742423446 \n",
      "validation error: 1.1605281114174162\n"
     ]
    },
    {
     "name": "stderr",
     "output_type": "stream",
     "text": [
      "420068it [00:07, 56737.00it/s]\n"
     ]
    },
    {
     "name": "stdout",
     "output_type": "stream",
     "text": [
      "train epoch 27; \n",
      "train error: 1.0823530667869237 \n",
      "validation error: 1.1491982551547035\n"
     ]
    },
    {
     "name": "stderr",
     "output_type": "stream",
     "text": [
      "420068it [00:08, 49940.40it/s]\n"
     ]
    },
    {
     "name": "stdout",
     "output_type": "stream",
     "text": [
      "train epoch 28; \n",
      "train error: 1.072267028547713 \n",
      "validation error: 1.1386611349787004\n"
     ]
    },
    {
     "name": "stderr",
     "output_type": "stream",
     "text": [
      "420068it [00:07, 55329.54it/s]\n"
     ]
    },
    {
     "name": "stdout",
     "output_type": "stream",
     "text": [
      "train epoch 29; \n",
      "train error: 1.0628337912287478 \n",
      "validation error: 1.1288367199389984\n"
     ]
    },
    {
     "name": "stderr",
     "output_type": "stream",
     "text": [
      "420068it [00:10, 38986.43it/s]\n"
     ]
    },
    {
     "name": "stdout",
     "output_type": "stream",
     "text": [
      "train epoch 30; \n",
      "train error: 1.053988635900105 \n",
      "validation error: 1.1196531361304047\n"
     ]
    },
    {
     "name": "stderr",
     "output_type": "stream",
     "text": [
      "420068it [00:08, 47904.68it/s]\n"
     ]
    },
    {
     "name": "stdout",
     "output_type": "stream",
     "text": [
      "train epoch 31; \n",
      "train error: 1.0456726852409608 \n",
      "validation error: 1.111049447310566\n"
     ]
    },
    {
     "name": "stderr",
     "output_type": "stream",
     "text": [
      "420068it [00:07, 54034.14it/s]\n"
     ]
    },
    {
     "name": "stdout",
     "output_type": "stream",
     "text": [
      "train epoch 32; \n",
      "train error: 1.0378317903172556 \n",
      "validation error: 1.102963885909658\n"
     ]
    },
    {
     "name": "stderr",
     "output_type": "stream",
     "text": [
      "420068it [00:07, 53153.98it/s]\n"
     ]
    },
    {
     "name": "stdout",
     "output_type": "stream",
     "text": [
      "train epoch 33; \n",
      "train error: 1.0304356982897325 \n",
      "validation error: 1.0953604819715355\n"
     ]
    },
    {
     "name": "stderr",
     "output_type": "stream",
     "text": [
      "420068it [00:07, 53776.83it/s]\n"
     ]
    },
    {
     "name": "stdout",
     "output_type": "stream",
     "text": [
      "train epoch 34; \n",
      "train error: 1.0234517644841268 \n",
      "validation error: 1.0882045131362694\n"
     ]
    },
    {
     "name": "stderr",
     "output_type": "stream",
     "text": [
      "420068it [00:07, 56888.93it/s]\n"
     ]
    },
    {
     "name": "stdout",
     "output_type": "stream",
     "text": [
      "train epoch 35; \n",
      "train error: 1.016830547571061 \n",
      "validation error: 1.0814405109365655\n"
     ]
    },
    {
     "name": "stderr",
     "output_type": "stream",
     "text": [
      "420068it [00:07, 57042.75it/s]\n"
     ]
    },
    {
     "name": "stdout",
     "output_type": "stream",
     "text": [
      "train epoch 36; \n",
      "train error: 1.0105488279538726 \n",
      "validation error: 1.075043137507581\n"
     ]
    },
    {
     "name": "stderr",
     "output_type": "stream",
     "text": [
      "420068it [00:07, 56380.76it/s]\n"
     ]
    },
    {
     "name": "stdout",
     "output_type": "stream",
     "text": [
      "train epoch 37; \n",
      "train error: 1.004580397849203 \n",
      "validation error: 1.0689808030416728\n"
     ]
    },
    {
     "name": "stderr",
     "output_type": "stream",
     "text": [
      "420068it [00:07, 57410.94it/s]\n"
     ]
    },
    {
     "name": "stdout",
     "output_type": "stream",
     "text": [
      "train epoch 38; \n",
      "train error: 0.9989023443028542 \n",
      "validation error: 1.06323239382098\n"
     ]
    },
    {
     "name": "stderr",
     "output_type": "stream",
     "text": [
      "420068it [00:07, 57051.40it/s]\n"
     ]
    },
    {
     "name": "stdout",
     "output_type": "stream",
     "text": [
      "train epoch 39; \n",
      "train error: 0.9934944872613182 \n",
      "validation error: 1.0577752113985686\n"
     ]
    },
    {
     "name": "stderr",
     "output_type": "stream",
     "text": [
      "420068it [00:07, 57390.21it/s]\n"
     ]
    },
    {
     "name": "stdout",
     "output_type": "stream",
     "text": [
      "train epoch 40; \n",
      "train error: 0.9883299920220981 \n",
      "validation error: 1.0525817363601009\n"
     ]
    },
    {
     "name": "stderr",
     "output_type": "stream",
     "text": [
      "420068it [00:07, 57053.31it/s]\n"
     ]
    },
    {
     "name": "stdout",
     "output_type": "stream",
     "text": [
      "train epoch 41; \n",
      "train error: 0.983396909764175 \n",
      "validation error: 1.0476341876472144\n"
     ]
    },
    {
     "name": "stderr",
     "output_type": "stream",
     "text": [
      "420068it [00:07, 53225.20it/s]\n"
     ]
    },
    {
     "name": "stdout",
     "output_type": "stream",
     "text": [
      "train epoch 42; \n",
      "train error: 0.9786727607858764 \n",
      "validation error: 1.0429041830052068\n"
     ]
    },
    {
     "name": "stderr",
     "output_type": "stream",
     "text": [
      "420068it [00:07, 56759.30it/s]\n"
     ]
    },
    {
     "name": "stdout",
     "output_type": "stream",
     "text": [
      "train epoch 43; \n",
      "train error: 0.9741595322533158 \n",
      "validation error: 1.0383942977806897\n"
     ]
    },
    {
     "name": "stderr",
     "output_type": "stream",
     "text": [
      "420068it [00:07, 56624.14it/s]\n"
     ]
    },
    {
     "name": "stdout",
     "output_type": "stream",
     "text": [
      "train epoch 44; \n",
      "train error: 0.969834326608847 \n",
      "validation error: 1.0340805341695367\n"
     ]
    },
    {
     "name": "stderr",
     "output_type": "stream",
     "text": [
      "420068it [00:07, 56544.07it/s]\n"
     ]
    },
    {
     "name": "stdout",
     "output_type": "stream",
     "text": [
      "train epoch 45; \n",
      "train error: 0.9656835974903993 \n",
      "validation error: 1.0299436075506254\n"
     ]
    },
    {
     "name": "stderr",
     "output_type": "stream",
     "text": [
      "420068it [00:07, 56627.35it/s]\n"
     ]
    },
    {
     "name": "stdout",
     "output_type": "stream",
     "text": [
      "train epoch 46; \n",
      "train error: 0.9616983784155098 \n",
      "validation error: 1.0259746749173384\n"
     ]
    },
    {
     "name": "stderr",
     "output_type": "stream",
     "text": [
      "420068it [00:07, 57389.76it/s]\n"
     ]
    },
    {
     "name": "stdout",
     "output_type": "stream",
     "text": [
      "train epoch 47; \n",
      "train error: 0.9578611306967011 \n",
      "validation error: 1.022152273758638\n"
     ]
    },
    {
     "name": "stderr",
     "output_type": "stream",
     "text": [
      "420068it [00:07, 57065.32it/s]\n"
     ]
    },
    {
     "name": "stdout",
     "output_type": "stream",
     "text": [
      "train epoch 48; \n",
      "train error: 0.9541693599356773 \n",
      "validation error: 1.0184775636040408\n"
     ]
    },
    {
     "name": "stderr",
     "output_type": "stream",
     "text": [
      "420068it [00:07, 57119.20it/s]\n"
     ]
    },
    {
     "name": "stdout",
     "output_type": "stream",
     "text": [
      "train epoch 49; \n",
      "train error: 0.9506034626538978 \n",
      "validation error: 1.0149251134425656\n"
     ]
    },
    {
     "name": "stderr",
     "output_type": "stream",
     "text": [
      "420068it [00:08, 51611.38it/s]\n"
     ]
    },
    {
     "name": "stdout",
     "output_type": "stream",
     "text": [
      "train epoch 50; \n",
      "train error: 0.9471707938634661 \n",
      "validation error: 1.0115073939529182\n"
     ]
    },
    {
     "name": "stderr",
     "output_type": "stream",
     "text": [
      "420068it [00:08, 51121.19it/s]\n"
     ]
    },
    {
     "name": "stdout",
     "output_type": "stream",
     "text": [
      "train epoch 51; \n",
      "train error: 0.9438607303082576 \n",
      "validation error: 1.0082149773248725\n"
     ]
    },
    {
     "name": "stderr",
     "output_type": "stream",
     "text": [
      "420068it [00:07, 56666.21it/s]\n"
     ]
    },
    {
     "name": "stdout",
     "output_type": "stream",
     "text": [
      "train epoch 52; \n",
      "train error: 0.9406626000937421 \n",
      "validation error: 1.0050360041864572\n"
     ]
    },
    {
     "name": "stderr",
     "output_type": "stream",
     "text": [
      "420068it [00:07, 57076.03it/s]\n"
     ]
    },
    {
     "name": "stdout",
     "output_type": "stream",
     "text": [
      "train epoch 53; \n",
      "train error: 0.9375723142616516 \n",
      "validation error: 1.0019672064538079\n"
     ]
    },
    {
     "name": "stderr",
     "output_type": "stream",
     "text": [
      "420068it [00:07, 57075.59it/s]\n"
     ]
    },
    {
     "name": "stdout",
     "output_type": "stream",
     "text": [
      "train epoch 54; \n",
      "train error: 0.9345849398357541 \n",
      "validation error: 0.9989849682678175\n"
     ]
    },
    {
     "name": "stderr",
     "output_type": "stream",
     "text": [
      "420068it [00:07, 56661.56it/s]\n"
     ]
    },
    {
     "name": "stdout",
     "output_type": "stream",
     "text": [
      "train epoch 55; \n",
      "train error: 0.9316994465412594 \n",
      "validation error: 0.9960959277181582\n"
     ]
    },
    {
     "name": "stderr",
     "output_type": "stream",
     "text": [
      "420068it [00:07, 55670.38it/s]\n"
     ]
    },
    {
     "name": "stdout",
     "output_type": "stream",
     "text": [
      "train epoch 56; \n",
      "train error: 0.9289031258756681 \n",
      "validation error: 0.9932845668446101\n"
     ]
    },
    {
     "name": "stderr",
     "output_type": "stream",
     "text": [
      "420068it [00:09, 45884.85it/s]\n"
     ]
    },
    {
     "name": "stdout",
     "output_type": "stream",
     "text": [
      "train epoch 57; \n",
      "train error: 0.9261989553215901 \n",
      "validation error: 0.9905519258471376\n"
     ]
    },
    {
     "name": "stderr",
     "output_type": "stream",
     "text": [
      "420068it [00:09, 43438.85it/s]\n"
     ]
    },
    {
     "name": "stdout",
     "output_type": "stream",
     "text": [
      "train epoch 58; \n",
      "train error: 0.9235840929855919 \n",
      "validation error: 0.9879045944797471\n"
     ]
    },
    {
     "name": "stderr",
     "output_type": "stream",
     "text": [
      "420068it [00:09, 44934.88it/s]\n"
     ]
    },
    {
     "name": "stdout",
     "output_type": "stream",
     "text": [
      "train epoch 59; \n",
      "train error: 0.9210437143957874 \n",
      "validation error: 0.985323950587813\n"
     ]
    },
    {
     "name": "stderr",
     "output_type": "stream",
     "text": [
      "420068it [00:09, 46258.73it/s]\n"
     ]
    },
    {
     "name": "stdout",
     "output_type": "stream",
     "text": [
      "train epoch 60; \n",
      "train error: 0.9185879201433492 \n",
      "validation error: 0.9828222640377126\n"
     ]
    },
    {
     "name": "stderr",
     "output_type": "stream",
     "text": [
      "420068it [00:08, 49486.06it/s]\n"
     ]
    },
    {
     "name": "stdout",
     "output_type": "stream",
     "text": [
      "train epoch 61; \n",
      "train error: 0.9162088229850958 \n",
      "validation error: 0.9803908135824574\n"
     ]
    },
    {
     "name": "stderr",
     "output_type": "stream",
     "text": [
      "420068it [00:08, 52145.47it/s]\n"
     ]
    },
    {
     "name": "stdout",
     "output_type": "stream",
     "text": [
      "train epoch 62; \n",
      "train error: 0.9139002685108985 \n",
      "validation error: 0.9780210483562664\n"
     ]
    },
    {
     "name": "stderr",
     "output_type": "stream",
     "text": [
      "420068it [00:09, 46462.79it/s]\n"
     ]
    },
    {
     "name": "stdout",
     "output_type": "stream",
     "text": [
      "train epoch 63; \n",
      "train error: 0.9116574603662861 \n",
      "validation error: 0.9757110621779024\n"
     ]
    },
    {
     "name": "stderr",
     "output_type": "stream",
     "text": [
      "420068it [00:08, 46836.66it/s]\n"
     ]
    },
    {
     "name": "stdout",
     "output_type": "stream",
     "text": [
      "train epoch 64; \n",
      "train error: 0.9094742379470121 \n",
      "validation error: 0.9734572739700725\n"
     ]
    },
    {
     "name": "stderr",
     "output_type": "stream",
     "text": [
      "420068it [00:11, 35627.91it/s]\n"
     ]
    },
    {
     "name": "stdout",
     "output_type": "stream",
     "text": [
      "train epoch 65; \n",
      "train error: 0.9073466318054577 \n",
      "validation error: 0.9712537218472892\n"
     ]
    },
    {
     "name": "stderr",
     "output_type": "stream",
     "text": [
      "420068it [00:10, 39419.66it/s]\n"
     ]
    },
    {
     "name": "stdout",
     "output_type": "stream",
     "text": [
      "train epoch 66; \n",
      "train error: 0.9052745928933301 \n",
      "validation error: 0.9690925057229287\n"
     ]
    },
    {
     "name": "stderr",
     "output_type": "stream",
     "text": [
      "420068it [00:07, 53605.49it/s]\n"
     ]
    },
    {
     "name": "stdout",
     "output_type": "stream",
     "text": [
      "train epoch 67; \n",
      "train error: 0.9032599132039857 \n",
      "validation error: 0.9669802519509365\n"
     ]
    },
    {
     "name": "stderr",
     "output_type": "stream",
     "text": [
      "420068it [00:07, 55460.15it/s]\n"
     ]
    },
    {
     "name": "stdout",
     "output_type": "stream",
     "text": [
      "train epoch 68; \n",
      "train error: 0.9012998561338526 \n",
      "validation error: 0.9649101067773836\n"
     ]
    },
    {
     "name": "stderr",
     "output_type": "stream",
     "text": [
      "420068it [00:07, 56883.01it/s]\n"
     ]
    },
    {
     "name": "stdout",
     "output_type": "stream",
     "text": [
      "train epoch 69; \n",
      "train error: 0.8993912902530313 \n",
      "validation error: 0.962892975370504\n"
     ]
    },
    {
     "name": "stderr",
     "output_type": "stream",
     "text": [
      "420068it [00:08, 48794.60it/s]\n"
     ]
    },
    {
     "name": "stdout",
     "output_type": "stream",
     "text": [
      "train epoch 70; \n",
      "train error: 0.8975331724348489 \n",
      "validation error: 0.9609229956345086\n"
     ]
    },
    {
     "name": "stderr",
     "output_type": "stream",
     "text": [
      "420068it [00:08, 51698.77it/s]\n"
     ]
    },
    {
     "name": "stdout",
     "output_type": "stream",
     "text": [
      "train epoch 71; \n",
      "train error: 0.8957320356693944 \n",
      "validation error: 0.9590062322960222\n"
     ]
    },
    {
     "name": "stderr",
     "output_type": "stream",
     "text": [
      "420068it [00:10, 40557.30it/s]\n"
     ]
    },
    {
     "name": "stdout",
     "output_type": "stream",
     "text": [
      "train epoch 72; \n",
      "train error: 0.8939809533905547 \n",
      "validation error: 0.9571374586788318\n"
     ]
    },
    {
     "name": "stderr",
     "output_type": "stream",
     "text": [
      "420068it [00:08, 49948.12it/s]\n"
     ]
    },
    {
     "name": "stdout",
     "output_type": "stream",
     "text": [
      "train epoch 73; \n",
      "train error: 0.8922814488485655 \n",
      "validation error: 0.9553202239998403\n"
     ]
    },
    {
     "name": "stderr",
     "output_type": "stream",
     "text": [
      "420068it [00:08, 49138.55it/s]\n"
     ]
    },
    {
     "name": "stdout",
     "output_type": "stream",
     "text": [
      "train epoch 74; \n",
      "train error: 0.8906326100443799 \n",
      "validation error: 0.9535545924541061\n"
     ]
    },
    {
     "name": "stderr",
     "output_type": "stream",
     "text": [
      "420068it [00:08, 47941.73it/s]\n"
     ]
    },
    {
     "name": "stdout",
     "output_type": "stream",
     "text": [
      "train epoch 75; \n",
      "train error: 0.8890288100886635 \n",
      "validation error: 0.9518399925612909\n"
     ]
    },
    {
     "name": "stderr",
     "output_type": "stream",
     "text": [
      "420068it [00:09, 45127.42it/s]\n"
     ]
    },
    {
     "name": "stdout",
     "output_type": "stream",
     "text": [
      "train epoch 76; \n",
      "train error: 0.8874723236660899 \n",
      "validation error: 0.9501716688104754\n"
     ]
    },
    {
     "name": "stderr",
     "output_type": "stream",
     "text": [
      "420068it [00:07, 52955.53it/s]\n"
     ]
    },
    {
     "name": "stdout",
     "output_type": "stream",
     "text": [
      "train epoch 77; \n",
      "train error: 0.8859614029437151 \n",
      "validation error: 0.9485498278537846\n"
     ]
    },
    {
     "name": "stderr",
     "output_type": "stream",
     "text": [
      "420068it [00:08, 48808.79it/s]\n"
     ]
    },
    {
     "name": "stdout",
     "output_type": "stream",
     "text": [
      "train epoch 78; \n",
      "train error: 0.8844889587575023 \n",
      "validation error: 0.946967515203499\n"
     ]
    },
    {
     "name": "stderr",
     "output_type": "stream",
     "text": [
      "420068it [00:08, 48801.09it/s]\n"
     ]
    },
    {
     "name": "stdout",
     "output_type": "stream",
     "text": [
      "train epoch 79; \n",
      "train error: 0.8830568516665492 \n",
      "validation error: 0.945432543571661\n"
     ]
    },
    {
     "name": "stderr",
     "output_type": "stream",
     "text": [
      "420068it [00:08, 49598.46it/s]\n"
     ]
    },
    {
     "name": "stdout",
     "output_type": "stream",
     "text": [
      "train epoch 80; \n",
      "train error: 0.8816628636797308 \n",
      "validation error: 0.9439392880329585\n"
     ]
    },
    {
     "name": "stderr",
     "output_type": "stream",
     "text": [
      "420068it [00:08, 48802.44it/s]\n"
     ]
    },
    {
     "name": "stdout",
     "output_type": "stream",
     "text": [
      "train epoch 81; \n",
      "train error: 0.8803020334784887 \n",
      "validation error: 0.9424833452157962\n"
     ]
    },
    {
     "name": "stderr",
     "output_type": "stream",
     "text": [
      "420068it [00:08, 50239.25it/s]\n"
     ]
    },
    {
     "name": "stdout",
     "output_type": "stream",
     "text": [
      "train epoch 82; \n",
      "train error: 0.8789744289418182 \n",
      "validation error: 0.9410649913808764\n"
     ]
    },
    {
     "name": "stderr",
     "output_type": "stream",
     "text": [
      "420068it [00:07, 54613.01it/s]\n"
     ]
    },
    {
     "name": "stdout",
     "output_type": "stream",
     "text": [
      "train epoch 83; \n",
      "train error: 0.8776790050061031 \n",
      "validation error: 0.9396827483437871\n"
     ]
    },
    {
     "name": "stderr",
     "output_type": "stream",
     "text": [
      "420068it [00:07, 57432.73it/s]\n"
     ]
    },
    {
     "name": "stdout",
     "output_type": "stream",
     "text": [
      "train epoch 84; \n",
      "train error: 0.8764169148870993 \n",
      "validation error: 0.938330139107351\n"
     ]
    },
    {
     "name": "stderr",
     "output_type": "stream",
     "text": [
      "420068it [00:07, 53463.32it/s]\n"
     ]
    },
    {
     "name": "stdout",
     "output_type": "stream",
     "text": [
      "train epoch 85; \n",
      "train error: 0.875185671640807 \n",
      "validation error: 0.9370096662408686\n"
     ]
    },
    {
     "name": "stderr",
     "output_type": "stream",
     "text": [
      "420068it [00:07, 55050.80it/s]\n"
     ]
    },
    {
     "name": "stdout",
     "output_type": "stream",
     "text": [
      "train epoch 86; \n",
      "train error: 0.8739820013243521 \n",
      "validation error: 0.9357173873180981\n"
     ]
    },
    {
     "name": "stderr",
     "output_type": "stream",
     "text": [
      "420068it [00:08, 48961.03it/s]\n"
     ]
    },
    {
     "name": "stdout",
     "output_type": "stream",
     "text": [
      "train epoch 87; \n",
      "train error: 0.8728069761357672 \n",
      "validation error: 0.9344535062170792\n"
     ]
    },
    {
     "name": "stderr",
     "output_type": "stream",
     "text": [
      "420068it [00:07, 52949.54it/s]\n"
     ]
    },
    {
     "name": "stdout",
     "output_type": "stream",
     "text": [
      "train epoch 88; \n",
      "train error: 0.8716585642682789 \n",
      "validation error: 0.9332169706947202\n"
     ]
    },
    {
     "name": "stderr",
     "output_type": "stream",
     "text": [
      "420068it [00:06, 60566.94it/s]\n"
     ]
    },
    {
     "name": "stdout",
     "output_type": "stream",
     "text": [
      "train epoch 89; \n",
      "train error: 0.8705356357863524 \n",
      "validation error: 0.932003823294182\n"
     ]
    },
    {
     "name": "stderr",
     "output_type": "stream",
     "text": [
      "420068it [00:07, 57557.40it/s]\n"
     ]
    },
    {
     "name": "stdout",
     "output_type": "stream",
     "text": [
      "train epoch 90; \n",
      "train error: 0.8694334005623201 \n",
      "validation error: 0.9308080482828168\n"
     ]
    },
    {
     "name": "stderr",
     "output_type": "stream",
     "text": [
      "420068it [00:07, 58310.33it/s]\n"
     ]
    },
    {
     "name": "stdout",
     "output_type": "stream",
     "text": [
      "train epoch 91; \n",
      "train error: 0.8683591359895876 \n",
      "validation error: 0.92963645809145\n"
     ]
    },
    {
     "name": "stderr",
     "output_type": "stream",
     "text": [
      "420068it [00:07, 54483.70it/s]\n"
     ]
    },
    {
     "name": "stdout",
     "output_type": "stream",
     "text": [
      "train epoch 92; \n",
      "train error: 0.8673045722821677 \n",
      "validation error: 0.9284833941502888\n"
     ]
    },
    {
     "name": "stderr",
     "output_type": "stream",
     "text": [
      "420068it [00:07, 56042.00it/s]\n"
     ]
    },
    {
     "name": "stdout",
     "output_type": "stream",
     "text": [
      "train epoch 93; \n",
      "train error: 0.8662703076489958 \n",
      "validation error: 0.9273452849705701\n"
     ]
    },
    {
     "name": "stderr",
     "output_type": "stream",
     "text": [
      "420068it [00:07, 56194.27it/s]\n"
     ]
    },
    {
     "name": "stdout",
     "output_type": "stream",
     "text": [
      "train epoch 94; \n",
      "train error: 0.8652560736115184 \n",
      "validation error: 0.9262231609097088\n"
     ]
    },
    {
     "name": "stderr",
     "output_type": "stream",
     "text": [
      "420068it [00:07, 57363.24it/s]\n"
     ]
    },
    {
     "name": "stdout",
     "output_type": "stream",
     "text": [
      "train epoch 95; \n",
      "train error: 0.8642538141671839 \n",
      "validation error: 0.9251056921876226\n"
     ]
    },
    {
     "name": "stderr",
     "output_type": "stream",
     "text": [
      "420068it [00:07, 56633.36it/s]\n"
     ]
    },
    {
     "name": "stdout",
     "output_type": "stream",
     "text": [
      "train epoch 96; \n",
      "train error: 0.8632782581208567 \n",
      "validation error: 0.9240136228335424\n"
     ]
    },
    {
     "name": "stderr",
     "output_type": "stream",
     "text": [
      "420068it [00:07, 55660.26it/s]\n"
     ]
    },
    {
     "name": "stdout",
     "output_type": "stream",
     "text": [
      "train epoch 97; \n",
      "train error: 0.8623207118287661 \n",
      "validation error: 0.9229394007020532\n"
     ]
    },
    {
     "name": "stderr",
     "output_type": "stream",
     "text": [
      "420068it [00:07, 57095.48it/s]\n"
     ]
    },
    {
     "name": "stdout",
     "output_type": "stream",
     "text": [
      "train epoch 98; \n",
      "train error: 0.8613795576818226 \n",
      "validation error: 0.9218784065864652\n"
     ]
    },
    {
     "name": "stderr",
     "output_type": "stream",
     "text": [
      "420068it [00:07, 56429.14it/s]\n"
     ]
    },
    {
     "name": "stdout",
     "output_type": "stream",
     "text": [
      "train epoch 99; \n",
      "train error: 0.86045175644718 \n",
      "validation error: 0.9208245417586273\n"
     ]
    }
   ],
   "source": [
    "l1_model.fit(y_train, y_val)"
   ]
  },
  {
   "cell_type": "code",
   "execution_count": 46,
   "metadata": {},
   "outputs": [],
   "source": [
    "train_l1_err, train_l1_val = model.get_evaluation_errors()"
   ]
  },
  {
   "cell_type": "code",
   "execution_count": 47,
   "metadata": {},
   "outputs": [
    {
     "data": {
      "text/plain": [
       "Text(0.5, 1.0, 'Training errors')"
      ]
     },
     "execution_count": 47,
     "metadata": {},
     "output_type": "execute_result"
    },
    {
     "data": {
      "image/png": "[encoded data removed]",
      "text/plain": [
       "<Figure size 1152x720 with 1 Axes>"
      ]
     },
     "metadata": {
      "needs_background": "light"
     },
     "output_type": "display_data"
    }
   ],
   "source": [
    "plt.figure(figsize = [16,10])\n",
    "plt.plot(\n",
    "    train_l1_err,\n",
    "    'o'\n",
    ")\n",
    "plt.plot(\n",
    "    train_l1_val,\n",
    "    'o'\n",
    ")\n",
    "plt.legend([\"Train\", \"Validation\"])\n",
    "plt.title(\"Training errors\")"
   ]
  },
  {
   "cell_type": "code",
   "execution_count": 49,
   "metadata": {},
   "outputs": [
    {
     "data": {
      "text/plain": [
       "SGDOptimizer(regularization='l1')"
      ]
     },
     "execution_count": 49,
     "metadata": {},
     "output_type": "execute_result"
    }
   ],
   "source": [
    "l1_model"
   ]
  },
  {
   "cell_type": "code",
   "execution_count": 50,
   "metadata": {},
   "outputs": [],
   "source": [
    "l1_model.Theta.tofile(\n",
    "    \"data/collaborative-filtering/model/Theta_l1.pkl\",\n",
    "    sep= ','    \n",
    ")\n",
    "\n",
    "l1_model.X.tofile(\n",
    "    \"data/collaborative-filtering/model/X_l1.pkl\",\n",
    "    sep= ','    \n",
    ")"
   ]
  },
  {
   "attachments": {},
   "cell_type": "markdown",
   "metadata": {},
   "source": [
    "## Conclusions\n",
    "The best (and selected) model in validation was the one with constraints and $l_2$ regularization"
   ]
  },
  {
   "cell_type": "markdown",
   "metadata": {},
   "source": []
  }
 ],
 "metadata": {
  "kernelspec": {
   "display_name": "base",
   "language": "python",
   "name": "python3"
  },
  "language_info": {
   "codemirror_mode": {
    "name": "ipython",
    "version": 3
   },
   "file_extension": ".py",
   "mimetype": "text/x-python",
   "name": "python",
   "nbconvert_exporter": "python",
   "pygments_lexer": "ipython3",
   "version": "3.9.12"
  },
  "orig_nbformat": 4,
  "vscode": {
   "interpreter": {
    "hash": "f08154012ddadd8e950e6e9e035c7a7b32c136e7647e9b7c77e02eb723a8bedb"
   }
  }
 },
 "nbformat": 4,
 "nbformat_minor": 2
}
