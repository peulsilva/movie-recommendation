{
 "cells": [
  {
   "cell_type": "code",
   "execution_count": 87,
   "metadata": {},
   "outputs": [
    {
     "name": "stdout",
     "output_type": "stream",
     "text": [
      "The autoreload extension is already loaded. To reload it, use:\n",
      "  %reload_ext autoreload\n"
     ]
    }
   ],
   "source": [
    "%load_ext autoreload\n",
    "%autoreload 2"
   ]
  },
  {
   "cell_type": "code",
   "execution_count": 9,
   "metadata": {},
   "outputs": [],
   "source": [
    "import os\n",
    "while 'notebooks' in os.getcwd():\n",
    "    os.chdir(\"..\")\n",
    "\n",
    "import numpy as np \n",
    "import pandas as pd\n",
    "import seaborn as sns \n",
    "import matplotlib.pyplot as plt\n",
    "from statistics import mean\n",
    "from tqdm import tqdm\n",
    "from sklearn.metrics import mean_squared_error\n",
    "\n",
    "from src.mapping import get_movies_id_map\n",
    "from src.collaborative_filtering.preprocessing.make_dataset \\\n",
    "    import read_train_test_matrix, read_ratings_df\n",
    "\n",
    "from src.collaborative_filtering.models.train_model import \\\n",
    "    SGDOptimizer"
   ]
  },
  {
   "attachments": {},
   "cell_type": "markdown",
   "metadata": {},
   "source": [
    "## Model training\n",
    "\n",
    "We will train two matrices $ X $ and $ X $ as\n",
    "\n",
    "$$ X = (x_{ij})_{n_{features} \\times n_{movies}} $$ \n",
    "$$ \\Theta = (\\theta _{ij})_{n_{features} \\times n_{users}} $$\n",
    "\n",
    "<!-- $$ X= \n",
    "\\begin{pmatrix} \n",
    "\n",
    "    X _{1,1} & X _{1,2} & \\dots & X _{1, n_{features}} \\\\ \n",
    "    X _{2,1} & X _{2,2} & \\dots & X _{2, n_{features}} \\\\ \n",
    "    \\vdots & \\vdots & \\vdots & \\vdots \\\\ \n",
    "    X _{n_{movies}, 1} & X _{n_{movies}, 2} & \\dots & X _{n_{movies}, n_{features}}\n",
    "    \n",
    "\\end{pmatrix}\n",
    "$$\n",
    "\n",
    "$$ \\Theta = \n",
    "\\begin{pmatrix} \n",
    "\n",
    "    \\theta _{1,1} & \\theta _{1,2} & \\dots & \\theta _{1, n_{features}} \\\\ \n",
    "    \\theta _{2,1} & \\theta _{2,2} & \\dots & \\theta _{2, n_{features}} \\\\ \n",
    "    \\vdots & \\vdots & \\vdots & \\vdots \\\\ \n",
    "    \\theta _{n_{users}, 1} & \\theta _{n_{users}, 2} & \\dots & \\theta _{n_{users}, n_{features}}\n",
    "    \n",
    "\\end{pmatrix}\n",
    "$$ -->\n",
    "\n",
    "and \n",
    "\n",
    "$$ \\hat{Y} = \\Theta ^T X $$\n",
    "\n",
    "Minimizing the cost function \n",
    "\n",
    "$$\n",
    "    J(\\Theta, X) = \\sum (y - \\theta ^{(i)T}  x^{(j)}) ^2 + \\lambda (|| \\theta^{(i)} ||^2 + || x^{(j)} || ^2 )\n",
    "$$\n",
    "\n",
    "Here we are using $l_2$ regularization"
   ]
  },
  {
   "cell_type": "code",
   "execution_count": null,
   "metadata": {},
   "outputs": [],
   "source": []
  },
  {
   "cell_type": "code",
   "execution_count": 10,
   "metadata": {},
   "outputs": [],
   "source": [
    "ratings_df = read_ratings_df()\n",
    "\n",
    "ratings_matrix = ratings_df.pivot(\n",
    "    index = 'userID',\n",
    "    columns= 'movieID',\n",
    "    values= 'rating',\n",
    ").replace(np.nan, 0)"
   ]
  },
  {
   "cell_type": "code",
   "execution_count": 11,
   "metadata": {},
   "outputs": [],
   "source": [
    "Y_train, Y_test = read_train_test_matrix()"
   ]
  },
  {
   "cell_type": "code",
   "execution_count": 12,
   "metadata": {},
   "outputs": [],
   "source": [
    "n_users, n_movies = Y_train.shape"
   ]
  },
  {
   "cell_type": "code",
   "execution_count": 13,
   "metadata": {},
   "outputs": [],
   "source": [
    "users, movies = np.nonzero(np.array(Y_train))"
   ]
  },
  {
   "cell_type": "code",
   "execution_count": 20,
   "metadata": {},
   "outputs": [],
   "source": [
    "y_train = np.array(Y_train)"
   ]
  },
  {
   "cell_type": "code",
   "execution_count": 21,
   "metadata": {},
   "outputs": [],
   "source": [
    "model = SGDOptimizer()"
   ]
  },
  {
   "cell_type": "code",
   "execution_count": 22,
   "metadata": {},
   "outputs": [
    {
     "data": {
      "text/plain": [
       "{'learning_rate': 0.001,\n",
       " 'num_features': 5,\n",
       " 'regularization_factor': 0.1,\n",
       " 'train_epochs': 100}"
      ]
     },
     "execution_count": 22,
     "metadata": {},
     "output_type": "execute_result"
    }
   ],
   "source": [
    "model.get_params()"
   ]
  },
  {
   "cell_type": "code",
   "execution_count": 23,
   "metadata": {},
   "outputs": [
    {
     "name": "stderr",
     "output_type": "stream",
     "text": [
      "599854it [00:13, 43957.10it/s]\n"
     ]
    },
    {
     "name": "stdout",
     "output_type": "stream",
     "text": [
      "train epoch 0;  9.491049160192686\n"
     ]
    },
    {
     "name": "stderr",
     "output_type": "stream",
     "text": [
      "599854it [00:13, 44396.94it/s]\n"
     ]
    },
    {
     "name": "stdout",
     "output_type": "stream",
     "text": [
      "train epoch 1;  5.789267021088728\n"
     ]
    },
    {
     "name": "stderr",
     "output_type": "stream",
     "text": [
      "599854it [00:13, 43685.19it/s]\n"
     ]
    },
    {
     "name": "stdout",
     "output_type": "stream",
     "text": [
      "train epoch 2;  4.382339744598239\n"
     ]
    },
    {
     "name": "stderr",
     "output_type": "stream",
     "text": [
      "599854it [00:13, 43660.65it/s]\n"
     ]
    },
    {
     "name": "stdout",
     "output_type": "stream",
     "text": [
      "train epoch 3;  3.5860425550873205\n"
     ]
    },
    {
     "name": "stderr",
     "output_type": "stream",
     "text": [
      "599854it [00:12, 46749.51it/s]\n"
     ]
    },
    {
     "name": "stdout",
     "output_type": "stream",
     "text": [
      "train epoch 4;  3.061264326249666\n"
     ]
    },
    {
     "name": "stderr",
     "output_type": "stream",
     "text": [
      "599854it [00:11, 50785.09it/s]\n"
     ]
    },
    {
     "name": "stdout",
     "output_type": "stream",
     "text": [
      "train epoch 5;  2.6887460652961988\n"
     ]
    },
    {
     "name": "stderr",
     "output_type": "stream",
     "text": [
      "599854it [00:14, 41327.40it/s]\n"
     ]
    },
    {
     "name": "stdout",
     "output_type": "stream",
     "text": [
      "train epoch 6;  2.41220943169464\n"
     ]
    },
    {
     "name": "stderr",
     "output_type": "stream",
     "text": [
      "599854it [00:13, 43936.87it/s]\n"
     ]
    },
    {
     "name": "stdout",
     "output_type": "stream",
     "text": [
      "train epoch 7;  2.2002722367764163\n"
     ]
    },
    {
     "name": "stderr",
     "output_type": "stream",
     "text": [
      "599854it [00:15, 39055.50it/s]\n"
     ]
    },
    {
     "name": "stdout",
     "output_type": "stream",
     "text": [
      "train epoch 8;  2.0337471633552555\n"
     ]
    },
    {
     "name": "stderr",
     "output_type": "stream",
     "text": [
      "599854it [00:13, 45019.64it/s]\n"
     ]
    },
    {
     "name": "stdout",
     "output_type": "stream",
     "text": [
      "train epoch 9;  1.9002350331172515\n"
     ]
    },
    {
     "name": "stderr",
     "output_type": "stream",
     "text": [
      "599854it [00:14, 41916.66it/s]\n"
     ]
    },
    {
     "name": "stdout",
     "output_type": "stream",
     "text": [
      "train epoch 10;  1.7913899102829494\n"
     ]
    },
    {
     "name": "stderr",
     "output_type": "stream",
     "text": [
      "599854it [00:15, 38249.57it/s]\n"
     ]
    },
    {
     "name": "stdout",
     "output_type": "stream",
     "text": [
      "train epoch 11;  1.7013947368730447\n"
     ]
    },
    {
     "name": "stderr",
     "output_type": "stream",
     "text": [
      "599854it [00:13, 42888.81it/s]\n"
     ]
    },
    {
     "name": "stdout",
     "output_type": "stream",
     "text": [
      "train epoch 12;  1.6260690849845274\n"
     ]
    },
    {
     "name": "stderr",
     "output_type": "stream",
     "text": [
      "599854it [00:14, 41840.40it/s]\n"
     ]
    },
    {
     "name": "stdout",
     "output_type": "stream",
     "text": [
      "train epoch 13;  1.5623296046214596\n"
     ]
    },
    {
     "name": "stderr",
     "output_type": "stream",
     "text": [
      "599854it [00:15, 39648.51it/s]\n"
     ]
    },
    {
     "name": "stdout",
     "output_type": "stream",
     "text": [
      "train epoch 14;  1.507853263611148\n"
     ]
    },
    {
     "name": "stderr",
     "output_type": "stream",
     "text": [
      "599854it [00:13, 43382.41it/s]\n"
     ]
    },
    {
     "name": "stdout",
     "output_type": "stream",
     "text": [
      "train epoch 15;  1.4608598609862025\n"
     ]
    },
    {
     "name": "stderr",
     "output_type": "stream",
     "text": [
      "599854it [00:13, 44780.82it/s]\n"
     ]
    },
    {
     "name": "stdout",
     "output_type": "stream",
     "text": [
      "train epoch 16;  1.4199665540624482\n"
     ]
    },
    {
     "name": "stderr",
     "output_type": "stream",
     "text": [
      "599854it [00:13, 44455.93it/s]\n"
     ]
    },
    {
     "name": "stdout",
     "output_type": "stream",
     "text": [
      "train epoch 17;  1.384087267436385\n"
     ]
    },
    {
     "name": "stderr",
     "output_type": "stream",
     "text": [
      "599854it [00:12, 48047.55it/s]\n"
     ]
    },
    {
     "name": "stdout",
     "output_type": "stream",
     "text": [
      "train epoch 18;  1.3523610836162245\n"
     ]
    },
    {
     "name": "stderr",
     "output_type": "stream",
     "text": [
      "599854it [00:12, 48840.78it/s]\n"
     ]
    },
    {
     "name": "stdout",
     "output_type": "stream",
     "text": [
      "train epoch 19;  1.3241000306466908\n"
     ]
    },
    {
     "name": "stderr",
     "output_type": "stream",
     "text": [
      "599854it [00:12, 48086.01it/s]\n"
     ]
    },
    {
     "name": "stdout",
     "output_type": "stream",
     "text": [
      "train epoch 20;  1.2987502877952009\n"
     ]
    },
    {
     "name": "stderr",
     "output_type": "stream",
     "text": [
      "599854it [00:13, 46005.08it/s]\n"
     ]
    },
    {
     "name": "stdout",
     "output_type": "stream",
     "text": [
      "train epoch 21;  1.2758629390313085\n"
     ]
    },
    {
     "name": "stderr",
     "output_type": "stream",
     "text": [
      "599854it [00:12, 46457.95it/s]\n"
     ]
    },
    {
     "name": "stdout",
     "output_type": "stream",
     "text": [
      "train epoch 22;  1.255071676997267\n"
     ]
    },
    {
     "name": "stderr",
     "output_type": "stream",
     "text": [
      "599854it [00:11, 50890.07it/s]\n"
     ]
    },
    {
     "name": "stdout",
     "output_type": "stream",
     "text": [
      "train epoch 23;  1.236075657190445\n"
     ]
    },
    {
     "name": "stderr",
     "output_type": "stream",
     "text": [
      "599854it [00:12, 49416.60it/s]\n"
     ]
    },
    {
     "name": "stdout",
     "output_type": "stream",
     "text": [
      "train epoch 24;  1.2186262201885831\n"
     ]
    },
    {
     "name": "stderr",
     "output_type": "stream",
     "text": [
      "599854it [00:12, 49973.00it/s]\n"
     ]
    },
    {
     "name": "stdout",
     "output_type": "stream",
     "text": [
      "train epoch 25;  1.2025165486969847\n"
     ]
    },
    {
     "name": "stderr",
     "output_type": "stream",
     "text": [
      "599854it [00:12, 47487.46it/s]\n"
     ]
    },
    {
     "name": "stdout",
     "output_type": "stream",
     "text": [
      "train epoch 26;  1.1875735686800462\n"
     ]
    },
    {
     "name": "stderr",
     "output_type": "stream",
     "text": [
      "599854it [00:13, 44789.43it/s]\n"
     ]
    },
    {
     "name": "stdout",
     "output_type": "stream",
     "text": [
      "train epoch 27;  1.1736515768007105\n"
     ]
    },
    {
     "name": "stderr",
     "output_type": "stream",
     "text": [
      "599854it [00:13, 45190.08it/s]\n"
     ]
    },
    {
     "name": "stdout",
     "output_type": "stream",
     "text": [
      "train epoch 28;  1.1606272023909148\n"
     ]
    },
    {
     "name": "stderr",
     "output_type": "stream",
     "text": [
      "599854it [00:13, 44402.15it/s]\n"
     ]
    },
    {
     "name": "stdout",
     "output_type": "stream",
     "text": [
      "train epoch 29;  1.1483954054470689\n"
     ]
    },
    {
     "name": "stderr",
     "output_type": "stream",
     "text": [
      "599854it [00:13, 45674.32it/s]\n"
     ]
    },
    {
     "name": "stdout",
     "output_type": "stream",
     "text": [
      "train epoch 30;  1.136866282033967\n"
     ]
    },
    {
     "name": "stderr",
     "output_type": "stream",
     "text": [
      "599854it [00:12, 48803.78it/s]\n"
     ]
    },
    {
     "name": "stdout",
     "output_type": "stream",
     "text": [
      "train epoch 31;  1.1259625012991505\n"
     ]
    },
    {
     "name": "stderr",
     "output_type": "stream",
     "text": [
      "599854it [00:12, 46534.86it/s]\n"
     ]
    },
    {
     "name": "stdout",
     "output_type": "stream",
     "text": [
      "train epoch 32;  1.1156172384619911\n"
     ]
    },
    {
     "name": "stderr",
     "output_type": "stream",
     "text": [
      "599854it [00:13, 45025.12it/s]\n"
     ]
    },
    {
     "name": "stdout",
     "output_type": "stream",
     "text": [
      "train epoch 33;  1.1057724988191404\n"
     ]
    },
    {
     "name": "stderr",
     "output_type": "stream",
     "text": [
      "599854it [00:12, 49107.46it/s]\n"
     ]
    },
    {
     "name": "stdout",
     "output_type": "stream",
     "text": [
      "train epoch 34;  1.0963777513005677\n"
     ]
    },
    {
     "name": "stderr",
     "output_type": "stream",
     "text": [
      "599854it [00:12, 47305.11it/s]\n"
     ]
    },
    {
     "name": "stdout",
     "output_type": "stream",
     "text": [
      "train epoch 35;  1.0873888081609269\n"
     ]
    },
    {
     "name": "stderr",
     "output_type": "stream",
     "text": [
      "599854it [00:14, 41452.68it/s]\n"
     ]
    },
    {
     "name": "stdout",
     "output_type": "stream",
     "text": [
      "train epoch 36;  1.0787669012764505\n"
     ]
    },
    {
     "name": "stderr",
     "output_type": "stream",
     "text": [
      "599854it [00:14, 40298.32it/s]\n"
     ]
    },
    {
     "name": "stdout",
     "output_type": "stream",
     "text": [
      "train epoch 37;  1.0704779162312346\n"
     ]
    },
    {
     "name": "stderr",
     "output_type": "stream",
     "text": [
      "599854it [00:15, 38551.22it/s]\n"
     ]
    },
    {
     "name": "stdout",
     "output_type": "stream",
     "text": [
      "train epoch 38;  1.062491753657373\n"
     ]
    },
    {
     "name": "stderr",
     "output_type": "stream",
     "text": [
      "599854it [00:12, 49000.09it/s]\n"
     ]
    },
    {
     "name": "stdout",
     "output_type": "stream",
     "text": [
      "train epoch 39;  1.0547817937138773\n"
     ]
    },
    {
     "name": "stderr",
     "output_type": "stream",
     "text": [
      "599854it [00:14, 41527.76it/s]\n"
     ]
    },
    {
     "name": "stdout",
     "output_type": "stream",
     "text": [
      "train epoch 40;  1.0473244445783454\n"
     ]
    },
    {
     "name": "stderr",
     "output_type": "stream",
     "text": [
      "599854it [00:12, 47550.72it/s]\n"
     ]
    },
    {
     "name": "stdout",
     "output_type": "stream",
     "text": [
      "train epoch 41;  1.0400987597187379\n"
     ]
    },
    {
     "name": "stderr",
     "output_type": "stream",
     "text": [
      "599854it [00:14, 42406.57it/s]\n"
     ]
    },
    {
     "name": "stdout",
     "output_type": "stream",
     "text": [
      "train epoch 42;  1.033086111758889\n"
     ]
    },
    {
     "name": "stderr",
     "output_type": "stream",
     "text": [
      "599854it [00:13, 44631.52it/s]\n"
     ]
    },
    {
     "name": "stdout",
     "output_type": "stream",
     "text": [
      "train epoch 43;  1.0262699131460011\n"
     ]
    },
    {
     "name": "stderr",
     "output_type": "stream",
     "text": [
      "599854it [00:12, 46421.59it/s]\n"
     ]
    },
    {
     "name": "stdout",
     "output_type": "stream",
     "text": [
      "train epoch 44;  1.0196353757179326\n"
     ]
    },
    {
     "name": "stderr",
     "output_type": "stream",
     "text": [
      "599854it [00:16, 37432.58it/s]\n"
     ]
    },
    {
     "name": "stdout",
     "output_type": "stream",
     "text": [
      "train epoch 45;  1.0131693027644761\n"
     ]
    },
    {
     "name": "stderr",
     "output_type": "stream",
     "text": [
      "599854it [00:13, 43527.56it/s]\n"
     ]
    },
    {
     "name": "stdout",
     "output_type": "stream",
     "text": [
      "train epoch 46;  1.0068599083679175\n"
     ]
    },
    {
     "name": "stderr",
     "output_type": "stream",
     "text": [
      "599854it [00:13, 45745.23it/s]\n"
     ]
    },
    {
     "name": "stdout",
     "output_type": "stream",
     "text": [
      "train epoch 47;  1.0006966597605578\n"
     ]
    },
    {
     "name": "stderr",
     "output_type": "stream",
     "text": [
      "599854it [00:12, 48936.29it/s]\n"
     ]
    },
    {
     "name": "stdout",
     "output_type": "stream",
     "text": [
      "train epoch 48;  0.994670139201291\n"
     ]
    },
    {
     "name": "stderr",
     "output_type": "stream",
     "text": [
      "599854it [00:13, 45870.71it/s]\n"
     ]
    },
    {
     "name": "stdout",
     "output_type": "stream",
     "text": [
      "train epoch 49;  0.988771922485948\n"
     ]
    },
    {
     "name": "stderr",
     "output_type": "stream",
     "text": [
      "599854it [00:16, 37002.83it/s]\n"
     ]
    },
    {
     "name": "stdout",
     "output_type": "stream",
     "text": [
      "train epoch 50;  0.9829944717072286\n"
     ]
    },
    {
     "name": "stderr",
     "output_type": "stream",
     "text": [
      "599854it [00:15, 39684.60it/s]\n"
     ]
    },
    {
     "name": "stdout",
     "output_type": "stream",
     "text": [
      "train epoch 51;  0.9773310402808819\n"
     ]
    },
    {
     "name": "stderr",
     "output_type": "stream",
     "text": [
      "599854it [00:14, 40120.16it/s]\n"
     ]
    },
    {
     "name": "stdout",
     "output_type": "stream",
     "text": [
      "train epoch 52;  0.971775588584384\n"
     ]
    },
    {
     "name": "stderr",
     "output_type": "stream",
     "text": [
      "599854it [00:15, 39405.07it/s]\n"
     ]
    },
    {
     "name": "stdout",
     "output_type": "stream",
     "text": [
      "train epoch 53;  0.9663227088224937\n"
     ]
    },
    {
     "name": "stderr",
     "output_type": "stream",
     "text": [
      "599854it [00:14, 41545.43it/s]\n"
     ]
    },
    {
     "name": "stdout",
     "output_type": "stream",
     "text": [
      "train epoch 54;  0.9609675579539544\n"
     ]
    },
    {
     "name": "stderr",
     "output_type": "stream",
     "text": [
      "599854it [00:13, 45264.11it/s]\n"
     ]
    },
    {
     "name": "stdout",
     "output_type": "stream",
     "text": [
      "train epoch 55;  0.9557057976925103\n"
     ]
    },
    {
     "name": "stderr",
     "output_type": "stream",
     "text": [
      "599854it [00:14, 41314.71it/s]\n"
     ]
    },
    {
     "name": "stdout",
     "output_type": "stream",
     "text": [
      "train epoch 56;  0.9505335407447475\n"
     ]
    },
    {
     "name": "stderr",
     "output_type": "stream",
     "text": [
      "599854it [00:14, 41296.55it/s]\n"
     ]
    },
    {
     "name": "stdout",
     "output_type": "stream",
     "text": [
      "train epoch 57;  0.9454473025698412\n"
     ]
    },
    {
     "name": "stderr",
     "output_type": "stream",
     "text": [
      "599854it [00:15, 39624.94it/s]\n"
     ]
    },
    {
     "name": "stdout",
     "output_type": "stream",
     "text": [
      "train epoch 58;  0.9404439580452961\n"
     ]
    },
    {
     "name": "stderr",
     "output_type": "stream",
     "text": [
      "599854it [00:12, 48723.62it/s]\n"
     ]
    },
    {
     "name": "stdout",
     "output_type": "stream",
     "text": [
      "train epoch 59;  0.9355207025085566\n"
     ]
    },
    {
     "name": "stderr",
     "output_type": "stream",
     "text": [
      "599854it [00:12, 47384.02it/s]\n"
     ]
    },
    {
     "name": "stdout",
     "output_type": "stream",
     "text": [
      "train epoch 60;  0.9306750167138299\n"
     ]
    },
    {
     "name": "stderr",
     "output_type": "stream",
     "text": [
      "599854it [00:13, 44132.67it/s]\n"
     ]
    },
    {
     "name": "stdout",
     "output_type": "stream",
     "text": [
      "train epoch 61;  0.925904635300476\n"
     ]
    },
    {
     "name": "stderr",
     "output_type": "stream",
     "text": [
      "599854it [00:15, 39186.66it/s]\n"
     ]
    },
    {
     "name": "stdout",
     "output_type": "stream",
     "text": [
      "train epoch 62;  0.9212075184198135\n"
     ]
    },
    {
     "name": "stderr",
     "output_type": "stream",
     "text": [
      "599854it [00:13, 45361.55it/s]\n"
     ]
    },
    {
     "name": "stdout",
     "output_type": "stream",
     "text": [
      "train epoch 63;  0.9165818262071533\n"
     ]
    },
    {
     "name": "stderr",
     "output_type": "stream",
     "text": [
      "599854it [00:14, 42275.45it/s]\n"
     ]
    },
    {
     "name": "stdout",
     "output_type": "stream",
     "text": [
      "train epoch 64;  0.91202589582191\n"
     ]
    },
    {
     "name": "stderr",
     "output_type": "stream",
     "text": [
      "599854it [00:14, 40294.15it/s]\n"
     ]
    },
    {
     "name": "stdout",
     "output_type": "stream",
     "text": [
      "train epoch 65;  0.9075382208077399\n"
     ]
    },
    {
     "name": "stderr",
     "output_type": "stream",
     "text": [
      "599854it [00:14, 40397.08it/s]\n"
     ]
    },
    {
     "name": "stdout",
     "output_type": "stream",
     "text": [
      "train epoch 66;  0.9031174325511495\n"
     ]
    },
    {
     "name": "stderr",
     "output_type": "stream",
     "text": [
      "599854it [00:13, 44616.25it/s]\n"
     ]
    },
    {
     "name": "stdout",
     "output_type": "stream",
     "text": [
      "train epoch 67;  0.898762283639106\n"
     ]
    },
    {
     "name": "stderr",
     "output_type": "stream",
     "text": [
      "599854it [00:14, 41939.51it/s]\n"
     ]
    },
    {
     "name": "stdout",
     "output_type": "stream",
     "text": [
      "train epoch 68;  0.8944716329350286\n"
     ]
    },
    {
     "name": "stderr",
     "output_type": "stream",
     "text": [
      "599854it [00:14, 41144.32it/s]\n"
     ]
    },
    {
     "name": "stdout",
     "output_type": "stream",
     "text": [
      "train epoch 69;  0.8902444322116996\n"
     ]
    },
    {
     "name": "stderr",
     "output_type": "stream",
     "text": [
      "599854it [00:12, 48819.22it/s]\n"
     ]
    },
    {
     "name": "stdout",
     "output_type": "stream",
     "text": [
      "train epoch 70;  0.8860797141922134\n"
     ]
    },
    {
     "name": "stderr",
     "output_type": "stream",
     "text": [
      "599854it [00:12, 47781.89it/s]\n"
     ]
    },
    {
     "name": "stdout",
     "output_type": "stream",
     "text": [
      "train epoch 71;  0.8819765818663493\n"
     ]
    },
    {
     "name": "stderr",
     "output_type": "stream",
     "text": [
      "599854it [00:14, 41957.76it/s]\n"
     ]
    },
    {
     "name": "stdout",
     "output_type": "stream",
     "text": [
      "train epoch 72;  0.8779341989604005\n"
     ]
    },
    {
     "name": "stderr",
     "output_type": "stream",
     "text": [
      "599854it [00:12, 46540.05it/s]\n"
     ]
    },
    {
     "name": "stdout",
     "output_type": "stream",
     "text": [
      "train epoch 73;  0.8739517814495675\n"
     ]
    },
    {
     "name": "stderr",
     "output_type": "stream",
     "text": [
      "599854it [00:12, 47298.19it/s]\n"
     ]
    },
    {
     "name": "stdout",
     "output_type": "stream",
     "text": [
      "train epoch 74;  0.8700285900139465\n"
     ]
    },
    {
     "name": "stderr",
     "output_type": "stream",
     "text": [
      "599854it [00:15, 39766.46it/s]\n"
     ]
    },
    {
     "name": "stdout",
     "output_type": "stream",
     "text": [
      "train epoch 75;  0.8661639233447067\n"
     ]
    },
    {
     "name": "stderr",
     "output_type": "stream",
     "text": [
      "599854it [00:14, 41215.63it/s]\n"
     ]
    },
    {
     "name": "stdout",
     "output_type": "stream",
     "text": [
      "train epoch 76;  0.8623571122199603\n"
     ]
    },
    {
     "name": "stderr",
     "output_type": "stream",
     "text": [
      "599854it [00:13, 44762.70it/s]\n"
     ]
    },
    {
     "name": "stdout",
     "output_type": "stream",
     "text": [
      "train epoch 77;  0.8586075142726446\n"
     ]
    },
    {
     "name": "stderr",
     "output_type": "stream",
     "text": [
      "599854it [00:13, 44138.96it/s]\n"
     ]
    },
    {
     "name": "stdout",
     "output_type": "stream",
     "text": [
      "train epoch 78;  0.8549145093836102\n"
     ]
    },
    {
     "name": "stderr",
     "output_type": "stream",
     "text": [
      "599854it [00:13, 45489.18it/s]\n"
     ]
    },
    {
     "name": "stdout",
     "output_type": "stream",
     "text": [
      "train epoch 79;  0.8512774956370757\n"
     ]
    },
    {
     "name": "stderr",
     "output_type": "stream",
     "text": [
      "599854it [00:12, 47462.68it/s]\n"
     ]
    },
    {
     "name": "stdout",
     "output_type": "stream",
     "text": [
      "train epoch 80;  0.847695885782095\n"
     ]
    },
    {
     "name": "stderr",
     "output_type": "stream",
     "text": [
      "599854it [00:12, 48509.14it/s]\n"
     ]
    },
    {
     "name": "stdout",
     "output_type": "stream",
     "text": [
      "train epoch 81;  0.8441691041488636\n"
     ]
    },
    {
     "name": "stderr",
     "output_type": "stream",
     "text": [
      "599854it [00:12, 47225.45it/s]\n"
     ]
    },
    {
     "name": "stdout",
     "output_type": "stream",
     "text": [
      "train epoch 82;  0.840696583974325\n"
     ]
    },
    {
     "name": "stderr",
     "output_type": "stream",
     "text": [
      "599854it [00:12, 47257.24it/s]\n"
     ]
    },
    {
     "name": "stdout",
     "output_type": "stream",
     "text": [
      "train epoch 83;  0.8372777650932877\n"
     ]
    },
    {
     "name": "stderr",
     "output_type": "stream",
     "text": [
      "599854it [00:12, 47185.83it/s]\n"
     ]
    },
    {
     "name": "stdout",
     "output_type": "stream",
     "text": [
      "train epoch 84;  0.8339120919596524\n"
     ]
    },
    {
     "name": "stderr",
     "output_type": "stream",
     "text": [
      "599854it [00:13, 44854.99it/s]\n"
     ]
    },
    {
     "name": "stdout",
     "output_type": "stream",
     "text": [
      "train epoch 85;  0.8305990119606751\n"
     ]
    },
    {
     "name": "stderr",
     "output_type": "stream",
     "text": [
      "599854it [00:13, 44484.82it/s]\n"
     ]
    },
    {
     "name": "stdout",
     "output_type": "stream",
     "text": [
      "train epoch 86;  0.8273379739952902\n"
     ]
    },
    {
     "name": "stderr",
     "output_type": "stream",
     "text": [
      "599854it [00:12, 48380.14it/s]\n"
     ]
    },
    {
     "name": "stdout",
     "output_type": "stream",
     "text": [
      "train epoch 87;  0.8241284272866501\n"
     ]
    },
    {
     "name": "stderr",
     "output_type": "stream",
     "text": [
      "599854it [00:15, 37578.52it/s]\n"
     ]
    },
    {
     "name": "stdout",
     "output_type": "stream",
     "text": [
      "train epoch 88;  0.8209698204050276\n"
     ]
    },
    {
     "name": "stderr",
     "output_type": "stream",
     "text": [
      "599854it [00:17, 34721.73it/s]\n"
     ]
    },
    {
     "name": "stdout",
     "output_type": "stream",
     "text": [
      "train epoch 89;  0.817861600476615\n"
     ]
    },
    {
     "name": "stderr",
     "output_type": "stream",
     "text": [
      "599854it [00:16, 36141.19it/s]\n"
     ]
    },
    {
     "name": "stdout",
     "output_type": "stream",
     "text": [
      "train epoch 90;  0.8148032125581178\n"
     ]
    },
    {
     "name": "stderr",
     "output_type": "stream",
     "text": [
      "599854it [00:17, 35203.22it/s]\n"
     ]
    },
    {
     "name": "stdout",
     "output_type": "stream",
     "text": [
      "train epoch 91;  0.8117940991583158\n"
     ]
    },
    {
     "name": "stderr",
     "output_type": "stream",
     "text": [
      "599854it [00:14, 42115.87it/s]\n"
     ]
    },
    {
     "name": "stdout",
     "output_type": "stream",
     "text": [
      "train epoch 92;  0.8088336998891262\n"
     ]
    },
    {
     "name": "stderr",
     "output_type": "stream",
     "text": [
      "599854it [00:12, 46976.48it/s]\n"
     ]
    },
    {
     "name": "stdout",
     "output_type": "stream",
     "text": [
      "train epoch 93;  0.8059214512313001\n"
     ]
    },
    {
     "name": "stderr",
     "output_type": "stream",
     "text": [
      "599854it [00:14, 40785.80it/s]\n"
     ]
    },
    {
     "name": "stdout",
     "output_type": "stream",
     "text": [
      "train epoch 94;  0.803056786400278\n"
     ]
    },
    {
     "name": "stderr",
     "output_type": "stream",
     "text": [
      "599854it [00:14, 41901.36it/s]\n"
     ]
    },
    {
     "name": "stdout",
     "output_type": "stream",
     "text": [
      "train epoch 95;  0.8002391352999846\n"
     ]
    },
    {
     "name": "stderr",
     "output_type": "stream",
     "text": [
      "599854it [00:14, 41258.42it/s]\n"
     ]
    },
    {
     "name": "stdout",
     "output_type": "stream",
     "text": [
      "train epoch 96;  0.7974679245533745\n"
     ]
    },
    {
     "name": "stderr",
     "output_type": "stream",
     "text": [
      "599854it [00:19, 31335.35it/s]\n"
     ]
    },
    {
     "name": "stdout",
     "output_type": "stream",
     "text": [
      "train epoch 97;  0.7947425775982686\n"
     ]
    },
    {
     "name": "stderr",
     "output_type": "stream",
     "text": [
      "599854it [00:18, 32172.93it/s]\n"
     ]
    },
    {
     "name": "stdout",
     "output_type": "stream",
     "text": [
      "train epoch 98;  0.7920625148409832\n"
     ]
    },
    {
     "name": "stderr",
     "output_type": "stream",
     "text": [
      "599854it [00:13, 46051.61it/s]\n"
     ]
    },
    {
     "name": "stdout",
     "output_type": "stream",
     "text": [
      "train epoch 99;  0.7894271538577252\n"
     ]
    }
   ],
   "source": [
    "model.fit(y_train)"
   ]
  },
  {
   "cell_type": "code",
   "execution_count": 24,
   "metadata": {},
   "outputs": [],
   "source": [
    "history = model.get_evaluation_errors()"
   ]
  },
  {
   "cell_type": "code",
   "execution_count": 29,
   "metadata": {},
   "outputs": [
    {
     "data": {
      "text/plain": [
       "Text(0.5, 1.0, 'Training errors')"
      ]
     },
     "execution_count": 29,
     "metadata": {},
     "output_type": "execute_result"
    },
    {
     "data": {
      "image/png": "[encoded data removed]",
      "text/plain": [
       "<Figure size 1152x720 with 1 Axes>"
      ]
     },
     "metadata": {
      "needs_background": "light"
     },
     "output_type": "display_data"
    }
   ],
   "source": [
    "plt.figure(figsize = [16,10])\n",
    "plt.plot(\n",
    "    history,\n",
    "    'o'\n",
    ")\n",
    "plt.title(\"Training errors\")"
   ]
  },
  {
   "cell_type": "code",
   "execution_count": 33,
   "metadata": {},
   "outputs": [],
   "source": [
    "X, Theta = model.X, model.Theta"
   ]
  },
  {
   "cell_type": "code",
   "execution_count": 37,
   "metadata": {},
   "outputs": [
    {
     "data": {
      "text/plain": [
       "(5, 10109)"
      ]
     },
     "execution_count": 37,
     "metadata": {},
     "output_type": "execute_result"
    }
   ],
   "source": [
    "X.shape"
   ]
  },
  {
   "cell_type": "code",
   "execution_count": 36,
   "metadata": {},
   "outputs": [
    {
     "data": {
      "text/html": [
       "<div>\n",
       "<style scoped>\n",
       "    .dataframe tbody tr th:only-of-type {\n",
       "        vertical-align: middle;\n",
       "    }\n",
       "\n",
       "    .dataframe tbody tr th {\n",
       "        vertical-align: top;\n",
       "    }\n",
       "\n",
       "    .dataframe thead th {\n",
       "        text-align: right;\n",
       "    }\n",
       "</style>\n",
       "<table border=\"1\" class=\"dataframe\">\n",
       "  <thead>\n",
       "    <tr style=\"text-align: right;\">\n",
       "      <th></th>\n",
       "      <th>userID</th>\n",
       "      <th>movieID</th>\n",
       "      <th>rating</th>\n",
       "      <th>date_day</th>\n",
       "      <th>date_month</th>\n",
       "      <th>date_year</th>\n",
       "      <th>date_hour</th>\n",
       "      <th>date_minute</th>\n",
       "      <th>date_second</th>\n",
       "    </tr>\n",
       "  </thead>\n",
       "  <tbody>\n",
       "    <tr>\n",
       "      <th>0</th>\n",
       "      <td>75</td>\n",
       "      <td>3</td>\n",
       "      <td>1.0</td>\n",
       "      <td>29</td>\n",
       "      <td>10</td>\n",
       "      <td>2006</td>\n",
       "      <td>23</td>\n",
       "      <td>17</td>\n",
       "      <td>16</td>\n",
       "    </tr>\n",
       "    <tr>\n",
       "      <th>1</th>\n",
       "      <td>75</td>\n",
       "      <td>32</td>\n",
       "      <td>4.5</td>\n",
       "      <td>29</td>\n",
       "      <td>10</td>\n",
       "      <td>2006</td>\n",
       "      <td>23</td>\n",
       "      <td>23</td>\n",
       "      <td>44</td>\n",
       "    </tr>\n",
       "    <tr>\n",
       "      <th>2</th>\n",
       "      <td>75</td>\n",
       "      <td>110</td>\n",
       "      <td>4.0</td>\n",
       "      <td>29</td>\n",
       "      <td>10</td>\n",
       "      <td>2006</td>\n",
       "      <td>23</td>\n",
       "      <td>30</td>\n",
       "      <td>8</td>\n",
       "    </tr>\n",
       "    <tr>\n",
       "      <th>3</th>\n",
       "      <td>75</td>\n",
       "      <td>160</td>\n",
       "      <td>2.0</td>\n",
       "      <td>29</td>\n",
       "      <td>10</td>\n",
       "      <td>2006</td>\n",
       "      <td>23</td>\n",
       "      <td>16</td>\n",
       "      <td>52</td>\n",
       "    </tr>\n",
       "    <tr>\n",
       "      <th>4</th>\n",
       "      <td>75</td>\n",
       "      <td>163</td>\n",
       "      <td>4.0</td>\n",
       "      <td>29</td>\n",
       "      <td>10</td>\n",
       "      <td>2006</td>\n",
       "      <td>23</td>\n",
       "      <td>29</td>\n",
       "      <td>30</td>\n",
       "    </tr>\n",
       "    <tr>\n",
       "      <th>...</th>\n",
       "      <td>...</td>\n",
       "      <td>...</td>\n",
       "      <td>...</td>\n",
       "      <td>...</td>\n",
       "      <td>...</td>\n",
       "      <td>...</td>\n",
       "      <td>...</td>\n",
       "      <td>...</td>\n",
       "      <td>...</td>\n",
       "    </tr>\n",
       "    <tr>\n",
       "      <th>855593</th>\n",
       "      <td>71534</td>\n",
       "      <td>44555</td>\n",
       "      <td>4.0</td>\n",
       "      <td>3</td>\n",
       "      <td>12</td>\n",
       "      <td>2007</td>\n",
       "      <td>3</td>\n",
       "      <td>5</td>\n",
       "      <td>38</td>\n",
       "    </tr>\n",
       "    <tr>\n",
       "      <th>855594</th>\n",
       "      <td>71534</td>\n",
       "      <td>46578</td>\n",
       "      <td>4.0</td>\n",
       "      <td>3</td>\n",
       "      <td>12</td>\n",
       "      <td>2007</td>\n",
       "      <td>2</td>\n",
       "      <td>56</td>\n",
       "      <td>44</td>\n",
       "    </tr>\n",
       "    <tr>\n",
       "      <th>855595</th>\n",
       "      <td>71534</td>\n",
       "      <td>48516</td>\n",
       "      <td>4.5</td>\n",
       "      <td>3</td>\n",
       "      <td>12</td>\n",
       "      <td>2007</td>\n",
       "      <td>2</td>\n",
       "      <td>53</td>\n",
       "      <td>46</td>\n",
       "    </tr>\n",
       "    <tr>\n",
       "      <th>855596</th>\n",
       "      <td>71534</td>\n",
       "      <td>61075</td>\n",
       "      <td>5.0</td>\n",
       "      <td>10</td>\n",
       "      <td>10</td>\n",
       "      <td>2008</td>\n",
       "      <td>9</td>\n",
       "      <td>56</td>\n",
       "      <td>5</td>\n",
       "    </tr>\n",
       "    <tr>\n",
       "      <th>855597</th>\n",
       "      <td>71534</td>\n",
       "      <td>62049</td>\n",
       "      <td>4.5</td>\n",
       "      <td>10</td>\n",
       "      <td>10</td>\n",
       "      <td>2008</td>\n",
       "      <td>9</td>\n",
       "      <td>58</td>\n",
       "      <td>10</td>\n",
       "    </tr>\n",
       "  </tbody>\n",
       "</table>\n",
       "<p>855598 rows × 9 columns</p>\n",
       "</div>"
      ],
      "text/plain": [
       "        userID  movieID  rating  date_day  date_month  date_year  date_hour  \\\n",
       "0           75        3     1.0        29          10       2006         23   \n",
       "1           75       32     4.5        29          10       2006         23   \n",
       "2           75      110     4.0        29          10       2006         23   \n",
       "3           75      160     2.0        29          10       2006         23   \n",
       "4           75      163     4.0        29          10       2006         23   \n",
       "...        ...      ...     ...       ...         ...        ...        ...   \n",
       "855593   71534    44555     4.0         3          12       2007          3   \n",
       "855594   71534    46578     4.0         3          12       2007          2   \n",
       "855595   71534    48516     4.5         3          12       2007          2   \n",
       "855596   71534    61075     5.0        10          10       2008          9   \n",
       "855597   71534    62049     4.5        10          10       2008          9   \n",
       "\n",
       "        date_minute  date_second  \n",
       "0                17           16  \n",
       "1                23           44  \n",
       "2                30            8  \n",
       "3                16           52  \n",
       "4                29           30  \n",
       "...             ...          ...  \n",
       "855593            5           38  \n",
       "855594           56           44  \n",
       "855595           53           46  \n",
       "855596           56            5  \n",
       "855597           58           10  \n",
       "\n",
       "[855598 rows x 9 columns]"
      ]
     },
     "execution_count": 36,
     "metadata": {},
     "output_type": "execute_result"
    }
   ],
   "source": [
    "ratings_df"
   ]
  },
  {
   "cell_type": "code",
   "execution_count": null,
   "metadata": {},
   "outputs": [],
   "source": []
  },
  {
   "cell_type": "code",
   "execution_count": 53,
   "metadata": {},
   "outputs": [
    {
     "data": {
      "text/plain": [
       "0.8884971321606719"
      ]
     },
     "execution_count": 53,
     "metadata": {},
     "output_type": "execute_result"
    }
   ],
   "source": [
    "model.rms(\n",
    "    y_train,\n",
    "    (Theta.T @ X)\n",
    ")"
   ]
  },
  {
   "cell_type": "code",
   "execution_count": 54,
   "metadata": {},
   "outputs": [],
   "source": [
    "Theta.tofile(\n",
    "    \"data/collaborative-filtering/model/Theta.csv\",\n",
    "    sep= ','    \n",
    ")"
   ]
  },
  {
   "cell_type": "code",
   "execution_count": 55,
   "metadata": {},
   "outputs": [],
   "source": [
    "X.tofile(\n",
    "    \"data/collaborative-filtering/model/X.csv\",\n",
    "    sep= ','    \n",
    ")"
   ]
  },
  {
   "cell_type": "code",
   "execution_count": 71,
   "metadata": {},
   "outputs": [],
   "source": [
    "y_pred = Theta.T @ X"
   ]
  },
  {
   "cell_type": "code",
   "execution_count": 84,
   "metadata": {},
   "outputs": [
    {
     "data": {
      "text/plain": [
       "Text(0.5, 6.79999999999999, 'prediction')"
      ]
     },
     "execution_count": 84,
     "metadata": {},
     "output_type": "execute_result"
    },
    {
     "data": {
      "text/plain": [
       "<Figure size 1152x720 with 0 Axes>"
      ]
     },
     "metadata": {},
     "output_type": "display_data"
    },
    {
     "data": {
      "image/png": "[encoded data removed]",
      "text/plain": [
       "<Figure size 360x360 with 1 Axes>"
      ]
     },
     "metadata": {
      "needs_background": "light"
     },
     "output_type": "display_data"
    }
   ],
   "source": [
    "plt.figure(figsize = [16, 10])\n",
    "sns.displot(y_pred.flatten())\n",
    "plt.title(\"Predictions distribution\")\n",
    "plt.xlabel(\"prediction\")"
   ]
  },
  {
   "cell_type": "code",
   "execution_count": 83,
   "metadata": {},
   "outputs": [
    {
     "data": {
      "text/plain": [
       "{'max value': 30.20197635552509,\n",
       " 'min value': -13.463585835260478,\n",
       " 'average value': 4.566684395355384,\n",
       " 'median value': 4.028098641057578,\n",
       " 'quantile 0.05': 2.1960996106478317,\n",
       " 'quantile 0.9': 7.331709226871486}"
      ]
     },
     "execution_count": 83,
     "metadata": {},
     "output_type": "execute_result"
    }
   ],
   "source": [
    "{\n",
    "    'max value': y_pred.max(),\n",
    "    'min value': y_pred.min(),\n",
    "    'average value': y_pred.mean(),\n",
    "    'median value': np.median(y_pred), \n",
    "    'quantile 0.05' : np.quantile(y_pred, 0.05),\n",
    "    'quantile 0.9': np.quantile(y_pred, 0.9),\n",
    "}"
   ]
  },
  {
   "attachments": {},
   "cell_type": "markdown",
   "metadata": {},
   "source": [
    "### Train model with constraints \n",
    "As we can see, some predictions are out of the domain of ratings ${0, \\ \\dots, 5}$\n",
    "We will them add a constraint to ```y_pred``` and re-train the model "
   ]
  },
  {
   "cell_type": "code",
   "execution_count": 70,
   "metadata": {},
   "outputs": [],
   "source": [
    "y_pred[y_pred > 5] = 5\n",
    "y_pred[y_pred < 0] = 0"
   ]
  },
  {
   "cell_type": "code",
   "execution_count": 88,
   "metadata": {},
   "outputs": [],
   "source": [
    "model = SGDOptimizer(\n",
    "    predict_constraints = True\n",
    ")"
   ]
  },
  {
   "cell_type": "code",
   "execution_count": 91,
   "metadata": {},
   "outputs": [
    {
     "name": "stderr",
     "output_type": "stream",
     "text": [
      "599854it [00:12, 49504.97it/s]\n"
     ]
    },
    {
     "name": "stdout",
     "output_type": "stream",
     "text": [
      "train epoch 0;  109.30358781854937\n"
     ]
    },
    {
     "name": "stderr",
     "output_type": "stream",
     "text": [
      "599854it [00:13, 44828.57it/s]\n"
     ]
    },
    {
     "name": "stdout",
     "output_type": "stream",
     "text": [
      "train epoch 1;  46.53531686384837\n"
     ]
    },
    {
     "name": "stderr",
     "output_type": "stream",
     "text": [
      "599854it [00:14, 42285.56it/s]\n"
     ]
    },
    {
     "name": "stdout",
     "output_type": "stream",
     "text": [
      "train epoch 2;  27.960891876567818\n"
     ]
    },
    {
     "name": "stderr",
     "output_type": "stream",
     "text": [
      "599854it [00:14, 42018.35it/s]\n"
     ]
    },
    {
     "name": "stdout",
     "output_type": "stream",
     "text": [
      "train epoch 3;  19.564998283229507\n"
     ]
    },
    {
     "name": "stderr",
     "output_type": "stream",
     "text": [
      "599854it [00:14, 41377.10it/s]\n"
     ]
    },
    {
     "name": "stdout",
     "output_type": "stream",
     "text": [
      "train epoch 4;  14.898133629510083\n"
     ]
    },
    {
     "name": "stderr",
     "output_type": "stream",
     "text": [
      "599854it [00:15, 37713.72it/s]\n"
     ]
    },
    {
     "name": "stdout",
     "output_type": "stream",
     "text": [
      "train epoch 5;  11.954226900730369\n"
     ]
    },
    {
     "name": "stderr",
     "output_type": "stream",
     "text": [
      "599854it [00:13, 44724.91it/s]\n"
     ]
    },
    {
     "name": "stdout",
     "output_type": "stream",
     "text": [
      "train epoch 6;  9.9430734190366\n"
     ]
    },
    {
     "name": "stderr",
     "output_type": "stream",
     "text": [
      "599854it [00:13, 44302.47it/s]\n"
     ]
    },
    {
     "name": "stdout",
     "output_type": "stream",
     "text": [
      "train epoch 7;  8.485866937059429\n"
     ]
    },
    {
     "name": "stderr",
     "output_type": "stream",
     "text": [
      "599854it [00:13, 45517.78it/s]\n"
     ]
    },
    {
     "name": "stdout",
     "output_type": "stream",
     "text": [
      "train epoch 8;  7.381415982000338\n"
     ]
    },
    {
     "name": "stderr",
     "output_type": "stream",
     "text": [
      "599854it [00:11, 50162.33it/s]\n"
     ]
    },
    {
     "name": "stdout",
     "output_type": "stream",
     "text": [
      "train epoch 9;  6.516169063703796\n"
     ]
    },
    {
     "name": "stderr",
     "output_type": "stream",
     "text": [
      "599854it [00:12, 48847.45it/s]\n"
     ]
    },
    {
     "name": "stdout",
     "output_type": "stream",
     "text": [
      "train epoch 10;  5.818244876779674\n"
     ]
    },
    {
     "name": "stderr",
     "output_type": "stream",
     "text": [
      "599854it [00:13, 44832.26it/s]\n"
     ]
    },
    {
     "name": "stdout",
     "output_type": "stream",
     "text": [
      "train epoch 11;  5.241361204964667\n"
     ]
    },
    {
     "name": "stderr",
     "output_type": "stream",
     "text": [
      "599854it [00:15, 39691.65it/s]\n"
     ]
    },
    {
     "name": "stdout",
     "output_type": "stream",
     "text": [
      "train epoch 12;  4.756843343595526\n"
     ]
    },
    {
     "name": "stderr",
     "output_type": "stream",
     "text": [
      "599854it [00:13, 43127.63it/s]\n"
     ]
    },
    {
     "name": "stdout",
     "output_type": "stream",
     "text": [
      "train epoch 13;  4.344705709292721\n"
     ]
    },
    {
     "name": "stderr",
     "output_type": "stream",
     "text": [
      "599854it [00:18, 32765.54it/s]\n"
     ]
    },
    {
     "name": "stdout",
     "output_type": "stream",
     "text": [
      "train epoch 14;  3.9901991033597137\n"
     ]
    },
    {
     "name": "stderr",
     "output_type": "stream",
     "text": [
      "599854it [00:18, 32594.32it/s]\n"
     ]
    },
    {
     "name": "stdout",
     "output_type": "stream",
     "text": [
      "train epoch 15;  3.6837644750677816\n"
     ]
    },
    {
     "name": "stderr",
     "output_type": "stream",
     "text": [
      "599854it [00:14, 40164.96it/s]\n"
     ]
    },
    {
     "name": "stdout",
     "output_type": "stream",
     "text": [
      "train epoch 16;  3.417347449596112\n"
     ]
    },
    {
     "name": "stderr",
     "output_type": "stream",
     "text": [
      "599854it [00:15, 39516.25it/s]\n"
     ]
    },
    {
     "name": "stdout",
     "output_type": "stream",
     "text": [
      "train epoch 17;  3.1839661584351275\n"
     ]
    },
    {
     "name": "stderr",
     "output_type": "stream",
     "text": [
      "599854it [00:14, 40142.23it/s]\n"
     ]
    },
    {
     "name": "stdout",
     "output_type": "stream",
     "text": [
      "train epoch 18;  2.9781814608193633\n"
     ]
    },
    {
     "name": "stderr",
     "output_type": "stream",
     "text": [
      "599854it [00:14, 41637.20it/s]\n"
     ]
    },
    {
     "name": "stdout",
     "output_type": "stream",
     "text": [
      "train epoch 19;  2.7953422122360747\n"
     ]
    },
    {
     "name": "stderr",
     "output_type": "stream",
     "text": [
      "599854it [00:12, 47618.29it/s]\n"
     ]
    },
    {
     "name": "stdout",
     "output_type": "stream",
     "text": [
      "train epoch 20;  2.6321225695618895\n"
     ]
    },
    {
     "name": "stderr",
     "output_type": "stream",
     "text": [
      "599854it [00:12, 49694.24it/s]\n"
     ]
    },
    {
     "name": "stdout",
     "output_type": "stream",
     "text": [
      "train epoch 21;  2.486007995840781\n"
     ]
    },
    {
     "name": "stderr",
     "output_type": "stream",
     "text": [
      "599854it [00:11, 53667.90it/s]\n"
     ]
    },
    {
     "name": "stdout",
     "output_type": "stream",
     "text": [
      "train epoch 22;  2.355029237082946\n"
     ]
    },
    {
     "name": "stderr",
     "output_type": "stream",
     "text": [
      "599854it [00:10, 59846.93it/s]\n"
     ]
    },
    {
     "name": "stdout",
     "output_type": "stream",
     "text": [
      "train epoch 23;  2.2374731224763234\n"
     ]
    },
    {
     "name": "stderr",
     "output_type": "stream",
     "text": [
      "599854it [00:10, 59284.39it/s]\n"
     ]
    },
    {
     "name": "stdout",
     "output_type": "stream",
     "text": [
      "train epoch 24;  2.1315036684215403\n"
     ]
    },
    {
     "name": "stderr",
     "output_type": "stream",
     "text": [
      "599854it [00:09, 61412.66it/s]\n"
     ]
    },
    {
     "name": "stdout",
     "output_type": "stream",
     "text": [
      "train epoch 25;  2.035595154778955\n"
     ]
    },
    {
     "name": "stderr",
     "output_type": "stream",
     "text": [
      "599854it [00:10, 59561.76it/s]\n"
     ]
    },
    {
     "name": "stdout",
     "output_type": "stream",
     "text": [
      "train epoch 26;  1.9485498994337709\n"
     ]
    },
    {
     "name": "stderr",
     "output_type": "stream",
     "text": [
      "599854it [00:09, 60228.09it/s]\n"
     ]
    },
    {
     "name": "stdout",
     "output_type": "stream",
     "text": [
      "train epoch 27;  1.8693043485465055\n"
     ]
    },
    {
     "name": "stderr",
     "output_type": "stream",
     "text": [
      "599854it [00:09, 63125.52it/s]\n"
     ]
    },
    {
     "name": "stdout",
     "output_type": "stream",
     "text": [
      "train epoch 28;  1.7969713766296944\n"
     ]
    },
    {
     "name": "stderr",
     "output_type": "stream",
     "text": [
      "599854it [00:09, 62814.80it/s]\n"
     ]
    },
    {
     "name": "stdout",
     "output_type": "stream",
     "text": [
      "train epoch 29;  1.7307719864759303\n"
     ]
    },
    {
     "name": "stderr",
     "output_type": "stream",
     "text": [
      "599854it [00:09, 62064.93it/s]\n"
     ]
    },
    {
     "name": "stdout",
     "output_type": "stream",
     "text": [
      "train epoch 30;  1.670028818004042\n"
     ]
    },
    {
     "name": "stderr",
     "output_type": "stream",
     "text": [
      "599854it [00:09, 63559.92it/s]\n"
     ]
    },
    {
     "name": "stdout",
     "output_type": "stream",
     "text": [
      "train epoch 31;  1.614206507947521\n"
     ]
    },
    {
     "name": "stderr",
     "output_type": "stream",
     "text": [
      "599854it [00:09, 62163.39it/s]\n"
     ]
    },
    {
     "name": "stdout",
     "output_type": "stream",
     "text": [
      "train epoch 32;  1.5628423921990917\n"
     ]
    },
    {
     "name": "stderr",
     "output_type": "stream",
     "text": [
      "599854it [00:09, 61896.16it/s]\n"
     ]
    },
    {
     "name": "stdout",
     "output_type": "stream",
     "text": [
      "train epoch 33;  1.5155595359862641\n"
     ]
    },
    {
     "name": "stderr",
     "output_type": "stream",
     "text": [
      "599854it [00:09, 62062.67it/s]\n"
     ]
    },
    {
     "name": "stdout",
     "output_type": "stream",
     "text": [
      "train epoch 34;  1.472026979499851\n"
     ]
    },
    {
     "name": "stderr",
     "output_type": "stream",
     "text": [
      "599854it [00:09, 62187.82it/s]\n"
     ]
    },
    {
     "name": "stdout",
     "output_type": "stream",
     "text": [
      "train epoch 35;  1.4319336955008146\n"
     ]
    },
    {
     "name": "stderr",
     "output_type": "stream",
     "text": [
      "599854it [00:09, 63299.47it/s]\n"
     ]
    },
    {
     "name": "stdout",
     "output_type": "stream",
     "text": [
      "train epoch 36;  1.3949861260645067\n"
     ]
    },
    {
     "name": "stderr",
     "output_type": "stream",
     "text": [
      "599854it [00:09, 61265.93it/s]\n"
     ]
    },
    {
     "name": "stdout",
     "output_type": "stream",
     "text": [
      "train epoch 37;  1.3609114912652558\n"
     ]
    },
    {
     "name": "stderr",
     "output_type": "stream",
     "text": [
      "599854it [00:09, 61895.37it/s]\n"
     ]
    },
    {
     "name": "stdout",
     "output_type": "stream",
     "text": [
      "train epoch 38;  1.3294463401633678\n"
     ]
    },
    {
     "name": "stderr",
     "output_type": "stream",
     "text": [
      "599854it [00:09, 63474.67it/s]\n"
     ]
    },
    {
     "name": "stdout",
     "output_type": "stream",
     "text": [
      "train epoch 39;  1.3003405438088642\n"
     ]
    },
    {
     "name": "stderr",
     "output_type": "stream",
     "text": [
      "599854it [00:09, 62573.72it/s]\n"
     ]
    },
    {
     "name": "stdout",
     "output_type": "stream",
     "text": [
      "train epoch 40;  1.2733771632167559\n"
     ]
    },
    {
     "name": "stderr",
     "output_type": "stream",
     "text": [
      "599854it [00:09, 63052.15it/s]\n"
     ]
    },
    {
     "name": "stdout",
     "output_type": "stream",
     "text": [
      "train epoch 41;  1.2483474903921747\n"
     ]
    },
    {
     "name": "stderr",
     "output_type": "stream",
     "text": [
      "599854it [00:09, 62838.86it/s]\n"
     ]
    },
    {
     "name": "stdout",
     "output_type": "stream",
     "text": [
      "train epoch 42;  1.2250654132462546\n"
     ]
    },
    {
     "name": "stderr",
     "output_type": "stream",
     "text": [
      "599854it [00:09, 62277.31it/s]\n"
     ]
    },
    {
     "name": "stdout",
     "output_type": "stream",
     "text": [
      "train epoch 43;  1.2033686566023047\n"
     ]
    },
    {
     "name": "stderr",
     "output_type": "stream",
     "text": [
      "599854it [00:18, 31957.47it/s]\n"
     ]
    },
    {
     "name": "stdout",
     "output_type": "stream",
     "text": [
      "train epoch 44;  1.1831054880434333\n"
     ]
    },
    {
     "name": "stderr",
     "output_type": "stream",
     "text": [
      "599854it [00:15, 38140.22it/s]\n"
     ]
    },
    {
     "name": "stdout",
     "output_type": "stream",
     "text": [
      "train epoch 45;  1.1641429094950797\n"
     ]
    },
    {
     "name": "stderr",
     "output_type": "stream",
     "text": [
      "599854it [00:17, 35257.87it/s]\n"
     ]
    },
    {
     "name": "stdout",
     "output_type": "stream",
     "text": [
      "train epoch 46;  1.1463675682463277\n"
     ]
    },
    {
     "name": "stderr",
     "output_type": "stream",
     "text": [
      "599854it [00:11, 52956.23it/s]\n"
     ]
    },
    {
     "name": "stdout",
     "output_type": "stream",
     "text": [
      "train epoch 47;  1.129679826443018\n"
     ]
    },
    {
     "name": "stderr",
     "output_type": "stream",
     "text": [
      "599854it [00:12, 49375.15it/s]\n"
     ]
    },
    {
     "name": "stdout",
     "output_type": "stream",
     "text": [
      "train epoch 48;  1.1139882969859138\n"
     ]
    },
    {
     "name": "stderr",
     "output_type": "stream",
     "text": [
      "599854it [00:11, 50803.73it/s]\n"
     ]
    },
    {
     "name": "stdout",
     "output_type": "stream",
     "text": [
      "train epoch 49;  1.099206560261458\n"
     ]
    },
    {
     "name": "stderr",
     "output_type": "stream",
     "text": [
      "599854it [00:12, 46504.22it/s]\n"
     ]
    },
    {
     "name": "stdout",
     "output_type": "stream",
     "text": [
      "train epoch 50;  1.0852573559538008\n"
     ]
    },
    {
     "name": "stderr",
     "output_type": "stream",
     "text": [
      "599854it [00:12, 49293.34it/s]\n"
     ]
    },
    {
     "name": "stdout",
     "output_type": "stream",
     "text": [
      "train epoch 51;  1.0720784370253342\n"
     ]
    },
    {
     "name": "stderr",
     "output_type": "stream",
     "text": [
      "599854it [00:14, 42783.39it/s]\n"
     ]
    },
    {
     "name": "stdout",
     "output_type": "stream",
     "text": [
      "train epoch 52;  1.0596115597798303\n"
     ]
    },
    {
     "name": "stderr",
     "output_type": "stream",
     "text": [
      "599854it [00:13, 46106.26it/s]\n"
     ]
    },
    {
     "name": "stdout",
     "output_type": "stream",
     "text": [
      "train epoch 53;  1.0478039024842445\n"
     ]
    },
    {
     "name": "stderr",
     "output_type": "stream",
     "text": [
      "599854it [00:12, 48747.38it/s]\n"
     ]
    },
    {
     "name": "stdout",
     "output_type": "stream",
     "text": [
      "train epoch 54;  1.0366064008298428\n"
     ]
    },
    {
     "name": "stderr",
     "output_type": "stream",
     "text": [
      "599854it [00:12, 49202.76it/s]\n"
     ]
    },
    {
     "name": "stdout",
     "output_type": "stream",
     "text": [
      "train epoch 55;  1.0259725051256021\n"
     ]
    },
    {
     "name": "stderr",
     "output_type": "stream",
     "text": [
      "599854it [00:11, 50642.50it/s]\n"
     ]
    },
    {
     "name": "stdout",
     "output_type": "stream",
     "text": [
      "train epoch 56;  1.0158603141226572\n"
     ]
    },
    {
     "name": "stderr",
     "output_type": "stream",
     "text": [
      "599854it [00:11, 54186.63it/s]\n"
     ]
    },
    {
     "name": "stdout",
     "output_type": "stream",
     "text": [
      "train epoch 57;  1.0062367767665905\n"
     ]
    },
    {
     "name": "stderr",
     "output_type": "stream",
     "text": [
      "599854it [00:11, 53661.53it/s]\n"
     ]
    },
    {
     "name": "stdout",
     "output_type": "stream",
     "text": [
      "train epoch 58;  0.9970664581849809\n"
     ]
    },
    {
     "name": "stderr",
     "output_type": "stream",
     "text": [
      "599854it [00:11, 54014.43it/s]\n"
     ]
    },
    {
     "name": "stdout",
     "output_type": "stream",
     "text": [
      "train epoch 59;  0.9883152004754718\n"
     ]
    },
    {
     "name": "stderr",
     "output_type": "stream",
     "text": [
      "599854it [00:12, 48451.25it/s]\n"
     ]
    },
    {
     "name": "stdout",
     "output_type": "stream",
     "text": [
      "train epoch 60;  0.9799518096620078\n"
     ]
    },
    {
     "name": "stderr",
     "output_type": "stream",
     "text": [
      "599854it [00:11, 54452.60it/s]\n"
     ]
    },
    {
     "name": "stdout",
     "output_type": "stream",
     "text": [
      "train epoch 61;  0.9719479090857892\n"
     ]
    },
    {
     "name": "stderr",
     "output_type": "stream",
     "text": [
      "599854it [00:12, 47869.56it/s]\n"
     ]
    },
    {
     "name": "stdout",
     "output_type": "stream",
     "text": [
      "train epoch 62;  0.96427712646795\n"
     ]
    },
    {
     "name": "stderr",
     "output_type": "stream",
     "text": [
      "599854it [00:12, 47773.16it/s]\n"
     ]
    },
    {
     "name": "stdout",
     "output_type": "stream",
     "text": [
      "train epoch 63;  0.9569149589852902\n"
     ]
    },
    {
     "name": "stderr",
     "output_type": "stream",
     "text": [
      "599854it [00:12, 49744.25it/s]\n"
     ]
    },
    {
     "name": "stdout",
     "output_type": "stream",
     "text": [
      "train epoch 64;  0.9498388558882703\n"
     ]
    },
    {
     "name": "stderr",
     "output_type": "stream",
     "text": [
      "599854it [00:12, 47410.84it/s]\n"
     ]
    },
    {
     "name": "stdout",
     "output_type": "stream",
     "text": [
      "train epoch 65;  0.9430279751919372\n"
     ]
    },
    {
     "name": "stderr",
     "output_type": "stream",
     "text": [
      "599854it [00:12, 48816.50it/s]\n"
     ]
    },
    {
     "name": "stdout",
     "output_type": "stream",
     "text": [
      "train epoch 66;  0.936463721974929\n"
     ]
    },
    {
     "name": "stderr",
     "output_type": "stream",
     "text": [
      "599854it [00:11, 53945.06it/s]\n"
     ]
    },
    {
     "name": "stdout",
     "output_type": "stream",
     "text": [
      "train epoch 67;  0.9301316516103483\n"
     ]
    },
    {
     "name": "stderr",
     "output_type": "stream",
     "text": [
      "599854it [00:11, 50956.40it/s]\n"
     ]
    },
    {
     "name": "stdout",
     "output_type": "stream",
     "text": [
      "train epoch 68;  0.9240182846428526\n"
     ]
    },
    {
     "name": "stderr",
     "output_type": "stream",
     "text": [
      "599854it [00:11, 51158.00it/s]\n"
     ]
    },
    {
     "name": "stdout",
     "output_type": "stream",
     "text": [
      "train epoch 69;  0.918110808708033\n"
     ]
    },
    {
     "name": "stderr",
     "output_type": "stream",
     "text": [
      "599854it [00:12, 48487.38it/s]\n"
     ]
    },
    {
     "name": "stdout",
     "output_type": "stream",
     "text": [
      "train epoch 70;  0.9123969365773852\n"
     ]
    },
    {
     "name": "stderr",
     "output_type": "stream",
     "text": [
      "599854it [00:11, 50848.23it/s]\n"
     ]
    },
    {
     "name": "stdout",
     "output_type": "stream",
     "text": [
      "train epoch 71;  0.9068654670420478\n"
     ]
    },
    {
     "name": "stderr",
     "output_type": "stream",
     "text": [
      "599854it [00:12, 48176.42it/s]\n"
     ]
    },
    {
     "name": "stdout",
     "output_type": "stream",
     "text": [
      "train epoch 72;  0.9015071637120008\n"
     ]
    },
    {
     "name": "stderr",
     "output_type": "stream",
     "text": [
      "599854it [00:11, 50753.05it/s]\n"
     ]
    },
    {
     "name": "stdout",
     "output_type": "stream",
     "text": [
      "train epoch 73;  0.8963140870675114\n"
     ]
    },
    {
     "name": "stderr",
     "output_type": "stream",
     "text": [
      "599854it [00:14, 40112.92it/s]\n"
     ]
    },
    {
     "name": "stdout",
     "output_type": "stream",
     "text": [
      "train epoch 74;  0.8912789010630877\n"
     ]
    },
    {
     "name": "stderr",
     "output_type": "stream",
     "text": [
      "599854it [00:11, 53192.85it/s]\n"
     ]
    },
    {
     "name": "stdout",
     "output_type": "stream",
     "text": [
      "train epoch 75;  0.8863934656864159\n"
     ]
    },
    {
     "name": "stderr",
     "output_type": "stream",
     "text": [
      "599854it [00:10, 55160.14it/s]\n"
     ]
    },
    {
     "name": "stdout",
     "output_type": "stream",
     "text": [
      "train epoch 76;  0.8816510141351486\n"
     ]
    },
    {
     "name": "stderr",
     "output_type": "stream",
     "text": [
      "599854it [00:11, 53956.41it/s]\n"
     ]
    },
    {
     "name": "stdout",
     "output_type": "stream",
     "text": [
      "train epoch 77;  0.8770450599676738\n"
     ]
    },
    {
     "name": "stderr",
     "output_type": "stream",
     "text": [
      "599854it [00:10, 55792.76it/s]\n"
     ]
    },
    {
     "name": "stdout",
     "output_type": "stream",
     "text": [
      "train epoch 78;  0.8725690228201287\n"
     ]
    },
    {
     "name": "stderr",
     "output_type": "stream",
     "text": [
      "599854it [00:11, 53336.90it/s]\n"
     ]
    },
    {
     "name": "stdout",
     "output_type": "stream",
     "text": [
      "train epoch 79;  0.8682178936589889\n"
     ]
    },
    {
     "name": "stderr",
     "output_type": "stream",
     "text": [
      "599854it [00:11, 51071.26it/s]\n"
     ]
    },
    {
     "name": "stdout",
     "output_type": "stream",
     "text": [
      "train epoch 80;  0.86398645268534\n"
     ]
    },
    {
     "name": "stderr",
     "output_type": "stream",
     "text": [
      "599854it [00:11, 51618.51it/s]\n"
     ]
    },
    {
     "name": "stdout",
     "output_type": "stream",
     "text": [
      "train epoch 81;  0.8598693649116917\n"
     ]
    },
    {
     "name": "stderr",
     "output_type": "stream",
     "text": [
      "599854it [00:11, 50869.40it/s]\n"
     ]
    },
    {
     "name": "stdout",
     "output_type": "stream",
     "text": [
      "train epoch 82;  0.855861373495763\n"
     ]
    },
    {
     "name": "stderr",
     "output_type": "stream",
     "text": [
      "599854it [00:11, 54012.00it/s]\n"
     ]
    },
    {
     "name": "stdout",
     "output_type": "stream",
     "text": [
      "train epoch 83;  0.851958370929343\n"
     ]
    },
    {
     "name": "stderr",
     "output_type": "stream",
     "text": [
      "599854it [00:11, 53548.21it/s]\n"
     ]
    },
    {
     "name": "stdout",
     "output_type": "stream",
     "text": [
      "train epoch 84;  0.8481566995534799\n"
     ]
    },
    {
     "name": "stderr",
     "output_type": "stream",
     "text": [
      "599854it [00:12, 49734.30it/s]\n"
     ]
    },
    {
     "name": "stdout",
     "output_type": "stream",
     "text": [
      "train epoch 85;  0.8444524571999185\n"
     ]
    },
    {
     "name": "stderr",
     "output_type": "stream",
     "text": [
      "599854it [00:12, 47288.51it/s]\n"
     ]
    },
    {
     "name": "stdout",
     "output_type": "stream",
     "text": [
      "train epoch 86;  0.8408417661918642\n"
     ]
    },
    {
     "name": "stderr",
     "output_type": "stream",
     "text": [
      "599854it [00:10, 54819.40it/s]\n"
     ]
    },
    {
     "name": "stdout",
     "output_type": "stream",
     "text": [
      "train epoch 87;  0.8373207475492532\n"
     ]
    },
    {
     "name": "stderr",
     "output_type": "stream",
     "text": [
      "599854it [00:11, 52169.39it/s]\n"
     ]
    },
    {
     "name": "stdout",
     "output_type": "stream",
     "text": [
      "train epoch 88;  0.8338857393783067\n"
     ]
    },
    {
     "name": "stderr",
     "output_type": "stream",
     "text": [
      "599854it [00:11, 51125.27it/s]\n"
     ]
    },
    {
     "name": "stdout",
     "output_type": "stream",
     "text": [
      "train epoch 89;  0.830533628518282\n"
     ]
    },
    {
     "name": "stderr",
     "output_type": "stream",
     "text": [
      "599854it [00:14, 40312.55it/s]\n"
     ]
    },
    {
     "name": "stdout",
     "output_type": "stream",
     "text": [
      "train epoch 90;  0.8272614058654575\n"
     ]
    },
    {
     "name": "stderr",
     "output_type": "stream",
     "text": [
      "599854it [00:11, 51083.32it/s]\n"
     ]
    },
    {
     "name": "stdout",
     "output_type": "stream",
     "text": [
      "train epoch 91;  0.8240658331057494\n"
     ]
    },
    {
     "name": "stderr",
     "output_type": "stream",
     "text": [
      "599854it [00:10, 54760.02it/s]\n"
     ]
    },
    {
     "name": "stdout",
     "output_type": "stream",
     "text": [
      "train epoch 92;  0.8209441956782811\n"
     ]
    },
    {
     "name": "stderr",
     "output_type": "stream",
     "text": [
      "599854it [00:10, 54566.57it/s]\n"
     ]
    },
    {
     "name": "stdout",
     "output_type": "stream",
     "text": [
      "train epoch 93;  0.8178935720683684\n"
     ]
    },
    {
     "name": "stderr",
     "output_type": "stream",
     "text": [
      "599854it [00:10, 56886.07it/s]\n"
     ]
    },
    {
     "name": "stdout",
     "output_type": "stream",
     "text": [
      "train epoch 94;  0.8149128001728545\n"
     ]
    },
    {
     "name": "stderr",
     "output_type": "stream",
     "text": [
      "599854it [00:12, 49032.94it/s]\n"
     ]
    },
    {
     "name": "stdout",
     "output_type": "stream",
     "text": [
      "train epoch 95;  0.8119995994818316\n"
     ]
    },
    {
     "name": "stderr",
     "output_type": "stream",
     "text": [
      "599854it [00:10, 56396.81it/s]\n"
     ]
    },
    {
     "name": "stdout",
     "output_type": "stream",
     "text": [
      "train epoch 96;  0.8091514301330907\n"
     ]
    },
    {
     "name": "stderr",
     "output_type": "stream",
     "text": [
      "599854it [00:12, 47709.79it/s]\n"
     ]
    },
    {
     "name": "stdout",
     "output_type": "stream",
     "text": [
      "train epoch 97;  0.8063661974241858\n"
     ]
    },
    {
     "name": "stderr",
     "output_type": "stream",
     "text": [
      "599854it [00:11, 52139.66it/s]\n"
     ]
    },
    {
     "name": "stdout",
     "output_type": "stream",
     "text": [
      "train epoch 98;  0.8036427826327954\n"
     ]
    },
    {
     "name": "stderr",
     "output_type": "stream",
     "text": [
      "599854it [00:11, 53289.79it/s]\n"
     ]
    },
    {
     "name": "stdout",
     "output_type": "stream",
     "text": [
      "train epoch 99;  0.800978902293718\n"
     ]
    }
   ],
   "source": [
    "model.fit(y_train)"
   ]
  },
  {
   "cell_type": "code",
   "execution_count": 92,
   "metadata": {},
   "outputs": [],
   "source": [
    "errors_w_constraints = model.get_evaluation_errors()"
   ]
  },
  {
   "cell_type": "code",
   "execution_count": 94,
   "metadata": {},
   "outputs": [
    {
     "data": {
      "text/plain": [
       "Text(0.5, 1.0, 'Training errors')"
      ]
     },
     "execution_count": 94,
     "metadata": {},
     "output_type": "execute_result"
    },
    {
     "data": {
      "image/png": "[encoded data removed]",
      "text/plain": [
       "<Figure size 1152x720 with 1 Axes>"
      ]
     },
     "metadata": {
      "needs_background": "light"
     },
     "output_type": "display_data"
    }
   ],
   "source": [
    "plt.figure(figsize = [16,10])\n",
    "plt.plot(\n",
    "    errors_w_constraints,\n",
    "    'o'\n",
    ")\n",
    "plt.title(\"Training errors\")"
   ]
  },
  {
   "cell_type": "code",
   "execution_count": 102,
   "metadata": {},
   "outputs": [],
   "source": [
    "y_pred_constraint = model.predict()"
   ]
  },
  {
   "cell_type": "code",
   "execution_count": 108,
   "metadata": {},
   "outputs": [
    {
     "data": {
      "text/plain": [
       "{'max value': 5.0,\n",
       " 'min value': 0.0,\n",
       " 'average value': 3.948437599644241,\n",
       " 'median value': 4.039203785466523,\n",
       " 'quantile 0.05': 2.170864264620219,\n",
       " 'quantile 0.7': 4.861964334615016}"
      ]
     },
     "execution_count": 108,
     "metadata": {},
     "output_type": "execute_result"
    }
   ],
   "source": [
    "{\n",
    "    'max value': y_pred_constraint.max(),\n",
    "    'min value': y_pred_constraint.min(),\n",
    "    'average value': y_pred_constraint.mean(),\n",
    "    'median value': np.median(y_pred_constraint), \n",
    "    'quantile 0.05' : np.quantile(y_pred_constraint, 0.05),\n",
    "    'quantile 0.65': np.quantile(y_pred_constraint, 0.65),\n",
    "}"
   ]
  },
  {
   "cell_type": "code",
   "execution_count": 113,
   "metadata": {},
   "outputs": [
    {
     "data": {
      "text/plain": [
       "0.3321650142177197"
      ]
     },
     "execution_count": 113,
     "metadata": {},
     "output_type": "execute_result"
    }
   ],
   "source": [
    "(y_pred_constraint == 5).sum() / (y_pred.shape[0] * y_pred.shape[1])"
   ]
  },
  {
   "cell_type": "code",
   "execution_count": 129,
   "metadata": {},
   "outputs": [],
   "source": [
    "model.Theta.tofile(\n",
    "    \"data/collaborative-filtering/model/Theta_w_constraints.csv\",\n",
    "    sep= ','    \n",
    ")\n",
    "\n",
    "model.X.tofile(\n",
    "    \"data/collaborative-filtering/model/X_w_constraints.csv\",\n",
    "    sep= ','    \n",
    ")"
   ]
  },
  {
   "cell_type": "code",
   "execution_count": 115,
   "metadata": {},
   "outputs": [
    {
     "data": {
      "text/plain": [
       "Text(0.5, 6.79999999999999, 'prediction')"
      ]
     },
     "execution_count": 115,
     "metadata": {},
     "output_type": "execute_result"
    },
    {
     "data": {
      "image/png": "[encoded data removed]",
      "text/plain": [
       "<Figure size 360x360 with 1 Axes>"
      ]
     },
     "metadata": {
      "needs_background": "light"
     },
     "output_type": "display_data"
    }
   ],
   "source": [
    "\n",
    "sns.displot(y_pred[y_pred < 5])\n",
    "plt.title(\"Prediction distribution\")\n",
    "plt.xlabel(\"prediction\")"
   ]
  },
  {
   "cell_type": "code",
   "execution_count": 119,
   "metadata": {},
   "outputs": [
    {
     "data": {
      "text/plain": [
       "array([ 1.,  1., -1.,  1.,  1.])"
      ]
     },
     "execution_count": 119,
     "metadata": {},
     "output_type": "execute_result"
    }
   ],
   "source": [
    "np.sign(Theta[:, 1])"
   ]
  },
  {
   "attachments": {},
   "cell_type": "markdown",
   "metadata": {},
   "source": [
    "### Regularization \n",
    "From now, we have trained models using $l_2$ regularization. \n",
    "\n",
    "Now we will try a $l_1$ regularization model:\n",
    "\n",
    "$$\n",
    "    J(\\Theta, X) = \\sum (y - \\theta ^{(i)T}  x^{(j)}) ^2 + \\lambda (|| \\theta^{(i)} ||+ || x^{(j)} || )\n",
    "$$"
   ]
  },
  {
   "cell_type": "code",
   "execution_count": 123,
   "metadata": {},
   "outputs": [],
   "source": [
    "l1_model = SGDOptimizer(\n",
    "    regularization = 'l1'\n",
    ")"
   ]
  },
  {
   "cell_type": "code",
   "execution_count": 124,
   "metadata": {},
   "outputs": [
    {
     "name": "stderr",
     "output_type": "stream",
     "text": [
      "599854it [00:08, 66735.90it/s]\n"
     ]
    },
    {
     "name": "stdout",
     "output_type": "stream",
     "text": [
      "train epoch 0;  9.533317457505191\n"
     ]
    },
    {
     "name": "stderr",
     "output_type": "stream",
     "text": [
      "599854it [00:08, 67403.71it/s]\n"
     ]
    },
    {
     "name": "stdout",
     "output_type": "stream",
     "text": [
      "train epoch 1;  5.874849033371517\n"
     ]
    },
    {
     "name": "stderr",
     "output_type": "stream",
     "text": [
      "599854it [00:09, 62606.41it/s]\n"
     ]
    },
    {
     "name": "stdout",
     "output_type": "stream",
     "text": [
      "train epoch 2;  4.478215181958497\n"
     ]
    },
    {
     "name": "stderr",
     "output_type": "stream",
     "text": [
      "599854it [00:09, 60549.48it/s]\n"
     ]
    },
    {
     "name": "stdout",
     "output_type": "stream",
     "text": [
      "train epoch 3;  3.6796523222770485\n"
     ]
    },
    {
     "name": "stderr",
     "output_type": "stream",
     "text": [
      "599854it [00:09, 61318.64it/s]\n"
     ]
    },
    {
     "name": "stdout",
     "output_type": "stream",
     "text": [
      "train epoch 4;  3.1467054424778684\n"
     ]
    },
    {
     "name": "stderr",
     "output_type": "stream",
     "text": [
      "599854it [00:09, 60929.34it/s]\n"
     ]
    },
    {
     "name": "stdout",
     "output_type": "stream",
     "text": [
      "train epoch 5;  2.763121564155401\n"
     ]
    },
    {
     "name": "stderr",
     "output_type": "stream",
     "text": [
      "599854it [00:09, 61573.54it/s]\n"
     ]
    },
    {
     "name": "stdout",
     "output_type": "stream",
     "text": [
      "train epoch 6;  2.4744724072837556\n"
     ]
    },
    {
     "name": "stderr",
     "output_type": "stream",
     "text": [
      "599854it [00:09, 60041.71it/s]\n"
     ]
    },
    {
     "name": "stdout",
     "output_type": "stream",
     "text": [
      "train epoch 7;  2.2500872334802393\n"
     ]
    },
    {
     "name": "stderr",
     "output_type": "stream",
     "text": [
      "599854it [00:09, 60993.82it/s]\n"
     ]
    },
    {
     "name": "stdout",
     "output_type": "stream",
     "text": [
      "train epoch 8;  2.071350591429898\n"
     ]
    },
    {
     "name": "stderr",
     "output_type": "stream",
     "text": [
      "599854it [00:09, 61361.93it/s]\n"
     ]
    },
    {
     "name": "stdout",
     "output_type": "stream",
     "text": [
      "train epoch 9;  1.9263250957190445\n"
     ]
    },
    {
     "name": "stderr",
     "output_type": "stream",
     "text": [
      "599854it [00:09, 61501.33it/s]\n"
     ]
    },
    {
     "name": "stdout",
     "output_type": "stream",
     "text": [
      "train epoch 10;  1.8068393318515525\n"
     ]
    },
    {
     "name": "stderr",
     "output_type": "stream",
     "text": [
      "599854it [00:09, 61001.31it/s]\n"
     ]
    },
    {
     "name": "stdout",
     "output_type": "stream",
     "text": [
      "train epoch 11;  1.707164619809803\n"
     ]
    },
    {
     "name": "stderr",
     "output_type": "stream",
     "text": [
      "599854it [00:09, 61467.71it/s]\n"
     ]
    },
    {
     "name": "stdout",
     "output_type": "stream",
     "text": [
      "train epoch 12;  1.6231367518988737\n"
     ]
    },
    {
     "name": "stderr",
     "output_type": "stream",
     "text": [
      "599854it [00:09, 61367.61it/s]\n"
     ]
    },
    {
     "name": "stdout",
     "output_type": "stream",
     "text": [
      "train epoch 13;  1.5515532977328792\n"
     ]
    },
    {
     "name": "stderr",
     "output_type": "stream",
     "text": [
      "599854it [00:09, 61554.57it/s]\n"
     ]
    },
    {
     "name": "stdout",
     "output_type": "stream",
     "text": [
      "train epoch 14;  1.4900610010669935\n"
     ]
    },
    {
     "name": "stderr",
     "output_type": "stream",
     "text": [
      "599854it [00:09, 60120.43it/s]\n"
     ]
    },
    {
     "name": "stdout",
     "output_type": "stream",
     "text": [
      "train epoch 15;  1.4367438144816347\n"
     ]
    },
    {
     "name": "stderr",
     "output_type": "stream",
     "text": [
      "599854it [00:09, 60049.88it/s]\n"
     ]
    },
    {
     "name": "stdout",
     "output_type": "stream",
     "text": [
      "train epoch 16;  1.3901438461689164\n"
     ]
    },
    {
     "name": "stderr",
     "output_type": "stream",
     "text": [
      "599854it [00:09, 61430.88it/s]\n"
     ]
    },
    {
     "name": "stdout",
     "output_type": "stream",
     "text": [
      "train epoch 17;  1.3490635013394132\n"
     ]
    },
    {
     "name": "stderr",
     "output_type": "stream",
     "text": [
      "599854it [00:09, 61425.60it/s]\n"
     ]
    },
    {
     "name": "stdout",
     "output_type": "stream",
     "text": [
      "train epoch 18;  1.3125546743387975\n"
     ]
    },
    {
     "name": "stderr",
     "output_type": "stream",
     "text": [
      "599854it [00:09, 61285.89it/s]\n"
     ]
    },
    {
     "name": "stdout",
     "output_type": "stream",
     "text": [
      "train epoch 19;  1.2798692477133877\n"
     ]
    },
    {
     "name": "stderr",
     "output_type": "stream",
     "text": [
      "599854it [00:09, 61330.40it/s]\n"
     ]
    },
    {
     "name": "stdout",
     "output_type": "stream",
     "text": [
      "train epoch 20;  1.2504053235162118\n"
     ]
    },
    {
     "name": "stderr",
     "output_type": "stream",
     "text": [
      "599854it [00:09, 60888.71it/s]\n"
     ]
    },
    {
     "name": "stdout",
     "output_type": "stream",
     "text": [
      "train epoch 21;  1.2236549697775756\n"
     ]
    },
    {
     "name": "stderr",
     "output_type": "stream",
     "text": [
      "599854it [00:09, 60855.06it/s]\n"
     ]
    },
    {
     "name": "stdout",
     "output_type": "stream",
     "text": [
      "train epoch 22;  1.1992351914918835\n"
     ]
    },
    {
     "name": "stderr",
     "output_type": "stream",
     "text": [
      "599854it [00:09, 61279.96it/s]\n"
     ]
    },
    {
     "name": "stdout",
     "output_type": "stream",
     "text": [
      "train epoch 23;  1.1768068381517747\n"
     ]
    },
    {
     "name": "stderr",
     "output_type": "stream",
     "text": [
      "599854it [00:09, 61245.40it/s]\n"
     ]
    },
    {
     "name": "stdout",
     "output_type": "stream",
     "text": [
      "train epoch 24;  1.1561058253309573\n"
     ]
    },
    {
     "name": "stderr",
     "output_type": "stream",
     "text": [
      "599854it [00:09, 60790.08it/s]\n"
     ]
    },
    {
     "name": "stdout",
     "output_type": "stream",
     "text": [
      "train epoch 25;  1.1369054917957944\n"
     ]
    },
    {
     "name": "stderr",
     "output_type": "stream",
     "text": [
      "599854it [00:09, 60746.81it/s]\n"
     ]
    },
    {
     "name": "stdout",
     "output_type": "stream",
     "text": [
      "train epoch 26;  1.119019245047085\n"
     ]
    },
    {
     "name": "stderr",
     "output_type": "stream",
     "text": [
      "599854it [00:09, 61384.65it/s]\n"
     ]
    },
    {
     "name": "stdout",
     "output_type": "stream",
     "text": [
      "train epoch 27;  1.1022966856838943\n"
     ]
    },
    {
     "name": "stderr",
     "output_type": "stream",
     "text": [
      "599854it [00:09, 61330.34it/s]\n"
     ]
    },
    {
     "name": "stdout",
     "output_type": "stream",
     "text": [
      "train epoch 28;  1.086597860272565\n"
     ]
    },
    {
     "name": "stderr",
     "output_type": "stream",
     "text": [
      "599854it [00:10, 58695.17it/s]\n"
     ]
    },
    {
     "name": "stdout",
     "output_type": "stream",
     "text": [
      "train epoch 29;  1.071813294717894\n"
     ]
    },
    {
     "name": "stderr",
     "output_type": "stream",
     "text": [
      "599854it [00:09, 61086.86it/s]\n"
     ]
    },
    {
     "name": "stdout",
     "output_type": "stream",
     "text": [
      "train epoch 30;  1.0578427263155215\n"
     ]
    },
    {
     "name": "stderr",
     "output_type": "stream",
     "text": [
      "599854it [00:10, 58836.30it/s]\n"
     ]
    },
    {
     "name": "stdout",
     "output_type": "stream",
     "text": [
      "train epoch 31;  1.0446043267412457\n"
     ]
    },
    {
     "name": "stderr",
     "output_type": "stream",
     "text": [
      "599854it [00:09, 60720.23it/s]\n"
     ]
    },
    {
     "name": "stdout",
     "output_type": "stream",
     "text": [
      "train epoch 32;  1.0320349836187293\n"
     ]
    },
    {
     "name": "stderr",
     "output_type": "stream",
     "text": [
      "599854it [00:09, 61232.98it/s]\n"
     ]
    },
    {
     "name": "stdout",
     "output_type": "stream",
     "text": [
      "train epoch 33;  1.02006342065323\n"
     ]
    },
    {
     "name": "stderr",
     "output_type": "stream",
     "text": [
      "599854it [00:09, 61191.45it/s]\n"
     ]
    },
    {
     "name": "stdout",
     "output_type": "stream",
     "text": [
      "train epoch 34;  1.0086551669006205\n"
     ]
    },
    {
     "name": "stderr",
     "output_type": "stream",
     "text": [
      "599854it [00:09, 60743.24it/s]\n"
     ]
    },
    {
     "name": "stdout",
     "output_type": "stream",
     "text": [
      "train epoch 35;  0.9977662147169276\n"
     ]
    },
    {
     "name": "stderr",
     "output_type": "stream",
     "text": [
      "599854it [00:09, 60198.89it/s]\n"
     ]
    },
    {
     "name": "stdout",
     "output_type": "stream",
     "text": [
      "train epoch 36;  0.9873357709720466\n"
     ]
    },
    {
     "name": "stderr",
     "output_type": "stream",
     "text": [
      "599854it [00:10, 56382.04it/s]\n"
     ]
    },
    {
     "name": "stdout",
     "output_type": "stream",
     "text": [
      "train epoch 37;  0.9773472939096679\n"
     ]
    },
    {
     "name": "stderr",
     "output_type": "stream",
     "text": [
      "599854it [00:10, 58474.26it/s]\n"
     ]
    },
    {
     "name": "stdout",
     "output_type": "stream",
     "text": [
      "train epoch 38;  0.9677620679339466\n"
     ]
    },
    {
     "name": "stderr",
     "output_type": "stream",
     "text": [
      "599854it [00:09, 61133.86it/s]\n"
     ]
    },
    {
     "name": "stdout",
     "output_type": "stream",
     "text": [
      "train epoch 39;  0.9585513309806662\n"
     ]
    },
    {
     "name": "stderr",
     "output_type": "stream",
     "text": [
      "599854it [00:09, 60869.07it/s]\n"
     ]
    },
    {
     "name": "stdout",
     "output_type": "stream",
     "text": [
      "train epoch 40;  0.9497031517421772\n"
     ]
    },
    {
     "name": "stderr",
     "output_type": "stream",
     "text": [
      "599854it [00:09, 60138.52it/s]\n"
     ]
    },
    {
     "name": "stdout",
     "output_type": "stream",
     "text": [
      "train epoch 41;  0.9411925003531286\n"
     ]
    },
    {
     "name": "stderr",
     "output_type": "stream",
     "text": [
      "599854it [00:09, 61527.48it/s]\n"
     ]
    },
    {
     "name": "stdout",
     "output_type": "stream",
     "text": [
      "train epoch 42;  0.9329939093042278\n"
     ]
    },
    {
     "name": "stderr",
     "output_type": "stream",
     "text": [
      "599854it [00:09, 61976.38it/s]\n"
     ]
    },
    {
     "name": "stdout",
     "output_type": "stream",
     "text": [
      "train epoch 43;  0.9250998586126189\n"
     ]
    },
    {
     "name": "stderr",
     "output_type": "stream",
     "text": [
      "599854it [00:11, 52441.62it/s]\n"
     ]
    },
    {
     "name": "stdout",
     "output_type": "stream",
     "text": [
      "train epoch 44;  0.9174901181964902\n"
     ]
    },
    {
     "name": "stderr",
     "output_type": "stream",
     "text": [
      "599854it [00:10, 55695.84it/s]\n"
     ]
    },
    {
     "name": "stdout",
     "output_type": "stream",
     "text": [
      "train epoch 45;  0.9101426652019421\n"
     ]
    },
    {
     "name": "stderr",
     "output_type": "stream",
     "text": [
      "599854it [00:10, 57999.59it/s]\n"
     ]
    },
    {
     "name": "stdout",
     "output_type": "stream",
     "text": [
      "train epoch 46;  0.9030574957087615\n"
     ]
    },
    {
     "name": "stderr",
     "output_type": "stream",
     "text": [
      "599854it [00:10, 57049.38it/s]\n"
     ]
    },
    {
     "name": "stdout",
     "output_type": "stream",
     "text": [
      "train epoch 47;  0.8962187923310041\n"
     ]
    },
    {
     "name": "stderr",
     "output_type": "stream",
     "text": [
      "599854it [00:10, 58982.06it/s]\n"
     ]
    },
    {
     "name": "stdout",
     "output_type": "stream",
     "text": [
      "train epoch 48;  0.8896151523315281\n"
     ]
    },
    {
     "name": "stderr",
     "output_type": "stream",
     "text": [
      "599854it [00:10, 56874.12it/s]\n"
     ]
    },
    {
     "name": "stdout",
     "output_type": "stream",
     "text": [
      "train epoch 49;  0.883233315672308\n"
     ]
    },
    {
     "name": "stderr",
     "output_type": "stream",
     "text": [
      "599854it [00:11, 52308.55it/s]\n"
     ]
    },
    {
     "name": "stdout",
     "output_type": "stream",
     "text": [
      "train epoch 50;  0.8770635022229155\n"
     ]
    },
    {
     "name": "stderr",
     "output_type": "stream",
     "text": [
      "599854it [00:15, 38764.25it/s]\n"
     ]
    },
    {
     "name": "stdout",
     "output_type": "stream",
     "text": [
      "train epoch 51;  0.8710990072422095\n"
     ]
    },
    {
     "name": "stderr",
     "output_type": "stream",
     "text": [
      "599854it [00:14, 42327.64it/s]\n"
     ]
    },
    {
     "name": "stdout",
     "output_type": "stream",
     "text": [
      "train epoch 52;  0.86531991322683\n"
     ]
    },
    {
     "name": "stderr",
     "output_type": "stream",
     "text": [
      "599854it [00:11, 53163.56it/s]\n"
     ]
    },
    {
     "name": "stdout",
     "output_type": "stream",
     "text": [
      "train epoch 53;  0.8596966066427617\n"
     ]
    },
    {
     "name": "stderr",
     "output_type": "stream",
     "text": [
      "599854it [00:10, 56207.34it/s]\n"
     ]
    },
    {
     "name": "stdout",
     "output_type": "stream",
     "text": [
      "train epoch 54;  0.8542544210794663\n"
     ]
    },
    {
     "name": "stderr",
     "output_type": "stream",
     "text": [
      "599854it [00:10, 57725.45it/s]\n"
     ]
    },
    {
     "name": "stdout",
     "output_type": "stream",
     "text": [
      "train epoch 55;  0.8489831254886182\n"
     ]
    },
    {
     "name": "stderr",
     "output_type": "stream",
     "text": [
      "599854it [00:10, 58754.58it/s]\n"
     ]
    },
    {
     "name": "stdout",
     "output_type": "stream",
     "text": [
      "train epoch 56;  0.8438656809064773\n"
     ]
    },
    {
     "name": "stderr",
     "output_type": "stream",
     "text": [
      "599854it [00:11, 52456.58it/s]\n"
     ]
    },
    {
     "name": "stdout",
     "output_type": "stream",
     "text": [
      "train epoch 57;  0.8388333913092588\n"
     ]
    },
    {
     "name": "stderr",
     "output_type": "stream",
     "text": [
      "599854it [00:10, 57025.86it/s]\n"
     ]
    },
    {
     "name": "stdout",
     "output_type": "stream",
     "text": [
      "train epoch 58;  0.8339394453383733\n"
     ]
    },
    {
     "name": "stderr",
     "output_type": "stream",
     "text": [
      "599854it [00:10, 59454.56it/s]\n"
     ]
    },
    {
     "name": "stdout",
     "output_type": "stream",
     "text": [
      "train epoch 59;  0.829173092814712\n"
     ]
    },
    {
     "name": "stderr",
     "output_type": "stream",
     "text": [
      "599854it [00:10, 59857.31it/s]\n"
     ]
    },
    {
     "name": "stdout",
     "output_type": "stream",
     "text": [
      "train epoch 60;  0.82456003246263\n"
     ]
    },
    {
     "name": "stderr",
     "output_type": "stream",
     "text": [
      "599854it [00:10, 58972.51it/s]\n"
     ]
    },
    {
     "name": "stdout",
     "output_type": "stream",
     "text": [
      "train epoch 61;  0.8201153260699209\n"
     ]
    },
    {
     "name": "stderr",
     "output_type": "stream",
     "text": [
      "599854it [00:10, 59865.48it/s]\n"
     ]
    },
    {
     "name": "stdout",
     "output_type": "stream",
     "text": [
      "train epoch 62;  0.8158405952228613\n"
     ]
    },
    {
     "name": "stderr",
     "output_type": "stream",
     "text": [
      "599854it [00:10, 59698.97it/s]\n"
     ]
    },
    {
     "name": "stdout",
     "output_type": "stream",
     "text": [
      "train epoch 63;  0.8117343390450499\n"
     ]
    },
    {
     "name": "stderr",
     "output_type": "stream",
     "text": [
      "599854it [00:10, 58973.93it/s]\n"
     ]
    },
    {
     "name": "stdout",
     "output_type": "stream",
     "text": [
      "train epoch 64;  0.8077909828026933\n"
     ]
    },
    {
     "name": "stderr",
     "output_type": "stream",
     "text": [
      "599854it [00:10, 59287.37it/s]\n"
     ]
    },
    {
     "name": "stdout",
     "output_type": "stream",
     "text": [
      "train epoch 65;  0.8039960278716752\n"
     ]
    },
    {
     "name": "stderr",
     "output_type": "stream",
     "text": [
      "599854it [00:10, 59533.78it/s]\n"
     ]
    },
    {
     "name": "stdout",
     "output_type": "stream",
     "text": [
      "train epoch 66;  0.800339831249134\n"
     ]
    },
    {
     "name": "stderr",
     "output_type": "stream",
     "text": [
      "599854it [00:10, 59018.95it/s]\n"
     ]
    },
    {
     "name": "stdout",
     "output_type": "stream",
     "text": [
      "train epoch 67;  0.796823088711628\n"
     ]
    },
    {
     "name": "stderr",
     "output_type": "stream",
     "text": [
      "599854it [00:10, 59683.21it/s]\n"
     ]
    },
    {
     "name": "stdout",
     "output_type": "stream",
     "text": [
      "train epoch 68;  0.7934271260073535\n"
     ]
    },
    {
     "name": "stderr",
     "output_type": "stream",
     "text": [
      "599854it [00:10, 59803.43it/s]\n"
     ]
    },
    {
     "name": "stdout",
     "output_type": "stream",
     "text": [
      "train epoch 69;  0.7901565594599361\n"
     ]
    },
    {
     "name": "stderr",
     "output_type": "stream",
     "text": [
      "599854it [00:10, 59528.32it/s]\n"
     ]
    },
    {
     "name": "stdout",
     "output_type": "stream",
     "text": [
      "train epoch 70;  0.786989786200213\n"
     ]
    },
    {
     "name": "stderr",
     "output_type": "stream",
     "text": [
      "599854it [00:10, 59194.92it/s]\n"
     ]
    },
    {
     "name": "stdout",
     "output_type": "stream",
     "text": [
      "train epoch 71;  0.7839323756467679\n"
     ]
    },
    {
     "name": "stderr",
     "output_type": "stream",
     "text": [
      "599854it [00:10, 59846.23it/s]\n"
     ]
    },
    {
     "name": "stdout",
     "output_type": "stream",
     "text": [
      "train epoch 72;  0.7809765681558917\n"
     ]
    },
    {
     "name": "stderr",
     "output_type": "stream",
     "text": [
      "599854it [00:10, 59867.94it/s]\n"
     ]
    },
    {
     "name": "stdout",
     "output_type": "stream",
     "text": [
      "train epoch 73;  0.778111141830387\n"
     ]
    },
    {
     "name": "stderr",
     "output_type": "stream",
     "text": [
      "599854it [00:10, 59624.68it/s]\n"
     ]
    },
    {
     "name": "stdout",
     "output_type": "stream",
     "text": [
      "train epoch 74;  0.7753410356178304\n"
     ]
    },
    {
     "name": "stderr",
     "output_type": "stream",
     "text": [
      "599854it [00:10, 58988.69it/s]\n"
     ]
    },
    {
     "name": "stdout",
     "output_type": "stream",
     "text": [
      "train epoch 75;  0.772648544054464\n"
     ]
    },
    {
     "name": "stderr",
     "output_type": "stream",
     "text": [
      "599854it [00:10, 59108.87it/s]\n"
     ]
    },
    {
     "name": "stdout",
     "output_type": "stream",
     "text": [
      "train epoch 76;  0.7700408520131489\n"
     ]
    },
    {
     "name": "stderr",
     "output_type": "stream",
     "text": [
      "599854it [00:10, 58504.07it/s]\n"
     ]
    },
    {
     "name": "stdout",
     "output_type": "stream",
     "text": [
      "train epoch 77;  0.7675073213990223\n"
     ]
    },
    {
     "name": "stderr",
     "output_type": "stream",
     "text": [
      "599854it [00:11, 50873.65it/s]\n"
     ]
    },
    {
     "name": "stdout",
     "output_type": "stream",
     "text": [
      "train epoch 78;  0.7650546233817653\n"
     ]
    },
    {
     "name": "stderr",
     "output_type": "stream",
     "text": [
      "599854it [00:15, 39518.08it/s]\n"
     ]
    },
    {
     "name": "stdout",
     "output_type": "stream",
     "text": [
      "train epoch 79;  0.7626704269005415\n"
     ]
    },
    {
     "name": "stderr",
     "output_type": "stream",
     "text": [
      "599854it [00:14, 40201.76it/s]\n"
     ]
    },
    {
     "name": "stdout",
     "output_type": "stream",
     "text": [
      "train epoch 80;  0.760357992160642\n"
     ]
    },
    {
     "name": "stderr",
     "output_type": "stream",
     "text": [
      "599854it [00:14, 40216.97it/s]\n"
     ]
    },
    {
     "name": "stdout",
     "output_type": "stream",
     "text": [
      "train epoch 81;  0.7581081668259337\n"
     ]
    },
    {
     "name": "stderr",
     "output_type": "stream",
     "text": [
      "599854it [00:14, 40232.07it/s]\n"
     ]
    },
    {
     "name": "stdout",
     "output_type": "stream",
     "text": [
      "train epoch 82;  0.7559060439063585\n"
     ]
    },
    {
     "name": "stderr",
     "output_type": "stream",
     "text": [
      "599854it [00:10, 59039.88it/s]\n"
     ]
    },
    {
     "name": "stdout",
     "output_type": "stream",
     "text": [
      "train epoch 83;  0.7537419675018922\n"
     ]
    },
    {
     "name": "stderr",
     "output_type": "stream",
     "text": [
      "599854it [00:10, 59429.01it/s]\n"
     ]
    },
    {
     "name": "stdout",
     "output_type": "stream",
     "text": [
      "train epoch 84;  0.7516256446659202\n"
     ]
    },
    {
     "name": "stderr",
     "output_type": "stream",
     "text": [
      "599854it [00:10, 58834.73it/s]\n"
     ]
    },
    {
     "name": "stdout",
     "output_type": "stream",
     "text": [
      "train epoch 85;  0.7495657203423871\n"
     ]
    },
    {
     "name": "stderr",
     "output_type": "stream",
     "text": [
      "599854it [00:10, 59264.96it/s]\n"
     ]
    },
    {
     "name": "stdout",
     "output_type": "stream",
     "text": [
      "train epoch 86;  0.7475308257539082\n"
     ]
    },
    {
     "name": "stderr",
     "output_type": "stream",
     "text": [
      "599854it [00:10, 59121.00it/s]\n"
     ]
    },
    {
     "name": "stdout",
     "output_type": "stream",
     "text": [
      "train epoch 87;  0.7455455346241893\n"
     ]
    },
    {
     "name": "stderr",
     "output_type": "stream",
     "text": [
      "599854it [00:10, 58569.49it/s]\n"
     ]
    },
    {
     "name": "stdout",
     "output_type": "stream",
     "text": [
      "train epoch 88;  0.7435929679506714\n"
     ]
    },
    {
     "name": "stderr",
     "output_type": "stream",
     "text": [
      "599854it [00:10, 59404.24it/s]\n"
     ]
    },
    {
     "name": "stdout",
     "output_type": "stream",
     "text": [
      "train epoch 89;  0.7416622425893057\n"
     ]
    },
    {
     "name": "stderr",
     "output_type": "stream",
     "text": [
      "599854it [00:10, 59597.91it/s]\n"
     ]
    },
    {
     "name": "stdout",
     "output_type": "stream",
     "text": [
      "train epoch 90;  0.7397611931714351\n"
     ]
    },
    {
     "name": "stderr",
     "output_type": "stream",
     "text": [
      "599854it [00:10, 57662.64it/s]\n"
     ]
    },
    {
     "name": "stdout",
     "output_type": "stream",
     "text": [
      "train epoch 91;  0.7378852866404383\n"
     ]
    },
    {
     "name": "stderr",
     "output_type": "stream",
     "text": [
      "599854it [00:10, 59537.94it/s]\n"
     ]
    },
    {
     "name": "stdout",
     "output_type": "stream",
     "text": [
      "train epoch 92;  0.7360405970208528\n"
     ]
    },
    {
     "name": "stderr",
     "output_type": "stream",
     "text": [
      "599854it [00:10, 58748.02it/s]\n"
     ]
    },
    {
     "name": "stdout",
     "output_type": "stream",
     "text": [
      "train epoch 93;  0.7342254440828843\n"
     ]
    },
    {
     "name": "stderr",
     "output_type": "stream",
     "text": [
      "599854it [00:10, 58649.32it/s]\n"
     ]
    },
    {
     "name": "stdout",
     "output_type": "stream",
     "text": [
      "train epoch 94;  0.7324422292402882\n"
     ]
    },
    {
     "name": "stderr",
     "output_type": "stream",
     "text": [
      "599854it [00:10, 59598.97it/s]\n"
     ]
    },
    {
     "name": "stdout",
     "output_type": "stream",
     "text": [
      "train epoch 95;  0.7306809141351593\n"
     ]
    },
    {
     "name": "stderr",
     "output_type": "stream",
     "text": [
      "599854it [00:10, 59557.58it/s]\n"
     ]
    },
    {
     "name": "stdout",
     "output_type": "stream",
     "text": [
      "train epoch 96;  0.7289456203843501\n"
     ]
    },
    {
     "name": "stderr",
     "output_type": "stream",
     "text": [
      "599854it [00:10, 58606.00it/s]\n"
     ]
    },
    {
     "name": "stdout",
     "output_type": "stream",
     "text": [
      "train epoch 97;  0.7272246733227063\n"
     ]
    },
    {
     "name": "stderr",
     "output_type": "stream",
     "text": [
      "599854it [00:10, 57368.77it/s]\n"
     ]
    },
    {
     "name": "stdout",
     "output_type": "stream",
     "text": [
      "train epoch 98;  0.725537410161103\n"
     ]
    },
    {
     "name": "stderr",
     "output_type": "stream",
     "text": [
      "599854it [00:10, 56500.60it/s]\n"
     ]
    },
    {
     "name": "stdout",
     "output_type": "stream",
     "text": [
      "train epoch 99;  0.7238939406241692\n"
     ]
    }
   ],
   "source": [
    "l1_model.fit(y_train)"
   ]
  },
  {
   "cell_type": "code",
   "execution_count": 125,
   "metadata": {},
   "outputs": [],
   "source": [
    "l1_model_err = model.get_evaluation_errors()"
   ]
  },
  {
   "cell_type": "code",
   "execution_count": 126,
   "metadata": {},
   "outputs": [
    {
     "data": {
      "text/plain": [
       "[<matplotlib.lines.Line2D at 0x2605d98c130>]"
      ]
     },
     "execution_count": 126,
     "metadata": {},
     "output_type": "execute_result"
    },
    {
     "data": {
      "image/png": "[encoded data removed]",
      "text/plain": [
       "<Figure size 432x288 with 1 Axes>"
      ]
     },
     "metadata": {
      "needs_background": "light"
     },
     "output_type": "display_data"
    }
   ],
   "source": [
    "plt.plot(l1_model_err)"
   ]
  },
  {
   "cell_type": "code",
   "execution_count": 128,
   "metadata": {},
   "outputs": [],
   "source": [
    "l1_model.Theta.tofile(\n",
    "    \"data/collaborative-filtering/model/Theta_l1.csv\",\n",
    "    sep= ','    \n",
    ")\n",
    "\n",
    "l1_model.X.tofile(\n",
    "    \"data/collaborative-filtering/model/X_l1.csv\",\n",
    "    sep= ','    \n",
    ")"
   ]
  },
  {
   "cell_type": "code",
   "execution_count": null,
   "metadata": {},
   "outputs": [],
   "source": []
  }
 ],
 "metadata": {
  "kernelspec": {
   "display_name": "base",
   "language": "python",
   "name": "python3"
  },
  "language_info": {
   "codemirror_mode": {
    "name": "ipython",
    "version": 3
   },
   "file_extension": ".py",
   "mimetype": "text/x-python",
   "name": "python",
   "nbconvert_exporter": "python",
   "pygments_lexer": "ipython3",
   "version": "3.9.12"
  },
  "orig_nbformat": 4,
  "vscode": {
   "interpreter": {
    "hash": "f08154012ddadd8e950e6e9e035c7a7b32c136e7647e9b7c77e02eb723a8bedb"
   }
  }
 },
 "nbformat": 4,
 "nbformat_minor": 2
}
