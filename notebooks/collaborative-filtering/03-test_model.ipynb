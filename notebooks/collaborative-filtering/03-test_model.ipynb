{
 "cells": [
  {
   "cell_type": "code",
   "execution_count": 1,
   "metadata": {},
   "outputs": [],
   "source": [
    "%load_ext autoreload\n",
    "%autoreload 2"
   ]
  },
  {
   "cell_type": "code",
   "execution_count": 2,
   "metadata": {},
   "outputs": [],
   "source": [
    "import os\n",
    "while 'notebooks' in os.getcwd():\n",
    "    os.chdir(\"..\")\n",
    "\n",
    "import numpy as np \n",
    "import pandas as pd\n",
    "import seaborn as sns \n",
    "import matplotlib.pyplot as plt\n",
    "from statistics import mean\n",
    "from tqdm import tqdm\n",
    "from sklearn.metrics import mean_squared_error\n",
    "\n",
    "from src.mapping import get_movies_id_map\n",
    "from src.collaborative_filtering.preprocessing.make_dataset \\\n",
    "    import read_train_test_matrix, read_ratings_df, train_test_split\n",
    "\n",
    "from src.collaborative_filtering.models.train_model import \\\n",
    "    SGDOptimizer"
   ]
  },
  {
   "attachments": {},
   "cell_type": "markdown",
   "metadata": {},
   "source": [
    "## Testing model\n",
    "As the selected best model in validation was the model with constraints, we will evaluate its error Out Of Sample "
   ]
  },
  {
   "cell_type": "code",
   "execution_count": 23,
   "metadata": {},
   "outputs": [],
   "source": [
    "N_FEATURES = 5"
   ]
  },
  {
   "cell_type": "code",
   "execution_count": 4,
   "metadata": {},
   "outputs": [],
   "source": [
    "test_df = pd.read_pickle(\"data/collaborative-filtering/test_matrix.pkl\")"
   ]
  },
  {
   "cell_type": "code",
   "execution_count": 6,
   "metadata": {},
   "outputs": [],
   "source": [
    "y_test = np.array(test_df)"
   ]
  },
  {
   "cell_type": "code",
   "execution_count": 21,
   "metadata": {},
   "outputs": [],
   "source": [
    "X = np.genfromtxt(\n",
    "    \"data/collaborative-filtering/model/X_w_constraints.csv\",\n",
    "    delimiter=','\n",
    ")\n",
    "Theta =  np.genfromtxt(\n",
    "    \"data/collaborative-filtering/model/Theta_w_constraints.csv\",\n",
    "    delimiter=','\n",
    ")"
   ]
  },
  {
   "cell_type": "code",
   "execution_count": 45,
   "metadata": {},
   "outputs": [],
   "source": [
    "model = SGDOptimizer(\n",
    "    predict_constraints=True\n",
    ")"
   ]
  },
  {
   "cell_type": "code",
   "execution_count": 35,
   "metadata": {},
   "outputs": [
    {
     "data": {
      "text/plain": [
       "2"
      ]
     },
     "execution_count": 35,
     "metadata": {},
     "output_type": "execute_result"
    }
   ],
   "source": [
    "len(X.shape)"
   ]
  },
  {
   "cell_type": "code",
   "execution_count": 36,
   "metadata": {},
   "outputs": [
    {
     "data": {
      "text/plain": [
       "1"
      ]
     },
     "execution_count": 36,
     "metadata": {},
     "output_type": "execute_result"
    }
   ],
   "source": [
    "len(Theta.shape)"
   ]
  },
  {
   "cell_type": "code",
   "execution_count": 37,
   "metadata": {},
   "outputs": [],
   "source": [
    "X = model.reshape(X)\n",
    "Theta = model.reshape(Theta)"
   ]
  },
  {
   "cell_type": "code",
   "execution_count": 42,
   "metadata": {},
   "outputs": [
    {
     "data": {
      "text/plain": [
       "array([[1.24923894, 1.12970877, 1.21315456, ..., 1.8074294 , 3.41212778,\n",
       "        2.86239464],\n",
       "       [1.67671302, 1.26808274, 1.2040384 , ..., 1.35538666, 0.40702561,\n",
       "        4.652524  ],\n",
       "       [0.14451788, 0.26356898, 0.46007917, ..., 0.32758148, 2.13492821,\n",
       "        2.90840964],\n",
       "       [1.58347339, 1.28132935, 1.23199482, ..., 3.88777802, 2.36396463,\n",
       "        4.83031773],\n",
       "       [0.30269049, 0.22962143, 0.26632455, ..., 4.56429651, 3.14049238,\n",
       "        0.22094613]])"
      ]
     },
     "execution_count": 42,
     "metadata": {},
     "output_type": "execute_result"
    }
   ],
   "source": [
    "X"
   ]
  },
  {
   "cell_type": "code",
   "execution_count": 41,
   "metadata": {},
   "outputs": [
    {
     "data": {
      "text/plain": [
       "array([[ 0.2481517 ,  0.69565532,  0.36150061, ...,  0.86570183,\n",
       "         0.3846949 ,  1.59075602],\n",
       "       [ 1.98875554,  0.87053267,  0.43516226, ...,  0.94512114,\n",
       "         0.72597324,  0.64512891],\n",
       "       [-0.66071818,  0.18041338,  0.6715261 , ..., -0.07737793,\n",
       "         0.03356071,  0.83982544],\n",
       "       [ 0.39120768,  0.91449841,  0.95245048, ...,  0.88657342,\n",
       "         1.02779107,  0.12804095],\n",
       "       [-0.31456773, -0.04147991,  0.12534207, ...,  0.01744484,\n",
       "         0.19229549,  0.25696118]])"
      ]
     },
     "execution_count": 41,
     "metadata": {},
     "output_type": "execute_result"
    }
   ],
   "source": [
    "Theta"
   ]
  },
  {
   "cell_type": "code",
   "execution_count": 40,
   "metadata": {},
   "outputs": [
    {
     "data": {
      "text/plain": [
       "(5, 2113)"
      ]
     },
     "execution_count": 40,
     "metadata": {},
     "output_type": "execute_result"
    }
   ],
   "source": [
    "Theta.shape"
   ]
  },
  {
   "cell_type": "code",
   "execution_count": 46,
   "metadata": {},
   "outputs": [],
   "source": [
    "y_pred = model.predict(Theta, X)"
   ]
  },
  {
   "cell_type": "code",
   "execution_count": 47,
   "metadata": {},
   "outputs": [
    {
     "data": {
      "text/plain": [
       "array([[4.07333778, 3.05713531, 2.78979046, ..., 3.0127586 , 0.18251744,\n",
       "        5.        ],\n",
       "       [3.79027446, 3.09959571, 3.09070681, ..., 5.        , 5.        ,\n",
       "        5.        ],\n",
       "       [2.82441024, 2.38638959, 2.47825909, ..., 5.        , 5.        ,\n",
       "        5.        ],\n",
       "       ...,\n",
       "       [4.06412868, 3.29608659, 3.24949215, ..., 5.        , 5.        ,\n",
       "        5.        ],\n",
       "       [3.38836059, 2.72512693, 2.6736809 , ..., 5.        , 4.71333182,\n",
       "        5.        ],\n",
       "       [3.47082935, 3.05958622, 3.31915995, ..., 5.        , 5.        ,\n",
       "        5.        ]])"
      ]
     },
     "execution_count": 47,
     "metadata": {},
     "output_type": "execute_result"
    }
   ],
   "source": [
    "y_pred"
   ]
  },
  {
   "cell_type": "code",
   "execution_count": 48,
   "metadata": {},
   "outputs": [
    {
     "data": {
      "text/plain": [
       "0.919108212255224"
      ]
     },
     "execution_count": 48,
     "metadata": {},
     "output_type": "execute_result"
    }
   ],
   "source": [
    "model.rms(y_test, y_pred)"
   ]
  },
  {
   "cell_type": "code",
   "execution_count": 66,
   "metadata": {},
   "outputs": [],
   "source": [
    "error = (y_test - y_pred)[y_test.nonzero()]\n",
    "abs_error = np.abs(error)"
   ]
  },
  {
   "cell_type": "code",
   "execution_count": 57,
   "metadata": {},
   "outputs": [],
   "source": [
    "user, movie = y_test.nonzero()"
   ]
  },
  {
   "cell_type": "code",
   "execution_count": 64,
   "metadata": {},
   "outputs": [
    {
     "data": {
      "text/plain": [
       "Text(0.5, 1.0, 'Error distribution')"
      ]
     },
     "execution_count": 64,
     "metadata": {},
     "output_type": "execute_result"
    },
    {
     "data": {
      "image/png": "[encoded data removed]",
      "text/plain": [
       "<Figure size 360x360 with 1 Axes>"
      ]
     },
     "metadata": {
      "needs_background": "light"
     },
     "output_type": "display_data"
    }
   ],
   "source": [
    "sns.displot(error)\n",
    "plt.title(\"Error distribution\")"
   ]
  },
  {
   "cell_type": "code",
   "execution_count": 67,
   "metadata": {},
   "outputs": [
    {
     "data": {
      "text/plain": [
       "Text(0.5, 1.0, 'Abs error distribution')"
      ]
     },
     "execution_count": 67,
     "metadata": {},
     "output_type": "execute_result"
    },
    {
     "data": {
      "image/png": "[encoded data removed]",
      "text/plain": [
       "<Figure size 360x360 with 1 Axes>"
      ]
     },
     "metadata": {
      "needs_background": "light"
     },
     "output_type": "display_data"
    }
   ],
   "source": [
    "sns.displot(abs_error)\n",
    "plt.title(\"Abs error distribution\")"
   ]
  },
  {
   "cell_type": "code",
   "execution_count": 68,
   "metadata": {},
   "outputs": [
    {
     "data": {
      "text/plain": [
       "{'Mean absolute error': 0.7114945111778948,\n",
       " 'Median absolute error': 0.5770899197462833,\n",
       " '0.9 Quantile absolute error': 1.4921992724317463}"
      ]
     },
     "execution_count": 68,
     "metadata": {},
     "output_type": "execute_result"
    }
   ],
   "source": [
    "{\n",
    "    \"Mean absolute error\" : np.mean(abs_error),\n",
    "    \"Median absolute error\": np.median(abs_error),\n",
    "    \"0.9 Quantile absolute error\": np.quantile(abs_error, 0.9)\n",
    "}"
   ]
  },
  {
   "attachments": {},
   "cell_type": "markdown",
   "metadata": {},
   "source": [
    "## Results\n",
    "\n",
    "* The final model had \n",
    "    * 0.9 RMSE (root mean squared error), \n",
    "    * 0.7 MAE (mean absolute error), \n",
    "    * 0.57 MAD (median absolute deviation)\n",
    "    * 90% of the absolute errors are less than 1.5"
   ]
  },
  {
   "cell_type": "code",
   "execution_count": null,
   "metadata": {},
   "outputs": [],
   "source": []
  },
  {
   "cell_type": "code",
   "execution_count": null,
   "metadata": {},
   "outputs": [],
   "source": []
  }
 ],
 "metadata": {
  "kernelspec": {
   "display_name": "base",
   "language": "python",
   "name": "python3"
  },
  "language_info": {
   "codemirror_mode": {
    "name": "ipython",
    "version": 3
   },
   "file_extension": ".py",
   "mimetype": "text/x-python",
   "name": "python",
   "nbconvert_exporter": "python",
   "pygments_lexer": "ipython3",
   "version": "3.9.12"
  },
  "orig_nbformat": 4,
  "vscode": {
   "interpreter": {
    "hash": "f08154012ddadd8e950e6e9e035c7a7b32c136e7647e9b7c77e02eb723a8bedb"
   }
  }
 },
 "nbformat": 4,
 "nbformat_minor": 2
}
